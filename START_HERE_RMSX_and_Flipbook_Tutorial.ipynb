{
 "cells": [
  {
   "cell_type": "markdown",
   "id": "d6de7586",
   "metadata": {},
   "source": [
    "# RMSX Demonstration\n",
    "\n",
    "This notebook provides an end-to-end example of how to use **RMSX** for analyzing\n",
    "molecular dynamics (MD) simulations. We'll show how to:\n",
    "\n",
    "1. Set up the environment and install dependencies\n",
    "2. Prepare input files (structure and trajectory)\n",
    "3. Run RMSX on a single chain\n",
    "4. Run RMSX on multiple chains simultaneously\n",
    "5. Generate FlipBook snapshots to visualize your protein movements\n",
    "6. Display and interpret the results\n",
    "\n",
    "> **Note:** Adjust file paths to match your local environment."
   ]
  },
  {
   "cell_type": "markdown",
   "id": "9b3fe5f3",
   "metadata": {},
   "source": [
    "## 1. Environment Setup\n",
    "\n",
    "If you haven't done so already, install R, `rpy2`, and the required R packages.\n",
    "Below are examples of installing packages both in Python (for the notebook side)\n",
    "and R (for the plotting steps)."
   ]
  },
  {
   "cell_type": "code",
   "execution_count": 1,
   "id": "358dea79",
   "metadata": {
    "ExecuteTime": {
     "end_time": "2025-08-07T21:14:18.161986Z",
     "start_time": "2025-08-07T21:14:15.605949Z"
    }
   },
   "outputs": [
    {
     "name": "stdout",
     "output_type": "stream",
     "text": [
      "Requirement already satisfied: rpy2 in /Users/finn/Library/r-miniconda-arm64/lib/python3.10/site-packages (3.6.2)\n",
      "Requirement already satisfied: rpy2-rinterface>=3.6.2 in /Users/finn/Library/r-miniconda-arm64/lib/python3.10/site-packages (from rpy2) (3.6.2)\n",
      "Requirement already satisfied: rpy2-robjects>=3.6.1 in /Users/finn/Library/r-miniconda-arm64/lib/python3.10/site-packages (from rpy2) (3.6.1)\n",
      "Requirement already satisfied: cffi>=1.15.1 in /Users/finn/Library/r-miniconda-arm64/lib/python3.10/site-packages (from rpy2-rinterface>=3.6.2->rpy2) (1.17.1)\n",
      "Requirement already satisfied: tzlocal in /Users/finn/Library/r-miniconda-arm64/lib/python3.10/site-packages (from rpy2-robjects>=3.6.1->rpy2) (5.3.1)\n",
      "Requirement already satisfied: jinja2 in /Users/finn/Library/r-miniconda-arm64/lib/python3.10/site-packages (from rpy2-robjects>=3.6.1->rpy2) (3.1.6)\n",
      "Requirement already satisfied: pycparser in /Users/finn/Library/r-miniconda-arm64/lib/python3.10/site-packages (from cffi>=1.15.1->rpy2-rinterface>=3.6.2->rpy2) (2.22)\n",
      "Requirement already satisfied: MarkupSafe>=2.0 in /Users/finn/Library/r-miniconda-arm64/lib/python3.10/site-packages (from jinja2->rpy2-robjects>=3.6.1->rpy2) (3.0.2)\n"
     ]
    },
    {
     "name": "stderr",
     "output_type": "stream",
     "text": [
      "Error importing in API mode: ImportError(\"dlopen(/Users/finn/Library/r-miniconda-arm64/lib/python3.10/site-packages/_rinterface_cffi_api.abi3.so, 0x0002): Library not loaded: /Library/Frameworks/R.framework/Versions/4.5-arm64/Resources/lib/libRblas.dylib\\n  Referenced from: <5D5850CD-D7D2-34AF-AE34-CAB615F2444F> /Users/finn/Library/r-miniconda-arm64/lib/python3.10/site-packages/_rinterface_cffi_api.abi3.so\\n  Reason: tried: '/Library/Frameworks/R.framework/Versions/4.5-arm64/Resources/lib/libRblas.dylib' (no such file), '/System/Volumes/Preboot/Cryptexes/OS/Library/Frameworks/R.framework/Versions/4.5-arm64/Resources/lib/libRblas.dylib' (no such file), '/Library/Frameworks/R.framework/Versions/4.5-arm64/Resources/lib/libRblas.dylib' (no such file)\")\n",
      "Trying to import in ABI mode.\n"
     ]
    }
   ],
   "source": [
    "!pip install rpy2  # Enables using R within this Python notebook, this takes a few minutes\n",
    "%load_ext rpy2.ipython"
   ]
  },
  {
   "cell_type": "markdown",
   "id": "a9e99914",
   "metadata": {},
   "source": [
    "### 1.1 Install R Libraries\n",
    "\n",
    "We use ggplot2 for heatmaps, viridis for color palettes, and a few other libraries\n",
    "for data manipulation and plotting. You can tweak or remove any packages you don't need."
   ]
  },
  {
   "cell_type": "code",
   "execution_count": 2,
   "id": "bd91c4ba",
   "metadata": {
    "ExecuteTime": {
     "end_time": "2025-08-07T21:14:40.167036Z",
     "start_time": "2025-08-07T21:14:27.942723Z"
    },
    "language": "R"
   },
   "outputs": [
    {
     "name": "stdout",
     "output_type": "stream",
     "text": [
      "\n",
      "The downloaded binary packages are in\n",
      "\t/var/folders/y6/30y4_6m171g7b2mczs5c9h140000gn/T//RtmpF8UJg1/downloaded_packages\n"
     ]
    },
    {
     "data": {
      "text/plain": [
       "trying URL 'http://cran.r-project.org/bin/macosx/big-sur-arm64/contrib/4.4/ggplot2_3.5.2.tgz'\n",
       "Content type 'application/x-gzip' length 4969589 bytes (4.7 MB)\n",
       "==================================================\n",
       "downloaded 4.7 MB\n",
       "\n",
       "trying URL 'http://cran.r-project.org/bin/macosx/big-sur-arm64/contrib/4.4/viridis_0.6.5.tgz'\n",
       "Content type 'application/x-gzip' length 3016921 bytes (2.9 MB)\n",
       "==================================================\n",
       "downloaded 2.9 MB\n",
       "\n",
       "trying URL 'http://cran.r-project.org/bin/macosx/big-sur-arm64/contrib/4.4/dplyr_1.1.4.tgz'\n",
       "Content type 'application/x-gzip' length 1599250 bytes (1.5 MB)\n",
       "==================================================\n",
       "downloaded 1.5 MB\n",
       "\n",
       "trying URL 'http://cran.r-project.org/bin/macosx/big-sur-arm64/contrib/4.4/tidyr_1.3.1.tgz'\n",
       "Content type 'application/x-gzip' length 1325559 bytes (1.3 MB)\n",
       "==================================================\n",
       "downloaded 1.3 MB\n",
       "\n",
       "trying URL 'http://cran.r-project.org/bin/macosx/big-sur-arm64/contrib/4.4/stringr_1.5.1.tgz'\n",
       "Content type 'application/x-gzip' length 314273 bytes (306 KB)\n",
       "==================================================\n",
       "downloaded 306 KB\n",
       "\n",
       "trying URL 'http://cran.r-project.org/bin/macosx/big-sur-arm64/contrib/4.4/readr_2.1.5.tgz'\n",
       "Content type 'application/x-gzip' length 1970418 bytes (1.9 MB)\n",
       "==================================================\n",
       "downloaded 1.9 MB\n",
       "\n",
       "trying URL 'http://cran.r-project.org/bin/macosx/big-sur-arm64/contrib/4.4/gridExtra_2.3.tgz'\n",
       "Content type 'application/x-gzip' length 1105951 bytes (1.1 MB)\n",
       "==================================================\n",
       "downloaded 1.1 MB\n",
       "\n",
       "In addition: Warning message:\n",
       "package ‘grid’ is a base package, and should not be updated \n"
      ]
     },
     "metadata": {},
     "output_type": "display_data"
    }
   ],
   "source": [
    "%%R\n",
    "install.packages(c(\"ggplot2\", \"viridis\", \"dplyr\", \"tidyr\", \"stringr\", \"readr\", \"gridExtra\", \"grid\"),\n",
    "                 repos='http://cran.r-project.org/')"
   ]
  },
  {
   "cell_type": "markdown",
   "id": "f185bc09",
   "metadata": {},
   "source": [
    "### 1.2 Clone RMSX Repository and Install Locally\n",
    "\n",
    "If you haven’t already, clone the RMSX GitHub repo and install it in editable mode."
   ]
  },
  {
   "cell_type": "code",
   "execution_count": 7,
   "id": "7f3104d9",
   "metadata": {
    "ExecuteTime": {
     "end_time": "2025-08-07T21:18:34.691285Z",
     "start_time": "2025-08-07T21:18:32.747380Z"
    },
    "collapsed": false,
    "jupyter": {
     "outputs_hidden": false
    }
   },
   "outputs": [
    {
     "name": "stdout",
     "output_type": "stream",
     "text": [
      "fatal: destination path 'rmsx' already exists and is not an empty directory.\n",
      "Obtaining file:///Users/finn/Documents/GitHub/rmsx_paper_files/rmsx/rmsx\n",
      "  Preparing metadata (setup.py) ... \u001b[?25ldone\n",
      "\u001b[?25hRequirement already satisfied: MDAnalysis>=2.0.0 in /Users/finn/Library/r-miniconda-arm64/lib/python3.10/site-packages (from rmsx-timeseries-rmsf==0.1.0) (2.7.0)\n",
      "Requirement already satisfied: pandas>=1.1.0 in /Users/finn/Library/r-miniconda-arm64/lib/python3.10/site-packages (from rmsx-timeseries-rmsf==0.1.0) (2.2.3)\n",
      "Requirement already satisfied: plotly>=4.14.3 in /Users/finn/Library/r-miniconda-arm64/lib/python3.10/site-packages (from rmsx-timeseries-rmsf==0.1.0) (6.0.1)\n",
      "Requirement already satisfied: fasteners in /Users/finn/Library/r-miniconda-arm64/lib/python3.10/site-packages (from MDAnalysis>=2.0.0->rmsx-timeseries-rmsf==0.1.0) (0.19)\n",
      "Requirement already satisfied: mda-xdrlib in /Users/finn/Library/r-miniconda-arm64/lib/python3.10/site-packages (from MDAnalysis>=2.0.0->rmsx-timeseries-rmsf==0.1.0) (0.2.0)\n",
      "Requirement already satisfied: joblib>=0.12 in /Users/finn/Library/r-miniconda-arm64/lib/python3.10/site-packages (from MDAnalysis>=2.0.0->rmsx-timeseries-rmsf==0.1.0) (1.4.2)\n",
      "Requirement already satisfied: threadpoolctl in /Users/finn/Library/r-miniconda-arm64/lib/python3.10/site-packages (from MDAnalysis>=2.0.0->rmsx-timeseries-rmsf==0.1.0) (3.5.0)\n",
      "Requirement already satisfied: scipy>=1.5.0 in /Users/finn/Library/r-miniconda-arm64/lib/python3.10/site-packages (from MDAnalysis>=2.0.0->rmsx-timeseries-rmsf==0.1.0) (1.14.1)\n",
      "Requirement already satisfied: matplotlib>=1.5.1 in /Users/finn/Library/r-miniconda-arm64/lib/python3.10/site-packages (from MDAnalysis>=2.0.0->rmsx-timeseries-rmsf==0.1.0) (3.9.2)\n",
      "Requirement already satisfied: tqdm>=4.43.0 in /Users/finn/Library/r-miniconda-arm64/lib/python3.10/site-packages (from MDAnalysis>=2.0.0->rmsx-timeseries-rmsf==0.1.0) (4.67.1)\n",
      "Requirement already satisfied: mmtf-python>=1.0.0 in /Users/finn/Library/r-miniconda-arm64/lib/python3.10/site-packages (from MDAnalysis>=2.0.0->rmsx-timeseries-rmsf==0.1.0) (1.1.3)\n",
      "Requirement already satisfied: GridDataFormats>=0.4.0 in /Users/finn/Library/r-miniconda-arm64/lib/python3.10/site-packages (from MDAnalysis>=2.0.0->rmsx-timeseries-rmsf==0.1.0) (1.0.2)\n",
      "Requirement already satisfied: packaging in /Users/finn/Library/r-miniconda-arm64/lib/python3.10/site-packages (from MDAnalysis>=2.0.0->rmsx-timeseries-rmsf==0.1.0) (25.0)\n",
      "Requirement already satisfied: numpy<2.0,>=1.22.3 in /Users/finn/Library/r-miniconda-arm64/lib/python3.10/site-packages (from MDAnalysis>=2.0.0->rmsx-timeseries-rmsf==0.1.0) (1.26.4)\n",
      "Requirement already satisfied: pytz>=2020.1 in /Users/finn/Library/r-miniconda-arm64/lib/python3.10/site-packages (from pandas>=1.1.0->rmsx-timeseries-rmsf==0.1.0) (2024.2)\n",
      "Requirement already satisfied: python-dateutil>=2.8.2 in /Users/finn/Library/r-miniconda-arm64/lib/python3.10/site-packages (from pandas>=1.1.0->rmsx-timeseries-rmsf==0.1.0) (2.9.0.post0)\n",
      "Requirement already satisfied: tzdata>=2022.7 in /Users/finn/Library/r-miniconda-arm64/lib/python3.10/site-packages (from pandas>=1.1.0->rmsx-timeseries-rmsf==0.1.0) (2024.2)\n",
      "Requirement already satisfied: narwhals>=1.15.1 in /Users/finn/Library/r-miniconda-arm64/lib/python3.10/site-packages (from plotly>=4.14.3->rmsx-timeseries-rmsf==0.1.0) (1.38.2)\n",
      "Requirement already satisfied: mrcfile in /Users/finn/Library/r-miniconda-arm64/lib/python3.10/site-packages (from GridDataFormats>=0.4.0->MDAnalysis>=2.0.0->rmsx-timeseries-rmsf==0.1.0) (1.5.3)\n",
      "Requirement already satisfied: contourpy>=1.0.1 in /Users/finn/Library/r-miniconda-arm64/lib/python3.10/site-packages (from matplotlib>=1.5.1->MDAnalysis>=2.0.0->rmsx-timeseries-rmsf==0.1.0) (1.3.0)\n",
      "Requirement already satisfied: kiwisolver>=1.3.1 in /Users/finn/Library/r-miniconda-arm64/lib/python3.10/site-packages (from matplotlib>=1.5.1->MDAnalysis>=2.0.0->rmsx-timeseries-rmsf==0.1.0) (1.4.7)\n",
      "Requirement already satisfied: fonttools>=4.22.0 in /Users/finn/Library/r-miniconda-arm64/lib/python3.10/site-packages (from matplotlib>=1.5.1->MDAnalysis>=2.0.0->rmsx-timeseries-rmsf==0.1.0) (4.54.1)\n",
      "Requirement already satisfied: pyparsing>=2.3.1 in /Users/finn/Library/r-miniconda-arm64/lib/python3.10/site-packages (from matplotlib>=1.5.1->MDAnalysis>=2.0.0->rmsx-timeseries-rmsf==0.1.0) (3.1.4)\n",
      "Requirement already satisfied: pillow>=8 in /Users/finn/Library/r-miniconda-arm64/lib/python3.10/site-packages (from matplotlib>=1.5.1->MDAnalysis>=2.0.0->rmsx-timeseries-rmsf==0.1.0) (10.4.0)\n",
      "Requirement already satisfied: cycler>=0.10 in /Users/finn/Library/r-miniconda-arm64/lib/python3.10/site-packages (from matplotlib>=1.5.1->MDAnalysis>=2.0.0->rmsx-timeseries-rmsf==0.1.0) (0.12.1)\n",
      "Requirement already satisfied: msgpack>=1.0.0 in /Users/finn/Library/r-miniconda-arm64/lib/python3.10/site-packages (from mmtf-python>=1.0.0->MDAnalysis>=2.0.0->rmsx-timeseries-rmsf==0.1.0) (1.1.0)\n",
      "Requirement already satisfied: six>=1.5 in /Users/finn/Library/r-miniconda-arm64/lib/python3.10/site-packages (from python-dateutil>=2.8.2->pandas>=1.1.0->rmsx-timeseries-rmsf==0.1.0) (1.17.0)\n",
      "Installing collected packages: rmsx-timeseries-rmsf\n",
      "  Attempting uninstall: rmsx-timeseries-rmsf\n",
      "    Found existing installation: rmsx-timeseries-rmsf 0.1.0\n",
      "    Uninstalling rmsx-timeseries-rmsf-0.1.0:\n",
      "      Successfully uninstalled rmsx-timeseries-rmsf-0.1.0\n",
      "  Running setup.py develop for rmsx-timeseries-rmsf\n",
      "Successfully installed rmsx-timeseries-rmsf-0.1.0\n"
     ]
    }
   ],
   "source": [
    "import os\n",
    "os.chdir(\"rmsx\")  # repo root\n",
    "from rmsx import run_rmsx"
   ]
  },
  {
   "cell_type": "code",
   "execution_count": 14,
   "id": "81874b8e-2f79-4906-b0ab-975ba8f14068",
   "metadata": {},
   "outputs": [],
   "source": [
    "\n",
    "from rmsx.rmsx import run_rmsx "
   ]
  },
  {
   "cell_type": "markdown",
   "id": "b0e9d248",
   "metadata": {},
   "source": [
    "## 2. Data Preparation\n",
    "\n",
    "In this section, we'll define paths to our structure (`.pdb`) and trajectory\n",
    "(`.xtc` or `.dcd`) files. Make sure to update these paths with your own data."
   ]
  },
  {
   "cell_type": "code",
   "execution_count": 15,
   "id": "b3a32074",
   "metadata": {
    "ExecuteTime": {
     "end_time": "2025-08-07T21:15:43.532711Z",
     "start_time": "2025-08-07T21:15:42.134566Z"
    },
    "collapsed": false,
    "jupyter": {
     "outputs_hidden": false
    }
   },
   "outputs": [],
   "source": [
    "from rmsx.rmsx import all_chain_rmsx, run_rmsx, run_rmsx_flipbook "
   ]
  },
  {
   "cell_type": "code",
   "execution_count": 20,
   "id": "8b94519a-dda5-4e4e-8626-1d61e91c89b4",
   "metadata": {},
   "outputs": [
    {
     "ename": "FileNotFoundError",
     "evalue": "[Errno 2] No such file or directory: '/Users/finn/Documents/GitHub/rmsx_paper_files/rmsx/rmsx/rmsx/rmsx.rmsx/test_files/1UBQ.pdb'",
     "output_type": "error",
     "traceback": [
      "\u001b[0;31m---------------------------------------------------------------------------\u001b[0m",
      "\u001b[0;31mFileNotFoundError\u001b[0m                         Traceback (most recent call last)",
      "    \u001b[0;31m[... skipping hidden 1 frame]\u001b[0m\n",
      "Cell \u001b[0;32mIn[20], line 16\u001b[0m\n\u001b[1;32m     12\u001b[0m output_dir  \u001b[38;5;241m=\u001b[39m os\u001b[38;5;241m.\u001b[39mpath\u001b[38;5;241m.\u001b[39mjoin(repo_dir, \u001b[38;5;124m\"\u001b[39m\u001b[38;5;124mtest_files\u001b[39m\u001b[38;5;124m\"\u001b[39m, \u001b[38;5;124m\"\u001b[39m\u001b[38;5;124mexample1\u001b[39m\u001b[38;5;124m\"\u001b[39m) \u001b[38;5;66;03m# this will be where the new directory will be made\u001b[39;00m\n\u001b[0;32m---> 16\u001b[0m \u001b[43mrun_rmsx\u001b[49m\u001b[43m(\u001b[49m\n\u001b[1;32m     17\u001b[0m \u001b[43m    \u001b[49m\u001b[43mtopology_file\u001b[49m\u001b[38;5;241;43m=\u001b[39;49m\u001b[43mpdb_file\u001b[49m\u001b[43m,\u001b[49m\n\u001b[1;32m     18\u001b[0m \u001b[43m    \u001b[49m\u001b[43mtrajectory_file\u001b[49m\u001b[38;5;241;43m=\u001b[39;49m\u001b[43mdcd_file\u001b[49m\u001b[43m,\u001b[49m\n\u001b[1;32m     19\u001b[0m \u001b[43m    \u001b[49m\u001b[43moutput_dir\u001b[49m\u001b[38;5;241;43m=\u001b[39;49m\u001b[43moutput_dir\u001b[49m\u001b[43m,\u001b[49m\n\u001b[1;32m     20\u001b[0m \u001b[43m    \u001b[49m\u001b[43mnum_slices\u001b[49m\u001b[38;5;241;43m=\u001b[39;49m\u001b[38;5;241;43m9\u001b[39;49m\u001b[43m,\u001b[49m\n\u001b[1;32m     21\u001b[0m \u001b[43m    \u001b[49m\u001b[43mslice_size\u001b[49m\u001b[38;5;241;43m=\u001b[39;49m\u001b[38;5;28;43;01mNone\u001b[39;49;00m\u001b[43m,\u001b[49m\n\u001b[1;32m     22\u001b[0m \u001b[43m    \u001b[49m\u001b[43mrscript_executable\u001b[49m\u001b[38;5;241;43m=\u001b[39;49m\u001b[38;5;124;43m\"\u001b[39;49m\u001b[38;5;124;43mRscript\u001b[39;49m\u001b[38;5;124;43m\"\u001b[39;49m\u001b[43m,\u001b[49m\u001b[43m   \u001b[49m\u001b[38;5;66;43;03m# only change this if Rscript isn't in your PATH\u001b[39;49;00m\n\u001b[1;32m     23\u001b[0m \u001b[43m    \u001b[49m\u001b[43mverbose\u001b[49m\u001b[38;5;241;43m=\u001b[39;49m\u001b[38;5;28;43;01mFalse\u001b[39;49;00m\u001b[43m,\u001b[49m\n\u001b[1;32m     24\u001b[0m \u001b[43m    \u001b[49m\u001b[43minterpolate\u001b[49m\u001b[38;5;241;43m=\u001b[39;49m\u001b[38;5;28;43;01mFalse\u001b[39;49;00m\u001b[43m,\u001b[49m\n\u001b[1;32m     25\u001b[0m \u001b[43m    \u001b[49m\u001b[43mtriple\u001b[49m\u001b[38;5;241;43m=\u001b[39;49m\u001b[38;5;28;43;01mTrue\u001b[39;49;00m\u001b[43m,\u001b[49m\n\u001b[1;32m     26\u001b[0m \u001b[43m    \u001b[49m\u001b[43moverwrite\u001b[49m\u001b[38;5;241;43m=\u001b[39;49m\u001b[38;5;28;43;01mTrue\u001b[39;49;00m\u001b[43m,\u001b[49m\n\u001b[1;32m     27\u001b[0m \u001b[43m    \u001b[49m\u001b[43mpalette\u001b[49m\u001b[38;5;241;43m=\u001b[39;49m\u001b[38;5;124;43m\"\u001b[39;49m\u001b[38;5;124;43mmako\u001b[39;49m\u001b[38;5;124;43m\"\u001b[39;49m\u001b[43m,\u001b[49m\n\u001b[1;32m     28\u001b[0m \u001b[43m    \u001b[49m\u001b[43mchain_sele\u001b[49m\u001b[38;5;241;43m=\u001b[39;49m\u001b[38;5;28;43;01mNone\u001b[39;49;00m\u001b[43m,\u001b[49m\u001b[43m \u001b[49m\u001b[38;5;66;43;03m# this protein has a somewhat unusual chain name \"7\"\u001b[39;49;00m\n\u001b[1;32m     29\u001b[0m \u001b[43m    \u001b[49m\u001b[43mstart_frame\u001b[49m\u001b[38;5;241;43m=\u001b[39;49m\u001b[38;5;241;43m0\u001b[39;49m\u001b[43m,\u001b[49m\n\u001b[1;32m     30\u001b[0m \u001b[43m    \u001b[49m\u001b[43mend_frame\u001b[49m\u001b[38;5;241;43m=\u001b[39;49m\u001b[38;5;28;43;01mNone\u001b[39;49;00m\n\u001b[1;32m     31\u001b[0m \u001b[43m)\u001b[49m\n",
      "File \u001b[0;32m~/Documents/GitHub/rmsx_paper_files/rmsx/rmsx/rmsx/rmsx.py:781\u001b[0m, in \u001b[0;36mrun_rmsx\u001b[0;34m(topology_file, trajectory_file, output_dir, num_slices, slice_size, rscript_executable, verbose, interpolate, triple, chain_sele, overwrite, palette, start_frame, end_frame, make_plot, analysis_type, summary_n, manual_length_ns, log_transform, custom_fill_label)\u001b[0m\n\u001b[1;32m    779\u001b[0m     output_dir \u001b[38;5;241m=\u001b[39m os\u001b[38;5;241m.\u001b[39mpath\u001b[38;5;241m.\u001b[39mjoin(os\u001b[38;5;241m.\u001b[39mgetcwd(), \u001b[38;5;124mf\u001b[39m\u001b[38;5;124m\"\u001b[39m\u001b[38;5;132;01m{\u001b[39;00mbase_name\u001b[38;5;132;01m}\u001b[39;00m\u001b[38;5;124m_rmsx\u001b[39m\u001b[38;5;124m\"\u001b[39m)\n\u001b[0;32m--> 781\u001b[0m u_top \u001b[38;5;241m=\u001b[39m \u001b[43mmda\u001b[49m\u001b[38;5;241;43m.\u001b[39;49m\u001b[43mUniverse\u001b[49m\u001b[43m(\u001b[49m\u001b[43mtopology_file\u001b[49m\u001b[43m)\u001b[49m\n\u001b[1;32m    782\u001b[0m chain_ids \u001b[38;5;241m=\u001b[39m np\u001b[38;5;241m.\u001b[39munique(u_top\u001b[38;5;241m.\u001b[39matoms\u001b[38;5;241m.\u001b[39msegids)\n",
      "File \u001b[0;32m~/Library/r-miniconda-arm64/lib/python3.10/site-packages/MDAnalysis/core/universe.py:356\u001b[0m, in \u001b[0;36mUniverse.__init__\u001b[0;34m(self, topology, all_coordinates, format, topology_format, transformations, guess_bonds, vdwradii, fudge_factor, lower_bound, in_memory, in_memory_step, *coordinates, **kwargs)\u001b[0m\n\u001b[1;32m    355\u001b[0m     \u001b[38;5;28mself\u001b[39m\u001b[38;5;241m.\u001b[39mfilename \u001b[38;5;241m=\u001b[39m _check_file_like(topology)\n\u001b[0;32m--> 356\u001b[0m     topology \u001b[38;5;241m=\u001b[39m \u001b[43m_topology_from_file_like\u001b[49m\u001b[43m(\u001b[49m\u001b[38;5;28;43mself\u001b[39;49m\u001b[38;5;241;43m.\u001b[39;49m\u001b[43mfilename\u001b[49m\u001b[43m,\u001b[49m\n\u001b[1;32m    357\u001b[0m \u001b[43m                                        \u001b[49m\u001b[43mtopology_format\u001b[49m\u001b[38;5;241;43m=\u001b[39;49m\u001b[43mtopology_format\u001b[49m\u001b[43m,\u001b[49m\n\u001b[1;32m    358\u001b[0m \u001b[43m                                        \u001b[49m\u001b[38;5;241;43m*\u001b[39;49m\u001b[38;5;241;43m*\u001b[39;49m\u001b[43mkwargs\u001b[49m\u001b[43m)\u001b[49m\n\u001b[1;32m    360\u001b[0m \u001b[38;5;28;01mif\u001b[39;00m topology \u001b[38;5;129;01mis\u001b[39;00m \u001b[38;5;129;01mnot\u001b[39;00m \u001b[38;5;28;01mNone\u001b[39;00m:\n",
      "File \u001b[0;32m~/Library/r-miniconda-arm64/lib/python3.10/site-packages/MDAnalysis/core/universe.py:118\u001b[0m, in \u001b[0;36m_topology_from_file_like\u001b[0;34m(topology_file, topology_format, **kwargs)\u001b[0m\n\u001b[1;32m    115\u001b[0m \u001b[38;5;28;01mif\u001b[39;00m (err\u001b[38;5;241m.\u001b[39merrno \u001b[38;5;129;01mis\u001b[39;00m \u001b[38;5;129;01mnot\u001b[39;00m \u001b[38;5;28;01mNone\u001b[39;00m \u001b[38;5;129;01mand\u001b[39;00m\n\u001b[1;32m    116\u001b[0m     errno\u001b[38;5;241m.\u001b[39merrorcode[err\u001b[38;5;241m.\u001b[39merrno] \u001b[38;5;129;01min\u001b[39;00m [\u001b[38;5;124m'\u001b[39m\u001b[38;5;124mENOENT\u001b[39m\u001b[38;5;124m'\u001b[39m, \u001b[38;5;124m'\u001b[39m\u001b[38;5;124mEACCES\u001b[39m\u001b[38;5;124m'\u001b[39m]):\n\u001b[1;32m    117\u001b[0m     \u001b[38;5;66;03m# Runs if the error is propagated due to no permission / file not found\u001b[39;00m\n\u001b[0;32m--> 118\u001b[0m     \u001b[38;5;28;01mraise\u001b[39;00m sys\u001b[38;5;241m.\u001b[39mexc_info()[\u001b[38;5;241m1\u001b[39m] \u001b[38;5;28;01mfrom\u001b[39;00m \u001b[38;5;21;01merr\u001b[39;00m\n\u001b[1;32m    119\u001b[0m \u001b[38;5;28;01melse\u001b[39;00m:\n\u001b[1;32m    120\u001b[0m     \u001b[38;5;66;03m# Runs when the parser fails\u001b[39;00m\n",
      "File \u001b[0;32m~/Library/r-miniconda-arm64/lib/python3.10/site-packages/MDAnalysis/core/universe.py:110\u001b[0m, in \u001b[0;36m_topology_from_file_like\u001b[0;34m(topology_file, topology_format, **kwargs)\u001b[0m\n\u001b[1;32m    109\u001b[0m     \u001b[38;5;28;01mwith\u001b[39;00m parser(topology_file) \u001b[38;5;28;01mas\u001b[39;00m p:\n\u001b[0;32m--> 110\u001b[0m         topology \u001b[38;5;241m=\u001b[39m \u001b[43mp\u001b[49m\u001b[38;5;241;43m.\u001b[39;49m\u001b[43mparse\u001b[49m\u001b[43m(\u001b[49m\u001b[38;5;241;43m*\u001b[39;49m\u001b[38;5;241;43m*\u001b[39;49m\u001b[43mkwargs\u001b[49m\u001b[43m)\u001b[49m\n\u001b[1;32m    111\u001b[0m \u001b[38;5;28;01mexcept\u001b[39;00m (\u001b[38;5;167;01mIOError\u001b[39;00m, \u001b[38;5;167;01mOSError\u001b[39;00m) \u001b[38;5;28;01mas\u001b[39;00m err:\n\u001b[1;32m    112\u001b[0m     \u001b[38;5;66;03m# There are 2 kinds of errors that might be raised here:\u001b[39;00m\n\u001b[1;32m    113\u001b[0m     \u001b[38;5;66;03m# one because the file isn't present\u001b[39;00m\n\u001b[1;32m    114\u001b[0m     \u001b[38;5;66;03m# or the permissions are bad, second when the parser fails\u001b[39;00m\n",
      "File \u001b[0;32m~/Library/r-miniconda-arm64/lib/python3.10/site-packages/MDAnalysis/topology/PDBParser.py:210\u001b[0m, in \u001b[0;36mPDBParser.parse\u001b[0;34m(self, **kwargs)\u001b[0m\n\u001b[1;32m    204\u001b[0m \u001b[38;5;250m\u001b[39m\u001b[38;5;124;03m\"\"\"Parse atom information from PDB file\u001b[39;00m\n\u001b[1;32m    205\u001b[0m \n\u001b[1;32m    206\u001b[0m \u001b[38;5;124;03mReturns\u001b[39;00m\n\u001b[1;32m    207\u001b[0m \u001b[38;5;124;03m-------\u001b[39;00m\n\u001b[1;32m    208\u001b[0m \u001b[38;5;124;03mMDAnalysis Topology object\u001b[39;00m\n\u001b[1;32m    209\u001b[0m \u001b[38;5;124;03m\"\"\"\u001b[39;00m\n\u001b[0;32m--> 210\u001b[0m top \u001b[38;5;241m=\u001b[39m \u001b[38;5;28;43mself\u001b[39;49m\u001b[38;5;241;43m.\u001b[39;49m\u001b[43m_parseatoms\u001b[49m\u001b[43m(\u001b[49m\u001b[43m)\u001b[49m\n\u001b[1;32m    212\u001b[0m \u001b[38;5;28;01mtry\u001b[39;00m:\n",
      "File \u001b[0;32m~/Library/r-miniconda-arm64/lib/python3.10/site-packages/MDAnalysis/topology/PDBParser.py:247\u001b[0m, in \u001b[0;36mPDBParser._parseatoms\u001b[0;34m(self)\u001b[0m\n\u001b[1;32m    246\u001b[0m last_wrapped_serial \u001b[38;5;241m=\u001b[39m \u001b[38;5;241m100000\u001b[39m  \u001b[38;5;66;03m# if serials wrap, start from here\u001b[39;00m\n\u001b[0;32m--> 247\u001b[0m \u001b[38;5;28;01mwith\u001b[39;00m util\u001b[38;5;241m.\u001b[39mopenany(\u001b[38;5;28mself\u001b[39m\u001b[38;5;241m.\u001b[39mfilename) \u001b[38;5;28;01mas\u001b[39;00m f:\n\u001b[1;32m    248\u001b[0m     \u001b[38;5;28;01mfor\u001b[39;00m line \u001b[38;5;129;01min\u001b[39;00m f:\n",
      "File \u001b[0;32m~/Library/r-miniconda-arm64/lib/python3.10/contextlib.py:135\u001b[0m, in \u001b[0;36m_GeneratorContextManager.__enter__\u001b[0;34m(self)\u001b[0m\n\u001b[1;32m    134\u001b[0m \u001b[38;5;28;01mtry\u001b[39;00m:\n\u001b[0;32m--> 135\u001b[0m     \u001b[38;5;28;01mreturn\u001b[39;00m \u001b[38;5;28;43mnext\u001b[39;49m\u001b[43m(\u001b[49m\u001b[38;5;28;43mself\u001b[39;49m\u001b[38;5;241;43m.\u001b[39;49m\u001b[43mgen\u001b[49m\u001b[43m)\u001b[49m\n\u001b[1;32m    136\u001b[0m \u001b[38;5;28;01mexcept\u001b[39;00m \u001b[38;5;167;01mStopIteration\u001b[39;00m:\n",
      "File \u001b[0;32m~/Library/r-miniconda-arm64/lib/python3.10/site-packages/MDAnalysis/lib/util.py:318\u001b[0m, in \u001b[0;36mopenany\u001b[0;34m(datasource, mode, reset)\u001b[0m\n\u001b[1;32m    276\u001b[0m \u001b[38;5;250m\u001b[39m\u001b[38;5;124;03m\"\"\"Context manager for :func:`anyopen`.\u001b[39;00m\n\u001b[1;32m    277\u001b[0m \n\u001b[1;32m    278\u001b[0m \u001b[38;5;124;03mOpen the `datasource` and close it when the context of the :keyword:`with`\u001b[39;00m\n\u001b[0;32m   (...)\u001b[0m\n\u001b[1;32m    316\u001b[0m \u001b[38;5;124;03m:func:`anyopen`\u001b[39;00m\n\u001b[1;32m    317\u001b[0m \u001b[38;5;124;03m\"\"\"\u001b[39;00m\n\u001b[0;32m--> 318\u001b[0m stream \u001b[38;5;241m=\u001b[39m \u001b[43manyopen\u001b[49m\u001b[43m(\u001b[49m\u001b[43mdatasource\u001b[49m\u001b[43m,\u001b[49m\u001b[43m \u001b[49m\u001b[43mmode\u001b[49m\u001b[38;5;241;43m=\u001b[39;49m\u001b[43mmode\u001b[49m\u001b[43m,\u001b[49m\u001b[43m \u001b[49m\u001b[43mreset\u001b[49m\u001b[38;5;241;43m=\u001b[39;49m\u001b[43mreset\u001b[49m\u001b[43m)\u001b[49m\n\u001b[1;32m    319\u001b[0m \u001b[38;5;28;01mtry\u001b[39;00m:\n",
      "File \u001b[0;32m~/Library/r-miniconda-arm64/lib/python3.10/site-packages/MDAnalysis/lib/util.py:398\u001b[0m, in \u001b[0;36manyopen\u001b[0;34m(datasource, mode, reset)\u001b[0m\n\u001b[1;32m    397\u001b[0m openfunc \u001b[38;5;241m=\u001b[39m read_handlers[ext]\n\u001b[0;32m--> 398\u001b[0m stream \u001b[38;5;241m=\u001b[39m \u001b[43m_get_stream\u001b[49m\u001b[43m(\u001b[49m\u001b[43mdatasource\u001b[49m\u001b[43m,\u001b[49m\u001b[43m \u001b[49m\u001b[43mopenfunc\u001b[49m\u001b[43m,\u001b[49m\u001b[43m \u001b[49m\u001b[43mmode\u001b[49m\u001b[38;5;241;43m=\u001b[39;49m\u001b[43mmode\u001b[49m\u001b[43m)\u001b[49m\n\u001b[1;32m    399\u001b[0m \u001b[38;5;28;01mif\u001b[39;00m stream \u001b[38;5;129;01mis\u001b[39;00m \u001b[38;5;129;01mnot\u001b[39;00m \u001b[38;5;28;01mNone\u001b[39;00m:\n",
      "File \u001b[0;32m~/Library/r-miniconda-arm64/lib/python3.10/site-packages/MDAnalysis/lib/util.py:440\u001b[0m, in \u001b[0;36m_get_stream\u001b[0;34m(filename, openfunction, mode)\u001b[0m\n\u001b[1;32m    439\u001b[0m \u001b[38;5;28;01mif\u001b[39;00m errno\u001b[38;5;241m.\u001b[39merrorcode[err\u001b[38;5;241m.\u001b[39merrno] \u001b[38;5;129;01min\u001b[39;00m [\u001b[38;5;124m'\u001b[39m\u001b[38;5;124mENOENT\u001b[39m\u001b[38;5;124m'\u001b[39m, \u001b[38;5;124m'\u001b[39m\u001b[38;5;124mEACCES\u001b[39m\u001b[38;5;124m'\u001b[39m]:\n\u001b[0;32m--> 440\u001b[0m     \u001b[38;5;28;01mraise\u001b[39;00m sys\u001b[38;5;241m.\u001b[39mexc_info()[\u001b[38;5;241m1\u001b[39m] \u001b[38;5;28;01mfrom\u001b[39;00m \u001b[38;5;21;01merr\u001b[39;00m\n\u001b[1;32m    441\u001b[0m \u001b[38;5;28;01mreturn\u001b[39;00m \u001b[38;5;28;01mNone\u001b[39;00m\n",
      "File \u001b[0;32m~/Library/r-miniconda-arm64/lib/python3.10/site-packages/MDAnalysis/lib/util.py:434\u001b[0m, in \u001b[0;36m_get_stream\u001b[0;34m(filename, openfunction, mode)\u001b[0m\n\u001b[1;32m    433\u001b[0m \u001b[38;5;28;01mtry\u001b[39;00m:\n\u001b[0;32m--> 434\u001b[0m     stream \u001b[38;5;241m=\u001b[39m \u001b[43mopenfunction\u001b[49m\u001b[43m(\u001b[49m\u001b[43mfilename\u001b[49m\u001b[43m,\u001b[49m\u001b[43m \u001b[49m\u001b[43mmode\u001b[49m\u001b[38;5;241;43m=\u001b[39;49m\u001b[43mmode\u001b[49m\u001b[43m)\u001b[49m\n\u001b[1;32m    435\u001b[0m \u001b[38;5;28;01mexcept\u001b[39;00m (\u001b[38;5;167;01mIOError\u001b[39;00m, \u001b[38;5;167;01mOSError\u001b[39;00m) \u001b[38;5;28;01mas\u001b[39;00m err:\n\u001b[1;32m    436\u001b[0m     \u001b[38;5;66;03m# An exception might be raised due to two reasons, first the openfunction is unable to open the file, in this\u001b[39;00m\n\u001b[1;32m    437\u001b[0m     \u001b[38;5;66;03m# case we have to ignore the error and return None. Second is when openfunction can't open the file because\u001b[39;00m\n\u001b[1;32m    438\u001b[0m     \u001b[38;5;66;03m# either the file isn't there or the permissions don't allow access.\u001b[39;00m\n",
      "File \u001b[0;32m~/Library/r-miniconda-arm64/lib/python3.10/site-packages/MDAnalysis/lib/picklable_file_io.py:502\u001b[0m, in \u001b[0;36mbz2_pickle_open\u001b[0;34m(name, mode)\u001b[0m\n\u001b[1;32m    501\u001b[0m bz_mode \u001b[38;5;241m=\u001b[39m mode\u001b[38;5;241m.\u001b[39mreplace(\u001b[38;5;124m\"\u001b[39m\u001b[38;5;124mt\u001b[39m\u001b[38;5;124m\"\u001b[39m, \u001b[38;5;124m\"\u001b[39m\u001b[38;5;124m\"\u001b[39m)\n\u001b[0;32m--> 502\u001b[0m binary_file \u001b[38;5;241m=\u001b[39m \u001b[43mBZ2Picklable\u001b[49m\u001b[43m(\u001b[49m\u001b[43mname\u001b[49m\u001b[43m,\u001b[49m\u001b[43m \u001b[49m\u001b[43mbz_mode\u001b[49m\u001b[43m)\u001b[49m\n\u001b[1;32m    503\u001b[0m \u001b[38;5;28;01mif\u001b[39;00m \u001b[38;5;124m\"\u001b[39m\u001b[38;5;124mt\u001b[39m\u001b[38;5;124m\"\u001b[39m \u001b[38;5;129;01min\u001b[39;00m mode:\n",
      "File \u001b[0;32m~/Library/r-miniconda-arm64/lib/python3.10/site-packages/MDAnalysis/lib/picklable_file_io.py:283\u001b[0m, in \u001b[0;36mBZ2Picklable.__init__\u001b[0;34m(self, name, mode)\u001b[0m\n\u001b[1;32m    282\u001b[0m \u001b[38;5;28mself\u001b[39m\u001b[38;5;241m.\u001b[39m_bz_mode \u001b[38;5;241m=\u001b[39m mode\n\u001b[0;32m--> 283\u001b[0m \u001b[38;5;28;43msuper\u001b[39;49m\u001b[43m(\u001b[49m\u001b[43m)\u001b[49m\u001b[38;5;241;43m.\u001b[39;49m\u001b[38;5;21;43m__init__\u001b[39;49m\u001b[43m(\u001b[49m\u001b[43mname\u001b[49m\u001b[43m,\u001b[49m\u001b[43m \u001b[49m\u001b[43mmode\u001b[49m\u001b[43m)\u001b[49m\n",
      "File \u001b[0;32m~/Library/r-miniconda-arm64/lib/python3.10/bz2.py:81\u001b[0m, in \u001b[0;36mBZ2File.__init__\u001b[0;34m(self, filename, mode, compresslevel)\u001b[0m\n\u001b[1;32m     80\u001b[0m \u001b[38;5;28;01mif\u001b[39;00m \u001b[38;5;28misinstance\u001b[39m(filename, (\u001b[38;5;28mstr\u001b[39m, \u001b[38;5;28mbytes\u001b[39m, os\u001b[38;5;241m.\u001b[39mPathLike)):\n\u001b[0;32m---> 81\u001b[0m     \u001b[38;5;28mself\u001b[39m\u001b[38;5;241m.\u001b[39m_fp \u001b[38;5;241m=\u001b[39m \u001b[43m_builtin_open\u001b[49m\u001b[43m(\u001b[49m\u001b[43mfilename\u001b[49m\u001b[43m,\u001b[49m\u001b[43m \u001b[49m\u001b[43mmode\u001b[49m\u001b[43m)\u001b[49m\n\u001b[1;32m     82\u001b[0m     \u001b[38;5;28mself\u001b[39m\u001b[38;5;241m.\u001b[39m_closefp \u001b[38;5;241m=\u001b[39m \u001b[38;5;28;01mTrue\u001b[39;00m\n",
      "\u001b[0;31mFileNotFoundError\u001b[0m: [Errno 2] No such file or directory: '/Users/finn/Documents/GitHub/rmsx_paper_files/rmsx/rmsx/rmsx/rmsx.rmsx/test_files/1UBQ.pdb'",
      "\nThe above exception was the direct cause of the following exception:\n",
      "\u001b[0;31mFileNotFoundError\u001b[0m                         Traceback (most recent call last)",
      "    \u001b[0;31m[... skipping hidden 1 frame]\u001b[0m\n",
      "Cell \u001b[0;32mIn[20], line 16\u001b[0m\n\u001b[1;32m     12\u001b[0m output_dir  \u001b[38;5;241m=\u001b[39m os\u001b[38;5;241m.\u001b[39mpath\u001b[38;5;241m.\u001b[39mjoin(repo_dir, \u001b[38;5;124m\"\u001b[39m\u001b[38;5;124mtest_files\u001b[39m\u001b[38;5;124m\"\u001b[39m, \u001b[38;5;124m\"\u001b[39m\u001b[38;5;124mexample1\u001b[39m\u001b[38;5;124m\"\u001b[39m) \u001b[38;5;66;03m# this will be where the new directory will be made\u001b[39;00m\n\u001b[0;32m---> 16\u001b[0m \u001b[43mrun_rmsx\u001b[49m\u001b[43m(\u001b[49m\n\u001b[1;32m     17\u001b[0m \u001b[43m    \u001b[49m\u001b[43mtopology_file\u001b[49m\u001b[38;5;241;43m=\u001b[39;49m\u001b[43mpdb_file\u001b[49m\u001b[43m,\u001b[49m\n\u001b[1;32m     18\u001b[0m \u001b[43m    \u001b[49m\u001b[43mtrajectory_file\u001b[49m\u001b[38;5;241;43m=\u001b[39;49m\u001b[43mdcd_file\u001b[49m\u001b[43m,\u001b[49m\n\u001b[1;32m     19\u001b[0m \u001b[43m    \u001b[49m\u001b[43moutput_dir\u001b[49m\u001b[38;5;241;43m=\u001b[39;49m\u001b[43moutput_dir\u001b[49m\u001b[43m,\u001b[49m\n\u001b[1;32m     20\u001b[0m \u001b[43m    \u001b[49m\u001b[43mnum_slices\u001b[49m\u001b[38;5;241;43m=\u001b[39;49m\u001b[38;5;241;43m9\u001b[39;49m\u001b[43m,\u001b[49m\n\u001b[1;32m     21\u001b[0m \u001b[43m    \u001b[49m\u001b[43mslice_size\u001b[49m\u001b[38;5;241;43m=\u001b[39;49m\u001b[38;5;28;43;01mNone\u001b[39;49;00m\u001b[43m,\u001b[49m\n\u001b[1;32m     22\u001b[0m \u001b[43m    \u001b[49m\u001b[43mrscript_executable\u001b[49m\u001b[38;5;241;43m=\u001b[39;49m\u001b[38;5;124;43m\"\u001b[39;49m\u001b[38;5;124;43mRscript\u001b[39;49m\u001b[38;5;124;43m\"\u001b[39;49m\u001b[43m,\u001b[49m\u001b[43m   \u001b[49m\u001b[38;5;66;43;03m# only change this if Rscript isn't in your PATH\u001b[39;49;00m\n\u001b[1;32m     23\u001b[0m \u001b[43m    \u001b[49m\u001b[43mverbose\u001b[49m\u001b[38;5;241;43m=\u001b[39;49m\u001b[38;5;28;43;01mFalse\u001b[39;49;00m\u001b[43m,\u001b[49m\n\u001b[1;32m     24\u001b[0m \u001b[43m    \u001b[49m\u001b[43minterpolate\u001b[49m\u001b[38;5;241;43m=\u001b[39;49m\u001b[38;5;28;43;01mFalse\u001b[39;49;00m\u001b[43m,\u001b[49m\n\u001b[1;32m     25\u001b[0m \u001b[43m    \u001b[49m\u001b[43mtriple\u001b[49m\u001b[38;5;241;43m=\u001b[39;49m\u001b[38;5;28;43;01mTrue\u001b[39;49;00m\u001b[43m,\u001b[49m\n\u001b[1;32m     26\u001b[0m \u001b[43m    \u001b[49m\u001b[43moverwrite\u001b[49m\u001b[38;5;241;43m=\u001b[39;49m\u001b[38;5;28;43;01mTrue\u001b[39;49;00m\u001b[43m,\u001b[49m\n\u001b[1;32m     27\u001b[0m \u001b[43m    \u001b[49m\u001b[43mpalette\u001b[49m\u001b[38;5;241;43m=\u001b[39;49m\u001b[38;5;124;43m\"\u001b[39;49m\u001b[38;5;124;43mmako\u001b[39;49m\u001b[38;5;124;43m\"\u001b[39;49m\u001b[43m,\u001b[49m\n\u001b[1;32m     28\u001b[0m \u001b[43m    \u001b[49m\u001b[43mchain_sele\u001b[49m\u001b[38;5;241;43m=\u001b[39;49m\u001b[38;5;28;43;01mNone\u001b[39;49;00m\u001b[43m,\u001b[49m\u001b[43m \u001b[49m\u001b[38;5;66;43;03m# this protein has a somewhat unusual chain name \"7\"\u001b[39;49;00m\n\u001b[1;32m     29\u001b[0m \u001b[43m    \u001b[49m\u001b[43mstart_frame\u001b[49m\u001b[38;5;241;43m=\u001b[39;49m\u001b[38;5;241;43m0\u001b[39;49m\u001b[43m,\u001b[49m\n\u001b[1;32m     30\u001b[0m \u001b[43m    \u001b[49m\u001b[43mend_frame\u001b[49m\u001b[38;5;241;43m=\u001b[39;49m\u001b[38;5;28;43;01mNone\u001b[39;49;00m\n\u001b[1;32m     31\u001b[0m \u001b[43m)\u001b[49m\n",
      "File \u001b[0;32m~/Documents/GitHub/rmsx_paper_files/rmsx/rmsx/rmsx/rmsx.py:781\u001b[0m, in \u001b[0;36mrun_rmsx\u001b[0;34m(topology_file, trajectory_file, output_dir, num_slices, slice_size, rscript_executable, verbose, interpolate, triple, chain_sele, overwrite, palette, start_frame, end_frame, make_plot, analysis_type, summary_n, manual_length_ns, log_transform, custom_fill_label)\u001b[0m\n\u001b[1;32m    779\u001b[0m     output_dir \u001b[38;5;241m=\u001b[39m os\u001b[38;5;241m.\u001b[39mpath\u001b[38;5;241m.\u001b[39mjoin(os\u001b[38;5;241m.\u001b[39mgetcwd(), \u001b[38;5;124mf\u001b[39m\u001b[38;5;124m\"\u001b[39m\u001b[38;5;132;01m{\u001b[39;00mbase_name\u001b[38;5;132;01m}\u001b[39;00m\u001b[38;5;124m_rmsx\u001b[39m\u001b[38;5;124m\"\u001b[39m)\n\u001b[0;32m--> 781\u001b[0m u_top \u001b[38;5;241m=\u001b[39m \u001b[43mmda\u001b[49m\u001b[38;5;241;43m.\u001b[39;49m\u001b[43mUniverse\u001b[49m\u001b[43m(\u001b[49m\u001b[43mtopology_file\u001b[49m\u001b[43m)\u001b[49m\n\u001b[1;32m    782\u001b[0m chain_ids \u001b[38;5;241m=\u001b[39m np\u001b[38;5;241m.\u001b[39munique(u_top\u001b[38;5;241m.\u001b[39matoms\u001b[38;5;241m.\u001b[39msegids)\n",
      "File \u001b[0;32m~/Library/r-miniconda-arm64/lib/python3.10/site-packages/MDAnalysis/core/universe.py:356\u001b[0m, in \u001b[0;36mUniverse.__init__\u001b[0;34m(self, topology, all_coordinates, format, topology_format, transformations, guess_bonds, vdwradii, fudge_factor, lower_bound, in_memory, in_memory_step, *coordinates, **kwargs)\u001b[0m\n\u001b[1;32m    355\u001b[0m     \u001b[38;5;28mself\u001b[39m\u001b[38;5;241m.\u001b[39mfilename \u001b[38;5;241m=\u001b[39m _check_file_like(topology)\n\u001b[0;32m--> 356\u001b[0m     topology \u001b[38;5;241m=\u001b[39m \u001b[43m_topology_from_file_like\u001b[49m\u001b[43m(\u001b[49m\u001b[38;5;28;43mself\u001b[39;49m\u001b[38;5;241;43m.\u001b[39;49m\u001b[43mfilename\u001b[49m\u001b[43m,\u001b[49m\n\u001b[1;32m    357\u001b[0m \u001b[43m                                        \u001b[49m\u001b[43mtopology_format\u001b[49m\u001b[38;5;241;43m=\u001b[39;49m\u001b[43mtopology_format\u001b[49m\u001b[43m,\u001b[49m\n\u001b[1;32m    358\u001b[0m \u001b[43m                                        \u001b[49m\u001b[38;5;241;43m*\u001b[39;49m\u001b[38;5;241;43m*\u001b[39;49m\u001b[43mkwargs\u001b[49m\u001b[43m)\u001b[49m\n\u001b[1;32m    360\u001b[0m \u001b[38;5;28;01mif\u001b[39;00m topology \u001b[38;5;129;01mis\u001b[39;00m \u001b[38;5;129;01mnot\u001b[39;00m \u001b[38;5;28;01mNone\u001b[39;00m:\n",
      "File \u001b[0;32m~/Library/r-miniconda-arm64/lib/python3.10/site-packages/MDAnalysis/core/universe.py:118\u001b[0m, in \u001b[0;36m_topology_from_file_like\u001b[0;34m(topology_file, topology_format, **kwargs)\u001b[0m\n\u001b[1;32m    115\u001b[0m \u001b[38;5;28;01mif\u001b[39;00m (err\u001b[38;5;241m.\u001b[39merrno \u001b[38;5;129;01mis\u001b[39;00m \u001b[38;5;129;01mnot\u001b[39;00m \u001b[38;5;28;01mNone\u001b[39;00m \u001b[38;5;129;01mand\u001b[39;00m\n\u001b[1;32m    116\u001b[0m     errno\u001b[38;5;241m.\u001b[39merrorcode[err\u001b[38;5;241m.\u001b[39merrno] \u001b[38;5;129;01min\u001b[39;00m [\u001b[38;5;124m'\u001b[39m\u001b[38;5;124mENOENT\u001b[39m\u001b[38;5;124m'\u001b[39m, \u001b[38;5;124m'\u001b[39m\u001b[38;5;124mEACCES\u001b[39m\u001b[38;5;124m'\u001b[39m]):\n\u001b[1;32m    117\u001b[0m     \u001b[38;5;66;03m# Runs if the error is propagated due to no permission / file not found\u001b[39;00m\n\u001b[0;32m--> 118\u001b[0m     \u001b[38;5;28;01mraise\u001b[39;00m sys\u001b[38;5;241m.\u001b[39mexc_info()[\u001b[38;5;241m1\u001b[39m] \u001b[38;5;28;01mfrom\u001b[39;00m \u001b[38;5;21;01merr\u001b[39;00m\n\u001b[1;32m    119\u001b[0m \u001b[38;5;28;01melse\u001b[39;00m:\n\u001b[1;32m    120\u001b[0m     \u001b[38;5;66;03m# Runs when the parser fails\u001b[39;00m\n",
      "File \u001b[0;32m~/Library/r-miniconda-arm64/lib/python3.10/site-packages/MDAnalysis/core/universe.py:110\u001b[0m, in \u001b[0;36m_topology_from_file_like\u001b[0;34m(topology_file, topology_format, **kwargs)\u001b[0m\n\u001b[1;32m    109\u001b[0m     \u001b[38;5;28;01mwith\u001b[39;00m parser(topology_file) \u001b[38;5;28;01mas\u001b[39;00m p:\n\u001b[0;32m--> 110\u001b[0m         topology \u001b[38;5;241m=\u001b[39m \u001b[43mp\u001b[49m\u001b[38;5;241;43m.\u001b[39;49m\u001b[43mparse\u001b[49m\u001b[43m(\u001b[49m\u001b[38;5;241;43m*\u001b[39;49m\u001b[38;5;241;43m*\u001b[39;49m\u001b[43mkwargs\u001b[49m\u001b[43m)\u001b[49m\n\u001b[1;32m    111\u001b[0m \u001b[38;5;28;01mexcept\u001b[39;00m (\u001b[38;5;167;01mIOError\u001b[39;00m, \u001b[38;5;167;01mOSError\u001b[39;00m) \u001b[38;5;28;01mas\u001b[39;00m err:\n\u001b[1;32m    112\u001b[0m     \u001b[38;5;66;03m# There are 2 kinds of errors that might be raised here:\u001b[39;00m\n\u001b[1;32m    113\u001b[0m     \u001b[38;5;66;03m# one because the file isn't present\u001b[39;00m\n\u001b[1;32m    114\u001b[0m     \u001b[38;5;66;03m# or the permissions are bad, second when the parser fails\u001b[39;00m\n",
      "File \u001b[0;32m~/Library/r-miniconda-arm64/lib/python3.10/site-packages/MDAnalysis/topology/PDBParser.py:210\u001b[0m, in \u001b[0;36mPDBParser.parse\u001b[0;34m(self, **kwargs)\u001b[0m\n\u001b[1;32m    204\u001b[0m \u001b[38;5;250m\u001b[39m\u001b[38;5;124;03m\"\"\"Parse atom information from PDB file\u001b[39;00m\n\u001b[1;32m    205\u001b[0m \n\u001b[1;32m    206\u001b[0m \u001b[38;5;124;03mReturns\u001b[39;00m\n\u001b[1;32m    207\u001b[0m \u001b[38;5;124;03m-------\u001b[39;00m\n\u001b[1;32m    208\u001b[0m \u001b[38;5;124;03mMDAnalysis Topology object\u001b[39;00m\n\u001b[1;32m    209\u001b[0m \u001b[38;5;124;03m\"\"\"\u001b[39;00m\n\u001b[0;32m--> 210\u001b[0m top \u001b[38;5;241m=\u001b[39m \u001b[38;5;28;43mself\u001b[39;49m\u001b[38;5;241;43m.\u001b[39;49m\u001b[43m_parseatoms\u001b[49m\u001b[43m(\u001b[49m\u001b[43m)\u001b[49m\n\u001b[1;32m    212\u001b[0m \u001b[38;5;28;01mtry\u001b[39;00m:\n",
      "File \u001b[0;32m~/Library/r-miniconda-arm64/lib/python3.10/site-packages/MDAnalysis/topology/PDBParser.py:247\u001b[0m, in \u001b[0;36mPDBParser._parseatoms\u001b[0;34m(self)\u001b[0m\n\u001b[1;32m    246\u001b[0m last_wrapped_serial \u001b[38;5;241m=\u001b[39m \u001b[38;5;241m100000\u001b[39m  \u001b[38;5;66;03m# if serials wrap, start from here\u001b[39;00m\n\u001b[0;32m--> 247\u001b[0m \u001b[38;5;28;01mwith\u001b[39;00m util\u001b[38;5;241m.\u001b[39mopenany(\u001b[38;5;28mself\u001b[39m\u001b[38;5;241m.\u001b[39mfilename) \u001b[38;5;28;01mas\u001b[39;00m f:\n\u001b[1;32m    248\u001b[0m     \u001b[38;5;28;01mfor\u001b[39;00m line \u001b[38;5;129;01min\u001b[39;00m f:\n",
      "File \u001b[0;32m~/Library/r-miniconda-arm64/lib/python3.10/contextlib.py:135\u001b[0m, in \u001b[0;36m_GeneratorContextManager.__enter__\u001b[0;34m(self)\u001b[0m\n\u001b[1;32m    134\u001b[0m \u001b[38;5;28;01mtry\u001b[39;00m:\n\u001b[0;32m--> 135\u001b[0m     \u001b[38;5;28;01mreturn\u001b[39;00m \u001b[38;5;28;43mnext\u001b[39;49m\u001b[43m(\u001b[49m\u001b[38;5;28;43mself\u001b[39;49m\u001b[38;5;241;43m.\u001b[39;49m\u001b[43mgen\u001b[49m\u001b[43m)\u001b[49m\n\u001b[1;32m    136\u001b[0m \u001b[38;5;28;01mexcept\u001b[39;00m \u001b[38;5;167;01mStopIteration\u001b[39;00m:\n",
      "File \u001b[0;32m~/Library/r-miniconda-arm64/lib/python3.10/site-packages/MDAnalysis/lib/util.py:318\u001b[0m, in \u001b[0;36mopenany\u001b[0;34m(datasource, mode, reset)\u001b[0m\n\u001b[1;32m    276\u001b[0m \u001b[38;5;250m\u001b[39m\u001b[38;5;124;03m\"\"\"Context manager for :func:`anyopen`.\u001b[39;00m\n\u001b[1;32m    277\u001b[0m \n\u001b[1;32m    278\u001b[0m \u001b[38;5;124;03mOpen the `datasource` and close it when the context of the :keyword:`with`\u001b[39;00m\n\u001b[0;32m   (...)\u001b[0m\n\u001b[1;32m    316\u001b[0m \u001b[38;5;124;03m:func:`anyopen`\u001b[39;00m\n\u001b[1;32m    317\u001b[0m \u001b[38;5;124;03m\"\"\"\u001b[39;00m\n\u001b[0;32m--> 318\u001b[0m stream \u001b[38;5;241m=\u001b[39m \u001b[43manyopen\u001b[49m\u001b[43m(\u001b[49m\u001b[43mdatasource\u001b[49m\u001b[43m,\u001b[49m\u001b[43m \u001b[49m\u001b[43mmode\u001b[49m\u001b[38;5;241;43m=\u001b[39;49m\u001b[43mmode\u001b[49m\u001b[43m,\u001b[49m\u001b[43m \u001b[49m\u001b[43mreset\u001b[49m\u001b[38;5;241;43m=\u001b[39;49m\u001b[43mreset\u001b[49m\u001b[43m)\u001b[49m\n\u001b[1;32m    319\u001b[0m \u001b[38;5;28;01mtry\u001b[39;00m:\n",
      "File \u001b[0;32m~/Library/r-miniconda-arm64/lib/python3.10/site-packages/MDAnalysis/lib/util.py:398\u001b[0m, in \u001b[0;36manyopen\u001b[0;34m(datasource, mode, reset)\u001b[0m\n\u001b[1;32m    397\u001b[0m openfunc \u001b[38;5;241m=\u001b[39m read_handlers[ext]\n\u001b[0;32m--> 398\u001b[0m stream \u001b[38;5;241m=\u001b[39m \u001b[43m_get_stream\u001b[49m\u001b[43m(\u001b[49m\u001b[43mdatasource\u001b[49m\u001b[43m,\u001b[49m\u001b[43m \u001b[49m\u001b[43mopenfunc\u001b[49m\u001b[43m,\u001b[49m\u001b[43m \u001b[49m\u001b[43mmode\u001b[49m\u001b[38;5;241;43m=\u001b[39;49m\u001b[43mmode\u001b[49m\u001b[43m)\u001b[49m\n\u001b[1;32m    399\u001b[0m \u001b[38;5;28;01mif\u001b[39;00m stream \u001b[38;5;129;01mis\u001b[39;00m \u001b[38;5;129;01mnot\u001b[39;00m \u001b[38;5;28;01mNone\u001b[39;00m:\n",
      "File \u001b[0;32m~/Library/r-miniconda-arm64/lib/python3.10/site-packages/MDAnalysis/lib/util.py:440\u001b[0m, in \u001b[0;36m_get_stream\u001b[0;34m(filename, openfunction, mode)\u001b[0m\n\u001b[1;32m    439\u001b[0m \u001b[38;5;28;01mif\u001b[39;00m errno\u001b[38;5;241m.\u001b[39merrorcode[err\u001b[38;5;241m.\u001b[39merrno] \u001b[38;5;129;01min\u001b[39;00m [\u001b[38;5;124m'\u001b[39m\u001b[38;5;124mENOENT\u001b[39m\u001b[38;5;124m'\u001b[39m, \u001b[38;5;124m'\u001b[39m\u001b[38;5;124mEACCES\u001b[39m\u001b[38;5;124m'\u001b[39m]:\n\u001b[0;32m--> 440\u001b[0m     \u001b[38;5;28;01mraise\u001b[39;00m sys\u001b[38;5;241m.\u001b[39mexc_info()[\u001b[38;5;241m1\u001b[39m] \u001b[38;5;28;01mfrom\u001b[39;00m \u001b[38;5;21;01merr\u001b[39;00m\n\u001b[1;32m    441\u001b[0m \u001b[38;5;28;01mreturn\u001b[39;00m \u001b[38;5;28;01mNone\u001b[39;00m\n",
      "File \u001b[0;32m~/Library/r-miniconda-arm64/lib/python3.10/site-packages/MDAnalysis/lib/util.py:434\u001b[0m, in \u001b[0;36m_get_stream\u001b[0;34m(filename, openfunction, mode)\u001b[0m\n\u001b[1;32m    433\u001b[0m \u001b[38;5;28;01mtry\u001b[39;00m:\n\u001b[0;32m--> 434\u001b[0m     stream \u001b[38;5;241m=\u001b[39m \u001b[43mopenfunction\u001b[49m\u001b[43m(\u001b[49m\u001b[43mfilename\u001b[49m\u001b[43m,\u001b[49m\u001b[43m \u001b[49m\u001b[43mmode\u001b[49m\u001b[38;5;241;43m=\u001b[39;49m\u001b[43mmode\u001b[49m\u001b[43m)\u001b[49m\n\u001b[1;32m    435\u001b[0m \u001b[38;5;28;01mexcept\u001b[39;00m (\u001b[38;5;167;01mIOError\u001b[39;00m, \u001b[38;5;167;01mOSError\u001b[39;00m) \u001b[38;5;28;01mas\u001b[39;00m err:\n\u001b[1;32m    436\u001b[0m     \u001b[38;5;66;03m# An exception might be raised due to two reasons, first the openfunction is unable to open the file, in this\u001b[39;00m\n\u001b[1;32m    437\u001b[0m     \u001b[38;5;66;03m# case we have to ignore the error and return None. Second is when openfunction can't open the file because\u001b[39;00m\n\u001b[1;32m    438\u001b[0m     \u001b[38;5;66;03m# either the file isn't there or the permissions don't allow access.\u001b[39;00m\n",
      "File \u001b[0;32m~/Library/r-miniconda-arm64/lib/python3.10/site-packages/MDAnalysis/lib/picklable_file_io.py:502\u001b[0m, in \u001b[0;36mbz2_pickle_open\u001b[0;34m(name, mode)\u001b[0m\n\u001b[1;32m    501\u001b[0m bz_mode \u001b[38;5;241m=\u001b[39m mode\u001b[38;5;241m.\u001b[39mreplace(\u001b[38;5;124m\"\u001b[39m\u001b[38;5;124mt\u001b[39m\u001b[38;5;124m\"\u001b[39m, \u001b[38;5;124m\"\u001b[39m\u001b[38;5;124m\"\u001b[39m)\n\u001b[0;32m--> 502\u001b[0m binary_file \u001b[38;5;241m=\u001b[39m \u001b[43mBZ2Picklable\u001b[49m\u001b[43m(\u001b[49m\u001b[43mname\u001b[49m\u001b[43m,\u001b[49m\u001b[43m \u001b[49m\u001b[43mbz_mode\u001b[49m\u001b[43m)\u001b[49m\n\u001b[1;32m    503\u001b[0m \u001b[38;5;28;01mif\u001b[39;00m \u001b[38;5;124m\"\u001b[39m\u001b[38;5;124mt\u001b[39m\u001b[38;5;124m\"\u001b[39m \u001b[38;5;129;01min\u001b[39;00m mode:\n",
      "File \u001b[0;32m~/Library/r-miniconda-arm64/lib/python3.10/site-packages/MDAnalysis/lib/picklable_file_io.py:283\u001b[0m, in \u001b[0;36mBZ2Picklable.__init__\u001b[0;34m(self, name, mode)\u001b[0m\n\u001b[1;32m    282\u001b[0m \u001b[38;5;28mself\u001b[39m\u001b[38;5;241m.\u001b[39m_bz_mode \u001b[38;5;241m=\u001b[39m mode\n\u001b[0;32m--> 283\u001b[0m \u001b[38;5;28;43msuper\u001b[39;49m\u001b[43m(\u001b[49m\u001b[43m)\u001b[49m\u001b[38;5;241;43m.\u001b[39;49m\u001b[38;5;21;43m__init__\u001b[39;49m\u001b[43m(\u001b[49m\u001b[43mname\u001b[49m\u001b[43m,\u001b[49m\u001b[43m \u001b[49m\u001b[43mmode\u001b[49m\u001b[43m)\u001b[49m\n",
      "File \u001b[0;32m~/Library/r-miniconda-arm64/lib/python3.10/bz2.py:81\u001b[0m, in \u001b[0;36mBZ2File.__init__\u001b[0;34m(self, filename, mode, compresslevel)\u001b[0m\n\u001b[1;32m     80\u001b[0m \u001b[38;5;28;01mif\u001b[39;00m \u001b[38;5;28misinstance\u001b[39m(filename, (\u001b[38;5;28mstr\u001b[39m, \u001b[38;5;28mbytes\u001b[39m, os\u001b[38;5;241m.\u001b[39mPathLike)):\n\u001b[0;32m---> 81\u001b[0m     \u001b[38;5;28mself\u001b[39m\u001b[38;5;241m.\u001b[39m_fp \u001b[38;5;241m=\u001b[39m \u001b[43m_builtin_open\u001b[49m\u001b[43m(\u001b[49m\u001b[43mfilename\u001b[49m\u001b[43m,\u001b[49m\u001b[43m \u001b[49m\u001b[43mmode\u001b[49m\u001b[43m)\u001b[49m\n\u001b[1;32m     82\u001b[0m     \u001b[38;5;28mself\u001b[39m\u001b[38;5;241m.\u001b[39m_closefp \u001b[38;5;241m=\u001b[39m \u001b[38;5;28;01mTrue\u001b[39;00m\n",
      "\u001b[0;31mFileNotFoundError\u001b[0m: [Errno 2] No such file or directory: '/Users/finn/Documents/GitHub/rmsx_paper_files/rmsx/rmsx/rmsx/rmsx.rmsx/test_files/1UBQ.pdb'",
      "\nThe above exception was the direct cause of the following exception:\n",
      "\u001b[0;31mFileNotFoundError\u001b[0m                         Traceback (most recent call last)",
      "Cell \u001b[0;32mIn[20], line 16\u001b[0m\n\u001b[1;32m     11\u001b[0m dcd_file    \u001b[38;5;241m=\u001b[39m os\u001b[38;5;241m.\u001b[39mpath\u001b[38;5;241m.\u001b[39mjoin(repo_dir, \u001b[38;5;124m\"\u001b[39m\u001b[38;5;124mtest_files\u001b[39m\u001b[38;5;124m\"\u001b[39m, \u001b[38;5;124m\"\u001b[39m\u001b[38;5;124mmon_sys.dcd\u001b[39m\u001b[38;5;124m\"\u001b[39m)\n\u001b[1;32m     12\u001b[0m output_dir  \u001b[38;5;241m=\u001b[39m os\u001b[38;5;241m.\u001b[39mpath\u001b[38;5;241m.\u001b[39mjoin(repo_dir, \u001b[38;5;124m\"\u001b[39m\u001b[38;5;124mtest_files\u001b[39m\u001b[38;5;124m\"\u001b[39m, \u001b[38;5;124m\"\u001b[39m\u001b[38;5;124mexample1\u001b[39m\u001b[38;5;124m\"\u001b[39m) \u001b[38;5;66;03m# this will be where the new directory will be made\u001b[39;00m\n\u001b[0;32m---> 16\u001b[0m \u001b[43mrun_rmsx\u001b[49m\u001b[43m(\u001b[49m\n\u001b[1;32m     17\u001b[0m \u001b[43m    \u001b[49m\u001b[43mtopology_file\u001b[49m\u001b[38;5;241;43m=\u001b[39;49m\u001b[43mpdb_file\u001b[49m\u001b[43m,\u001b[49m\n\u001b[1;32m     18\u001b[0m \u001b[43m    \u001b[49m\u001b[43mtrajectory_file\u001b[49m\u001b[38;5;241;43m=\u001b[39;49m\u001b[43mdcd_file\u001b[49m\u001b[43m,\u001b[49m\n\u001b[1;32m     19\u001b[0m \u001b[43m    \u001b[49m\u001b[43moutput_dir\u001b[49m\u001b[38;5;241;43m=\u001b[39;49m\u001b[43moutput_dir\u001b[49m\u001b[43m,\u001b[49m\n\u001b[1;32m     20\u001b[0m \u001b[43m    \u001b[49m\u001b[43mnum_slices\u001b[49m\u001b[38;5;241;43m=\u001b[39;49m\u001b[38;5;241;43m9\u001b[39;49m\u001b[43m,\u001b[49m\n\u001b[1;32m     21\u001b[0m \u001b[43m    \u001b[49m\u001b[43mslice_size\u001b[49m\u001b[38;5;241;43m=\u001b[39;49m\u001b[38;5;28;43;01mNone\u001b[39;49;00m\u001b[43m,\u001b[49m\n\u001b[1;32m     22\u001b[0m \u001b[43m    \u001b[49m\u001b[43mrscript_executable\u001b[49m\u001b[38;5;241;43m=\u001b[39;49m\u001b[38;5;124;43m\"\u001b[39;49m\u001b[38;5;124;43mRscript\u001b[39;49m\u001b[38;5;124;43m\"\u001b[39;49m\u001b[43m,\u001b[49m\u001b[43m   \u001b[49m\u001b[38;5;66;43;03m# only change this if Rscript isn't in your PATH\u001b[39;49;00m\n\u001b[1;32m     23\u001b[0m \u001b[43m    \u001b[49m\u001b[43mverbose\u001b[49m\u001b[38;5;241;43m=\u001b[39;49m\u001b[38;5;28;43;01mFalse\u001b[39;49;00m\u001b[43m,\u001b[49m\n\u001b[1;32m     24\u001b[0m \u001b[43m    \u001b[49m\u001b[43minterpolate\u001b[49m\u001b[38;5;241;43m=\u001b[39;49m\u001b[38;5;28;43;01mFalse\u001b[39;49;00m\u001b[43m,\u001b[49m\n\u001b[1;32m     25\u001b[0m \u001b[43m    \u001b[49m\u001b[43mtriple\u001b[49m\u001b[38;5;241;43m=\u001b[39;49m\u001b[38;5;28;43;01mTrue\u001b[39;49;00m\u001b[43m,\u001b[49m\n\u001b[1;32m     26\u001b[0m \u001b[43m    \u001b[49m\u001b[43moverwrite\u001b[49m\u001b[38;5;241;43m=\u001b[39;49m\u001b[38;5;28;43;01mTrue\u001b[39;49;00m\u001b[43m,\u001b[49m\n\u001b[1;32m     27\u001b[0m \u001b[43m    \u001b[49m\u001b[43mpalette\u001b[49m\u001b[38;5;241;43m=\u001b[39;49m\u001b[38;5;124;43m\"\u001b[39;49m\u001b[38;5;124;43mmako\u001b[39;49m\u001b[38;5;124;43m\"\u001b[39;49m\u001b[43m,\u001b[49m\n\u001b[1;32m     28\u001b[0m \u001b[43m    \u001b[49m\u001b[43mchain_sele\u001b[49m\u001b[38;5;241;43m=\u001b[39;49m\u001b[38;5;28;43;01mNone\u001b[39;49;00m\u001b[43m,\u001b[49m\u001b[43m \u001b[49m\u001b[38;5;66;43;03m# this protein has a somewhat unusual chain name \"7\"\u001b[39;49;00m\n\u001b[1;32m     29\u001b[0m \u001b[43m    \u001b[49m\u001b[43mstart_frame\u001b[49m\u001b[38;5;241;43m=\u001b[39;49m\u001b[38;5;241;43m0\u001b[39;49m\u001b[43m,\u001b[49m\n\u001b[1;32m     30\u001b[0m \u001b[43m    \u001b[49m\u001b[43mend_frame\u001b[49m\u001b[38;5;241;43m=\u001b[39;49m\u001b[38;5;28;43;01mNone\u001b[39;49;00m\n\u001b[1;32m     31\u001b[0m \u001b[43m)\u001b[49m\n",
      "File \u001b[0;32m~/Documents/GitHub/rmsx_paper_files/rmsx/rmsx/rmsx/rmsx.py:781\u001b[0m, in \u001b[0;36mrun_rmsx\u001b[0;34m(topology_file, trajectory_file, output_dir, num_slices, slice_size, rscript_executable, verbose, interpolate, triple, chain_sele, overwrite, palette, start_frame, end_frame, make_plot, analysis_type, summary_n, manual_length_ns, log_transform, custom_fill_label)\u001b[0m\n\u001b[1;32m    778\u001b[0m     base_name \u001b[38;5;241m=\u001b[39m os\u001b[38;5;241m.\u001b[39mpath\u001b[38;5;241m.\u001b[39msplitext(os\u001b[38;5;241m.\u001b[39mpath\u001b[38;5;241m.\u001b[39mbasename(topology_file))[\u001b[38;5;241m0\u001b[39m]\n\u001b[1;32m    779\u001b[0m     output_dir \u001b[38;5;241m=\u001b[39m os\u001b[38;5;241m.\u001b[39mpath\u001b[38;5;241m.\u001b[39mjoin(os\u001b[38;5;241m.\u001b[39mgetcwd(), \u001b[38;5;124mf\u001b[39m\u001b[38;5;124m\"\u001b[39m\u001b[38;5;132;01m{\u001b[39;00mbase_name\u001b[38;5;132;01m}\u001b[39;00m\u001b[38;5;124m_rmsx\u001b[39m\u001b[38;5;124m\"\u001b[39m)\n\u001b[0;32m--> 781\u001b[0m u_top \u001b[38;5;241m=\u001b[39m \u001b[43mmda\u001b[49m\u001b[38;5;241;43m.\u001b[39;49m\u001b[43mUniverse\u001b[49m\u001b[43m(\u001b[49m\u001b[43mtopology_file\u001b[49m\u001b[43m)\u001b[49m\n\u001b[1;32m    782\u001b[0m chain_ids \u001b[38;5;241m=\u001b[39m np\u001b[38;5;241m.\u001b[39munique(u_top\u001b[38;5;241m.\u001b[39matoms\u001b[38;5;241m.\u001b[39msegids)\n\u001b[1;32m    783\u001b[0m chain_info \u001b[38;5;241m=\u001b[39m {}\n",
      "File \u001b[0;32m~/Library/r-miniconda-arm64/lib/python3.10/site-packages/MDAnalysis/core/universe.py:356\u001b[0m, in \u001b[0;36mUniverse.__init__\u001b[0;34m(self, topology, all_coordinates, format, topology_format, transformations, guess_bonds, vdwradii, fudge_factor, lower_bound, in_memory, in_memory_step, *coordinates, **kwargs)\u001b[0m\n\u001b[1;32m    354\u001b[0m \u001b[38;5;28;01mif\u001b[39;00m \u001b[38;5;129;01mnot\u001b[39;00m \u001b[38;5;28misinstance\u001b[39m(topology, Topology) \u001b[38;5;129;01mand\u001b[39;00m \u001b[38;5;129;01mnot\u001b[39;00m topology \u001b[38;5;129;01mis\u001b[39;00m \u001b[38;5;28;01mNone\u001b[39;00m:\n\u001b[1;32m    355\u001b[0m     \u001b[38;5;28mself\u001b[39m\u001b[38;5;241m.\u001b[39mfilename \u001b[38;5;241m=\u001b[39m _check_file_like(topology)\n\u001b[0;32m--> 356\u001b[0m     topology \u001b[38;5;241m=\u001b[39m \u001b[43m_topology_from_file_like\u001b[49m\u001b[43m(\u001b[49m\u001b[38;5;28;43mself\u001b[39;49m\u001b[38;5;241;43m.\u001b[39;49m\u001b[43mfilename\u001b[49m\u001b[43m,\u001b[49m\n\u001b[1;32m    357\u001b[0m \u001b[43m                                        \u001b[49m\u001b[43mtopology_format\u001b[49m\u001b[38;5;241;43m=\u001b[39;49m\u001b[43mtopology_format\u001b[49m\u001b[43m,\u001b[49m\n\u001b[1;32m    358\u001b[0m \u001b[43m                                        \u001b[49m\u001b[38;5;241;43m*\u001b[39;49m\u001b[38;5;241;43m*\u001b[39;49m\u001b[43mkwargs\u001b[49m\u001b[43m)\u001b[49m\n\u001b[1;32m    360\u001b[0m \u001b[38;5;28;01mif\u001b[39;00m topology \u001b[38;5;129;01mis\u001b[39;00m \u001b[38;5;129;01mnot\u001b[39;00m \u001b[38;5;28;01mNone\u001b[39;00m:\n\u001b[1;32m    361\u001b[0m     \u001b[38;5;28mself\u001b[39m\u001b[38;5;241m.\u001b[39m_topology \u001b[38;5;241m=\u001b[39m topology\n",
      "File \u001b[0;32m~/Library/r-miniconda-arm64/lib/python3.10/site-packages/MDAnalysis/core/universe.py:118\u001b[0m, in \u001b[0;36m_topology_from_file_like\u001b[0;34m(topology_file, topology_format, **kwargs)\u001b[0m\n\u001b[1;32m    111\u001b[0m \u001b[38;5;28;01mexcept\u001b[39;00m (\u001b[38;5;167;01mIOError\u001b[39;00m, \u001b[38;5;167;01mOSError\u001b[39;00m) \u001b[38;5;28;01mas\u001b[39;00m err:\n\u001b[1;32m    112\u001b[0m     \u001b[38;5;66;03m# There are 2 kinds of errors that might be raised here:\u001b[39;00m\n\u001b[1;32m    113\u001b[0m     \u001b[38;5;66;03m# one because the file isn't present\u001b[39;00m\n\u001b[1;32m    114\u001b[0m     \u001b[38;5;66;03m# or the permissions are bad, second when the parser fails\u001b[39;00m\n\u001b[1;32m    115\u001b[0m     \u001b[38;5;28;01mif\u001b[39;00m (err\u001b[38;5;241m.\u001b[39merrno \u001b[38;5;129;01mis\u001b[39;00m \u001b[38;5;129;01mnot\u001b[39;00m \u001b[38;5;28;01mNone\u001b[39;00m \u001b[38;5;129;01mand\u001b[39;00m\n\u001b[1;32m    116\u001b[0m         errno\u001b[38;5;241m.\u001b[39merrorcode[err\u001b[38;5;241m.\u001b[39merrno] \u001b[38;5;129;01min\u001b[39;00m [\u001b[38;5;124m'\u001b[39m\u001b[38;5;124mENOENT\u001b[39m\u001b[38;5;124m'\u001b[39m, \u001b[38;5;124m'\u001b[39m\u001b[38;5;124mEACCES\u001b[39m\u001b[38;5;124m'\u001b[39m]):\n\u001b[1;32m    117\u001b[0m         \u001b[38;5;66;03m# Runs if the error is propagated due to no permission / file not found\u001b[39;00m\n\u001b[0;32m--> 118\u001b[0m         \u001b[38;5;28;01mraise\u001b[39;00m sys\u001b[38;5;241m.\u001b[39mexc_info()[\u001b[38;5;241m1\u001b[39m] \u001b[38;5;28;01mfrom\u001b[39;00m \u001b[38;5;21;01merr\u001b[39;00m\n\u001b[1;32m    119\u001b[0m     \u001b[38;5;28;01melse\u001b[39;00m:\n\u001b[1;32m    120\u001b[0m         \u001b[38;5;66;03m# Runs when the parser fails\u001b[39;00m\n\u001b[1;32m    121\u001b[0m         \u001b[38;5;28;01mraise\u001b[39;00m \u001b[38;5;167;01mIOError\u001b[39;00m(\u001b[38;5;124m\"\u001b[39m\u001b[38;5;124mFailed to load from the topology file \u001b[39m\u001b[38;5;132;01m{0}\u001b[39;00m\u001b[38;5;124m\"\u001b[39m\n\u001b[1;32m    122\u001b[0m                         \u001b[38;5;124m\"\u001b[39m\u001b[38;5;124m with parser \u001b[39m\u001b[38;5;132;01m{1}\u001b[39;00m\u001b[38;5;124m.\u001b[39m\u001b[38;5;130;01m\\n\u001b[39;00m\u001b[38;5;124m\"\u001b[39m\n\u001b[1;32m    123\u001b[0m                         \u001b[38;5;124m\"\u001b[39m\u001b[38;5;124mError: \u001b[39m\u001b[38;5;132;01m{2}\u001b[39;00m\u001b[38;5;124m\"\u001b[39m\u001b[38;5;241m.\u001b[39mformat(topology_file, parser, err))\n",
      "File \u001b[0;32m~/Library/r-miniconda-arm64/lib/python3.10/site-packages/MDAnalysis/core/universe.py:110\u001b[0m, in \u001b[0;36m_topology_from_file_like\u001b[0;34m(topology_file, topology_format, **kwargs)\u001b[0m\n\u001b[1;32m    108\u001b[0m \u001b[38;5;28;01mtry\u001b[39;00m:\n\u001b[1;32m    109\u001b[0m     \u001b[38;5;28;01mwith\u001b[39;00m parser(topology_file) \u001b[38;5;28;01mas\u001b[39;00m p:\n\u001b[0;32m--> 110\u001b[0m         topology \u001b[38;5;241m=\u001b[39m \u001b[43mp\u001b[49m\u001b[38;5;241;43m.\u001b[39;49m\u001b[43mparse\u001b[49m\u001b[43m(\u001b[49m\u001b[38;5;241;43m*\u001b[39;49m\u001b[38;5;241;43m*\u001b[39;49m\u001b[43mkwargs\u001b[49m\u001b[43m)\u001b[49m\n\u001b[1;32m    111\u001b[0m \u001b[38;5;28;01mexcept\u001b[39;00m (\u001b[38;5;167;01mIOError\u001b[39;00m, \u001b[38;5;167;01mOSError\u001b[39;00m) \u001b[38;5;28;01mas\u001b[39;00m err:\n\u001b[1;32m    112\u001b[0m     \u001b[38;5;66;03m# There are 2 kinds of errors that might be raised here:\u001b[39;00m\n\u001b[1;32m    113\u001b[0m     \u001b[38;5;66;03m# one because the file isn't present\u001b[39;00m\n\u001b[1;32m    114\u001b[0m     \u001b[38;5;66;03m# or the permissions are bad, second when the parser fails\u001b[39;00m\n\u001b[1;32m    115\u001b[0m     \u001b[38;5;28;01mif\u001b[39;00m (err\u001b[38;5;241m.\u001b[39merrno \u001b[38;5;129;01mis\u001b[39;00m \u001b[38;5;129;01mnot\u001b[39;00m \u001b[38;5;28;01mNone\u001b[39;00m \u001b[38;5;129;01mand\u001b[39;00m\n\u001b[1;32m    116\u001b[0m         errno\u001b[38;5;241m.\u001b[39merrorcode[err\u001b[38;5;241m.\u001b[39merrno] \u001b[38;5;129;01min\u001b[39;00m [\u001b[38;5;124m'\u001b[39m\u001b[38;5;124mENOENT\u001b[39m\u001b[38;5;124m'\u001b[39m, \u001b[38;5;124m'\u001b[39m\u001b[38;5;124mEACCES\u001b[39m\u001b[38;5;124m'\u001b[39m]):\n\u001b[1;32m    117\u001b[0m         \u001b[38;5;66;03m# Runs if the error is propagated due to no permission / file not found\u001b[39;00m\n",
      "File \u001b[0;32m~/Library/r-miniconda-arm64/lib/python3.10/site-packages/MDAnalysis/topology/PDBParser.py:210\u001b[0m, in \u001b[0;36mPDBParser.parse\u001b[0;34m(self, **kwargs)\u001b[0m\n\u001b[1;32m    203\u001b[0m \u001b[38;5;28;01mdef\u001b[39;00m \u001b[38;5;21mparse\u001b[39m(\u001b[38;5;28mself\u001b[39m, \u001b[38;5;241m*\u001b[39m\u001b[38;5;241m*\u001b[39mkwargs):\n\u001b[1;32m    204\u001b[0m \u001b[38;5;250m    \u001b[39m\u001b[38;5;124;03m\"\"\"Parse atom information from PDB file\u001b[39;00m\n\u001b[1;32m    205\u001b[0m \n\u001b[1;32m    206\u001b[0m \u001b[38;5;124;03m    Returns\u001b[39;00m\n\u001b[1;32m    207\u001b[0m \u001b[38;5;124;03m    -------\u001b[39;00m\n\u001b[1;32m    208\u001b[0m \u001b[38;5;124;03m    MDAnalysis Topology object\u001b[39;00m\n\u001b[1;32m    209\u001b[0m \u001b[38;5;124;03m    \"\"\"\u001b[39;00m\n\u001b[0;32m--> 210\u001b[0m     top \u001b[38;5;241m=\u001b[39m \u001b[38;5;28;43mself\u001b[39;49m\u001b[38;5;241;43m.\u001b[39;49m\u001b[43m_parseatoms\u001b[49m\u001b[43m(\u001b[49m\u001b[43m)\u001b[49m\n\u001b[1;32m    212\u001b[0m     \u001b[38;5;28;01mtry\u001b[39;00m:\n\u001b[1;32m    213\u001b[0m         bonds \u001b[38;5;241m=\u001b[39m \u001b[38;5;28mself\u001b[39m\u001b[38;5;241m.\u001b[39m_parsebonds(top\u001b[38;5;241m.\u001b[39mids\u001b[38;5;241m.\u001b[39mvalues)\n",
      "File \u001b[0;32m~/Library/r-miniconda-arm64/lib/python3.10/site-packages/MDAnalysis/topology/PDBParser.py:247\u001b[0m, in \u001b[0;36mPDBParser._parseatoms\u001b[0;34m(self)\u001b[0m\n\u001b[1;32m    245\u001b[0m \u001b[38;5;28mself\u001b[39m\u001b[38;5;241m.\u001b[39m_wrapped_serials \u001b[38;5;241m=\u001b[39m \u001b[38;5;28;01mFalse\u001b[39;00m  \u001b[38;5;66;03m# did serials go over 100k?\u001b[39;00m\n\u001b[1;32m    246\u001b[0m last_wrapped_serial \u001b[38;5;241m=\u001b[39m \u001b[38;5;241m100000\u001b[39m  \u001b[38;5;66;03m# if serials wrap, start from here\u001b[39;00m\n\u001b[0;32m--> 247\u001b[0m \u001b[38;5;28;01mwith\u001b[39;00m util\u001b[38;5;241m.\u001b[39mopenany(\u001b[38;5;28mself\u001b[39m\u001b[38;5;241m.\u001b[39mfilename) \u001b[38;5;28;01mas\u001b[39;00m f:\n\u001b[1;32m    248\u001b[0m     \u001b[38;5;28;01mfor\u001b[39;00m line \u001b[38;5;129;01min\u001b[39;00m f:\n\u001b[1;32m    249\u001b[0m         line \u001b[38;5;241m=\u001b[39m line\u001b[38;5;241m.\u001b[39mstrip()  \u001b[38;5;66;03m# Remove extra spaces\u001b[39;00m\n",
      "File \u001b[0;32m~/Library/r-miniconda-arm64/lib/python3.10/contextlib.py:135\u001b[0m, in \u001b[0;36m_GeneratorContextManager.__enter__\u001b[0;34m(self)\u001b[0m\n\u001b[1;32m    133\u001b[0m \u001b[38;5;28;01mdel\u001b[39;00m \u001b[38;5;28mself\u001b[39m\u001b[38;5;241m.\u001b[39margs, \u001b[38;5;28mself\u001b[39m\u001b[38;5;241m.\u001b[39mkwds, \u001b[38;5;28mself\u001b[39m\u001b[38;5;241m.\u001b[39mfunc\n\u001b[1;32m    134\u001b[0m \u001b[38;5;28;01mtry\u001b[39;00m:\n\u001b[0;32m--> 135\u001b[0m     \u001b[38;5;28;01mreturn\u001b[39;00m \u001b[38;5;28;43mnext\u001b[39;49m\u001b[43m(\u001b[49m\u001b[38;5;28;43mself\u001b[39;49m\u001b[38;5;241;43m.\u001b[39;49m\u001b[43mgen\u001b[49m\u001b[43m)\u001b[49m\n\u001b[1;32m    136\u001b[0m \u001b[38;5;28;01mexcept\u001b[39;00m \u001b[38;5;167;01mStopIteration\u001b[39;00m:\n\u001b[1;32m    137\u001b[0m     \u001b[38;5;28;01mraise\u001b[39;00m \u001b[38;5;167;01mRuntimeError\u001b[39;00m(\u001b[38;5;124m\"\u001b[39m\u001b[38;5;124mgenerator didn\u001b[39m\u001b[38;5;124m'\u001b[39m\u001b[38;5;124mt yield\u001b[39m\u001b[38;5;124m\"\u001b[39m) \u001b[38;5;28;01mfrom\u001b[39;00m \u001b[38;5;28;01mNone\u001b[39;00m\n",
      "File \u001b[0;32m~/Library/r-miniconda-arm64/lib/python3.10/site-packages/MDAnalysis/lib/util.py:318\u001b[0m, in \u001b[0;36mopenany\u001b[0;34m(datasource, mode, reset)\u001b[0m\n\u001b[1;32m    274\u001b[0m \u001b[38;5;129m@contextmanager\u001b[39m\n\u001b[1;32m    275\u001b[0m \u001b[38;5;28;01mdef\u001b[39;00m \u001b[38;5;21mopenany\u001b[39m(datasource, mode\u001b[38;5;241m=\u001b[39m\u001b[38;5;124m'\u001b[39m\u001b[38;5;124mrt\u001b[39m\u001b[38;5;124m'\u001b[39m, reset\u001b[38;5;241m=\u001b[39m\u001b[38;5;28;01mTrue\u001b[39;00m):\n\u001b[1;32m    276\u001b[0m \u001b[38;5;250m    \u001b[39m\u001b[38;5;124;03m\"\"\"Context manager for :func:`anyopen`.\u001b[39;00m\n\u001b[1;32m    277\u001b[0m \n\u001b[1;32m    278\u001b[0m \u001b[38;5;124;03m    Open the `datasource` and close it when the context of the :keyword:`with`\u001b[39;00m\n\u001b[0;32m   (...)\u001b[0m\n\u001b[1;32m    316\u001b[0m \u001b[38;5;124;03m    :func:`anyopen`\u001b[39;00m\n\u001b[1;32m    317\u001b[0m \u001b[38;5;124;03m    \"\"\"\u001b[39;00m\n\u001b[0;32m--> 318\u001b[0m     stream \u001b[38;5;241m=\u001b[39m \u001b[43manyopen\u001b[49m\u001b[43m(\u001b[49m\u001b[43mdatasource\u001b[49m\u001b[43m,\u001b[49m\u001b[43m \u001b[49m\u001b[43mmode\u001b[49m\u001b[38;5;241;43m=\u001b[39;49m\u001b[43mmode\u001b[49m\u001b[43m,\u001b[49m\u001b[43m \u001b[49m\u001b[43mreset\u001b[49m\u001b[38;5;241;43m=\u001b[39;49m\u001b[43mreset\u001b[49m\u001b[43m)\u001b[49m\n\u001b[1;32m    319\u001b[0m     \u001b[38;5;28;01mtry\u001b[39;00m:\n\u001b[1;32m    320\u001b[0m         \u001b[38;5;28;01myield\u001b[39;00m stream\n",
      "File \u001b[0;32m~/Library/r-miniconda-arm64/lib/python3.10/site-packages/MDAnalysis/lib/util.py:398\u001b[0m, in \u001b[0;36manyopen\u001b[0;34m(datasource, mode, reset)\u001b[0m\n\u001b[1;32m    396\u001b[0m \u001b[38;5;28;01mfor\u001b[39;00m ext \u001b[38;5;129;01min\u001b[39;00m (\u001b[38;5;124m'\u001b[39m\u001b[38;5;124mbz2\u001b[39m\u001b[38;5;124m'\u001b[39m, \u001b[38;5;124m'\u001b[39m\u001b[38;5;124mgz\u001b[39m\u001b[38;5;124m'\u001b[39m, \u001b[38;5;124m'\u001b[39m\u001b[38;5;124m'\u001b[39m):  \u001b[38;5;66;03m# file == '' should be last\u001b[39;00m\n\u001b[1;32m    397\u001b[0m     openfunc \u001b[38;5;241m=\u001b[39m read_handlers[ext]\n\u001b[0;32m--> 398\u001b[0m     stream \u001b[38;5;241m=\u001b[39m \u001b[43m_get_stream\u001b[49m\u001b[43m(\u001b[49m\u001b[43mdatasource\u001b[49m\u001b[43m,\u001b[49m\u001b[43m \u001b[49m\u001b[43mopenfunc\u001b[49m\u001b[43m,\u001b[49m\u001b[43m \u001b[49m\u001b[43mmode\u001b[49m\u001b[38;5;241;43m=\u001b[39;49m\u001b[43mmode\u001b[49m\u001b[43m)\u001b[49m\n\u001b[1;32m    399\u001b[0m     \u001b[38;5;28;01mif\u001b[39;00m stream \u001b[38;5;129;01mis\u001b[39;00m \u001b[38;5;129;01mnot\u001b[39;00m \u001b[38;5;28;01mNone\u001b[39;00m:\n\u001b[1;32m    400\u001b[0m         \u001b[38;5;28;01mbreak\u001b[39;00m\n",
      "File \u001b[0;32m~/Library/r-miniconda-arm64/lib/python3.10/site-packages/MDAnalysis/lib/util.py:440\u001b[0m, in \u001b[0;36m_get_stream\u001b[0;34m(filename, openfunction, mode)\u001b[0m\n\u001b[1;32m    435\u001b[0m \u001b[38;5;28;01mexcept\u001b[39;00m (\u001b[38;5;167;01mIOError\u001b[39;00m, \u001b[38;5;167;01mOSError\u001b[39;00m) \u001b[38;5;28;01mas\u001b[39;00m err:\n\u001b[1;32m    436\u001b[0m     \u001b[38;5;66;03m# An exception might be raised due to two reasons, first the openfunction is unable to open the file, in this\u001b[39;00m\n\u001b[1;32m    437\u001b[0m     \u001b[38;5;66;03m# case we have to ignore the error and return None. Second is when openfunction can't open the file because\u001b[39;00m\n\u001b[1;32m    438\u001b[0m     \u001b[38;5;66;03m# either the file isn't there or the permissions don't allow access.\u001b[39;00m\n\u001b[1;32m    439\u001b[0m     \u001b[38;5;28;01mif\u001b[39;00m errno\u001b[38;5;241m.\u001b[39merrorcode[err\u001b[38;5;241m.\u001b[39merrno] \u001b[38;5;129;01min\u001b[39;00m [\u001b[38;5;124m'\u001b[39m\u001b[38;5;124mENOENT\u001b[39m\u001b[38;5;124m'\u001b[39m, \u001b[38;5;124m'\u001b[39m\u001b[38;5;124mEACCES\u001b[39m\u001b[38;5;124m'\u001b[39m]:\n\u001b[0;32m--> 440\u001b[0m         \u001b[38;5;28;01mraise\u001b[39;00m sys\u001b[38;5;241m.\u001b[39mexc_info()[\u001b[38;5;241m1\u001b[39m] \u001b[38;5;28;01mfrom\u001b[39;00m \u001b[38;5;21;01merr\u001b[39;00m\n\u001b[1;32m    441\u001b[0m     \u001b[38;5;28;01mreturn\u001b[39;00m \u001b[38;5;28;01mNone\u001b[39;00m\n\u001b[1;32m    442\u001b[0m \u001b[38;5;28;01mif\u001b[39;00m mode\u001b[38;5;241m.\u001b[39mstartswith(\u001b[38;5;124m'\u001b[39m\u001b[38;5;124mr\u001b[39m\u001b[38;5;124m'\u001b[39m):\n\u001b[1;32m    443\u001b[0m     \u001b[38;5;66;03m# additional check for reading (eg can we uncompress) --- is this needed?\u001b[39;00m\n",
      "File \u001b[0;32m~/Library/r-miniconda-arm64/lib/python3.10/site-packages/MDAnalysis/lib/util.py:434\u001b[0m, in \u001b[0;36m_get_stream\u001b[0;34m(filename, openfunction, mode)\u001b[0m\n\u001b[1;32m    432\u001b[0m \u001b[38;5;250m\u001b[39m\u001b[38;5;124;03m\"\"\"Return open stream if *filename* can be opened with *openfunction* or else ``None``.\"\"\"\u001b[39;00m\n\u001b[1;32m    433\u001b[0m \u001b[38;5;28;01mtry\u001b[39;00m:\n\u001b[0;32m--> 434\u001b[0m     stream \u001b[38;5;241m=\u001b[39m \u001b[43mopenfunction\u001b[49m\u001b[43m(\u001b[49m\u001b[43mfilename\u001b[49m\u001b[43m,\u001b[49m\u001b[43m \u001b[49m\u001b[43mmode\u001b[49m\u001b[38;5;241;43m=\u001b[39;49m\u001b[43mmode\u001b[49m\u001b[43m)\u001b[49m\n\u001b[1;32m    435\u001b[0m \u001b[38;5;28;01mexcept\u001b[39;00m (\u001b[38;5;167;01mIOError\u001b[39;00m, \u001b[38;5;167;01mOSError\u001b[39;00m) \u001b[38;5;28;01mas\u001b[39;00m err:\n\u001b[1;32m    436\u001b[0m     \u001b[38;5;66;03m# An exception might be raised due to two reasons, first the openfunction is unable to open the file, in this\u001b[39;00m\n\u001b[1;32m    437\u001b[0m     \u001b[38;5;66;03m# case we have to ignore the error and return None. Second is when openfunction can't open the file because\u001b[39;00m\n\u001b[1;32m    438\u001b[0m     \u001b[38;5;66;03m# either the file isn't there or the permissions don't allow access.\u001b[39;00m\n\u001b[1;32m    439\u001b[0m     \u001b[38;5;28;01mif\u001b[39;00m errno\u001b[38;5;241m.\u001b[39merrorcode[err\u001b[38;5;241m.\u001b[39merrno] \u001b[38;5;129;01min\u001b[39;00m [\u001b[38;5;124m'\u001b[39m\u001b[38;5;124mENOENT\u001b[39m\u001b[38;5;124m'\u001b[39m, \u001b[38;5;124m'\u001b[39m\u001b[38;5;124mEACCES\u001b[39m\u001b[38;5;124m'\u001b[39m]:\n",
      "File \u001b[0;32m~/Library/r-miniconda-arm64/lib/python3.10/site-packages/MDAnalysis/lib/picklable_file_io.py:502\u001b[0m, in \u001b[0;36mbz2_pickle_open\u001b[0;34m(name, mode)\u001b[0m\n\u001b[1;32m    499\u001b[0m     \u001b[38;5;28;01mraise\u001b[39;00m \u001b[38;5;167;01mValueError\u001b[39;00m(\u001b[38;5;124m\"\u001b[39m\u001b[38;5;124mOnly read mode (\u001b[39m\u001b[38;5;124m'\u001b[39m\u001b[38;5;124mr\u001b[39m\u001b[38;5;124m'\u001b[39m\u001b[38;5;124m, \u001b[39m\u001b[38;5;124m'\u001b[39m\u001b[38;5;124mrt\u001b[39m\u001b[38;5;124m'\u001b[39m\u001b[38;5;124m, \u001b[39m\u001b[38;5;124m'\u001b[39m\u001b[38;5;124mrb\u001b[39m\u001b[38;5;124m'\u001b[39m\u001b[38;5;124m) \u001b[39m\u001b[38;5;124m\"\u001b[39m\n\u001b[1;32m    500\u001b[0m                      \u001b[38;5;124m\"\u001b[39m\u001b[38;5;124mfiles can be pickled.\u001b[39m\u001b[38;5;124m\"\u001b[39m)\n\u001b[1;32m    501\u001b[0m bz_mode \u001b[38;5;241m=\u001b[39m mode\u001b[38;5;241m.\u001b[39mreplace(\u001b[38;5;124m\"\u001b[39m\u001b[38;5;124mt\u001b[39m\u001b[38;5;124m\"\u001b[39m, \u001b[38;5;124m\"\u001b[39m\u001b[38;5;124m\"\u001b[39m)\n\u001b[0;32m--> 502\u001b[0m binary_file \u001b[38;5;241m=\u001b[39m \u001b[43mBZ2Picklable\u001b[49m\u001b[43m(\u001b[49m\u001b[43mname\u001b[49m\u001b[43m,\u001b[49m\u001b[43m \u001b[49m\u001b[43mbz_mode\u001b[49m\u001b[43m)\u001b[49m\n\u001b[1;32m    503\u001b[0m \u001b[38;5;28;01mif\u001b[39;00m \u001b[38;5;124m\"\u001b[39m\u001b[38;5;124mt\u001b[39m\u001b[38;5;124m\"\u001b[39m \u001b[38;5;129;01min\u001b[39;00m mode:\n\u001b[1;32m    504\u001b[0m     \u001b[38;5;28;01mreturn\u001b[39;00m TextIOPicklable(binary_file)\n",
      "File \u001b[0;32m~/Library/r-miniconda-arm64/lib/python3.10/site-packages/MDAnalysis/lib/picklable_file_io.py:283\u001b[0m, in \u001b[0;36mBZ2Picklable.__init__\u001b[0;34m(self, name, mode)\u001b[0m\n\u001b[1;32m    281\u001b[0m \u001b[38;5;28;01mdef\u001b[39;00m \u001b[38;5;21m__init__\u001b[39m(\u001b[38;5;28mself\u001b[39m, name, mode\u001b[38;5;241m=\u001b[39m\u001b[38;5;124m'\u001b[39m\u001b[38;5;124mrb\u001b[39m\u001b[38;5;124m'\u001b[39m):\n\u001b[1;32m    282\u001b[0m     \u001b[38;5;28mself\u001b[39m\u001b[38;5;241m.\u001b[39m_bz_mode \u001b[38;5;241m=\u001b[39m mode\n\u001b[0;32m--> 283\u001b[0m     \u001b[38;5;28;43msuper\u001b[39;49m\u001b[43m(\u001b[49m\u001b[43m)\u001b[49m\u001b[38;5;241;43m.\u001b[39;49m\u001b[38;5;21;43m__init__\u001b[39;49m\u001b[43m(\u001b[49m\u001b[43mname\u001b[49m\u001b[43m,\u001b[49m\u001b[43m \u001b[49m\u001b[43mmode\u001b[49m\u001b[43m)\u001b[49m\n",
      "File \u001b[0;32m~/Library/r-miniconda-arm64/lib/python3.10/bz2.py:81\u001b[0m, in \u001b[0;36mBZ2File.__init__\u001b[0;34m(self, filename, mode, compresslevel)\u001b[0m\n\u001b[1;32m     78\u001b[0m     \u001b[38;5;28;01mraise\u001b[39;00m \u001b[38;5;167;01mValueError\u001b[39;00m(\u001b[38;5;124m\"\u001b[39m\u001b[38;5;124mInvalid mode: \u001b[39m\u001b[38;5;132;01m%r\u001b[39;00m\u001b[38;5;124m\"\u001b[39m \u001b[38;5;241m%\u001b[39m (mode,))\n\u001b[1;32m     80\u001b[0m \u001b[38;5;28;01mif\u001b[39;00m \u001b[38;5;28misinstance\u001b[39m(filename, (\u001b[38;5;28mstr\u001b[39m, \u001b[38;5;28mbytes\u001b[39m, os\u001b[38;5;241m.\u001b[39mPathLike)):\n\u001b[0;32m---> 81\u001b[0m     \u001b[38;5;28mself\u001b[39m\u001b[38;5;241m.\u001b[39m_fp \u001b[38;5;241m=\u001b[39m \u001b[43m_builtin_open\u001b[49m\u001b[43m(\u001b[49m\u001b[43mfilename\u001b[49m\u001b[43m,\u001b[49m\u001b[43m \u001b[49m\u001b[43mmode\u001b[49m\u001b[43m)\u001b[49m\n\u001b[1;32m     82\u001b[0m     \u001b[38;5;28mself\u001b[39m\u001b[38;5;241m.\u001b[39m_closefp \u001b[38;5;241m=\u001b[39m \u001b[38;5;28;01mTrue\u001b[39;00m\n\u001b[1;32m     83\u001b[0m     \u001b[38;5;28mself\u001b[39m\u001b[38;5;241m.\u001b[39m_mode \u001b[38;5;241m=\u001b[39m mode_code\n",
      "\u001b[0;31mFileNotFoundError\u001b[0m: [Errno 2] No such file or directory: '/Users/finn/Documents/GitHub/rmsx_paper_files/rmsx/rmsx/rmsx/rmsx.rmsx/test_files/1UBQ.pdb'"
     ]
    }
   ],
   "source": [
    "# Make sure you run this *after* the git clone in the notebook\n",
    "# and that your working directory is where the notebook lives.\n",
    "\n",
    "import os\n",
    "\n",
    "# Get absolute path to the cloned rmsx repo\n",
    "repo_dir = os.path.abspath(\"rmsx\")\n",
    "\n",
    "# Point to the files inside test_files\n",
    "pdb_file    = os.path.join(repo_dir, \"test_files\", \"1UBQ.pdb\")\n",
    "dcd_file    = os.path.join(repo_dir, \"test_files\", \"mon_sys.dcd\")\n",
    "output_dir  = os.path.join(repo_dir, \"test_files\", \"example1\") # this will be where the new directory will be made\n",
    "\n",
    "\n",
    "\n",
    "run_rmsx(\n",
    "    topology_file=pdb_file,\n",
    "    trajectory_file=dcd_file,\n",
    "    output_dir=output_dir,\n",
    "    num_slices=9,\n",
    "    slice_size=None,\n",
    "    rscript_executable=\"Rscript\",   # only change this if Rscript isn't in your PATH\n",
    "    verbose=False,\n",
    "    interpolate=False,\n",
    "    triple=True,\n",
    "    overwrite=True,\n",
    "    palette=\"mako\",\n",
    "    chain_sele=None, # this protein has a somewhat unusual chain name \"7\"\n",
    "    start_frame=0,\n",
    "    end_frame=None\n",
    ")\n"
   ]
  },
  {
   "cell_type": "markdown",
   "id": "a51f910b",
   "metadata": {},
   "source": [
    "## 3. Single-Chain RMSX Analysis\n",
    "\n",
    "The `run_rmsx` function computes RMSX for a specified chain (e.g., chain A or a single-chain\n",
    "protein) and automatically generates:\n",
    "\n",
    "* A **heatmap** of RMSX values vs. residue and time slice  \n",
    "* An **RMSD** plot for overall structural changes  \n",
    "* An **RMSF** plot over the entire simulation  \n",
    "\n",
    "We'll also set `palette=\"mako\"` or any color scheme supported by R's `viridis` package."
   ]
  },
  {
   "cell_type": "markdown",
   "id": "bd1fc938",
   "metadata": {},
   "source": [
    "If the analysis ran successfully, RMSX will produce plots in the specified output directory.\n",
    "Typically, you'll see a **CSV** with the RMSX values per residue/time-slice, plus **PNG** plots of:\n",
    "\n",
    "1. RMSX heatmap  \n",
    "2. RMSD time series  \n",
    "3. RMSF bar chart"
   ]
  },
  {
   "cell_type": "code",
   "execution_count": null,
   "id": "1640ba3e",
   "metadata": {
    "ExecuteTime": {
     "end_time": "2025-01-29T20:22:21.565239Z",
     "start_time": "2025-01-29T20:22:20.420956Z"
    }
   },
   "outputs": [],
   "source": [
    "# Ready to to try with your files? try it out here:\n",
    "\n",
    "# pdb_file    = \"/path/to/your/pdb\"\n",
    "# dcd_file    = \"/path/to/your/trajectory\"\n",
    "# output_dir  = \"/path/to/your/outputfile\"  \n",
    "\n",
    "\n",
    "\n",
    "# run_rmsx(\n",
    "#     topology_file=pdb_file,\n",
    "#     trajectory_file=dcd_file,\n",
    "#     output_dir=output_dir,\n",
    "#     num_slices=9,                   # Option 1: specify number of slices\n",
    "#     slice_size=None,                # Option 2: specify slice size in frames instead\n",
    "#     rscript_executable='Rscript',   # Path to Rscript (if not in PATH)\n",
    "#     verbose=False,\n",
    "#     interpolate=False,              # Whether to interpolate between slices\n",
    "#     triple=True,                    # Generate RMSX, RMSD, RMSF together\n",
    "#     overwrite=True,\n",
    "#     palette=\"mako\",\n",
    "#     chain_sele=None,                # e.g., \"A\" for chain A. If None, single-chain is assumed\n",
    "#     start_frame=0,\n",
    "#     end_frame=None\n",
    "# )"
   ]
  },
  {
   "cell_type": "markdown",
   "id": "35e64b20",
   "metadata": {},
   "source": [
    "## 4. Multi-Chain RMSX Analysis\n",
    "\n",
    "For a protein with multiple chains (e.g., an HIV protease dimer), you can use\n",
    "`all_chain_rmsx` or `run_rmsx_flipbook` to compute RMSX for each chain separately.\n",
    "The function can also map the RMSX values back onto a *combined* PDB file for a\n",
    "multi-chain FlipBook.\n",
    "\n",
    "If you only want an RMSX plot for one of your chains use `run_rmsx()`\n",
    "\n",
    "`all_chain_rmsx()` will work regardless of the number of chains\n",
    "\n"
   ]
  },
  {
   "cell_type": "code",
   "execution_count": 9,
   "id": "bbc235c5",
   "metadata": {
    "ExecuteTime": {
     "end_time": "2025-01-31T15:48:30.587148Z",
     "start_time": "2025-01-31T15:48:30.472371Z"
    }
   },
   "outputs": [
    {
     "ename": "FileNotFoundError",
     "evalue": "[Errno 2] No such file or directory: '/Users/finn/Documents/GitHub/rmsx_paper_files/rmsx/rmsx/test_files/1UBQ.pdb'",
     "output_type": "error",
     "traceback": [
      "\u001b[0;31m---------------------------------------------------------------------------\u001b[0m",
      "\u001b[0;31mFileNotFoundError\u001b[0m                         Traceback (most recent call last)",
      "    \u001b[0;31m[... skipping hidden 1 frame]\u001b[0m\n",
      "Cell \u001b[0;32mIn[9], line 3\u001b[0m\n\u001b[1;32m      1\u001b[0m \u001b[38;5;28;01mfrom\u001b[39;00m \u001b[38;5;21;01mrmsx\u001b[39;00m \u001b[38;5;28;01mimport\u001b[39;00m all_chain_rmsx\n\u001b[0;32m----> 3\u001b[0m \u001b[43mall_chain_rmsx\u001b[49m\u001b[43m(\u001b[49m\n\u001b[1;32m      4\u001b[0m \u001b[43m    \u001b[49m\u001b[43mtopology_file\u001b[49m\u001b[38;5;241;43m=\u001b[39;49m\u001b[43mpdb_file\u001b[49m\u001b[43m,\u001b[49m\n\u001b[1;32m      5\u001b[0m \u001b[43m    \u001b[49m\u001b[43mtrajectory_file\u001b[49m\u001b[38;5;241;43m=\u001b[39;49m\u001b[43mdcd_file\u001b[49m\u001b[43m,\u001b[49m\n\u001b[1;32m      6\u001b[0m \u001b[43m    \u001b[49m\u001b[43moutput_dir\u001b[49m\u001b[38;5;241;43m=\u001b[39;49m\u001b[43moutput_dir\u001b[49m\u001b[43m,\u001b[49m\n\u001b[1;32m      7\u001b[0m \u001b[43m    \u001b[49m\u001b[43mnum_slices\u001b[49m\u001b[38;5;241;43m=\u001b[39;49m\u001b[38;5;241;43m12\u001b[39;49m\u001b[43m,\u001b[49m\n\u001b[1;32m      8\u001b[0m \u001b[43m    \u001b[49m\u001b[43mslice_size\u001b[49m\u001b[38;5;241;43m=\u001b[39;49m\u001b[38;5;28;43;01mNone\u001b[39;49;00m\u001b[43m,\u001b[49m\n\u001b[1;32m      9\u001b[0m \u001b[43m    \u001b[49m\u001b[43mrscript_executable\u001b[49m\u001b[38;5;241;43m=\u001b[39;49m\u001b[38;5;124;43m'\u001b[39;49m\u001b[38;5;124;43mRscript\u001b[39;49m\u001b[38;5;124;43m'\u001b[39;49m\u001b[43m,\u001b[49m\n\u001b[1;32m     10\u001b[0m \u001b[43m    \u001b[49m\u001b[43mverbose\u001b[49m\u001b[38;5;241;43m=\u001b[39;49m\u001b[38;5;28;43;01mFalse\u001b[39;49;00m\u001b[43m,\u001b[49m\n\u001b[1;32m     11\u001b[0m \u001b[43m    \u001b[49m\u001b[43minterpolate\u001b[49m\u001b[38;5;241;43m=\u001b[39;49m\u001b[38;5;28;43;01mFalse\u001b[39;49;00m\u001b[43m,\u001b[49m\n\u001b[1;32m     12\u001b[0m \u001b[43m    \u001b[49m\u001b[43mtriple\u001b[49m\u001b[38;5;241;43m=\u001b[39;49m\u001b[38;5;28;43;01mTrue\u001b[39;49;00m\u001b[43m,\u001b[49m\n\u001b[1;32m     13\u001b[0m \u001b[43m    \u001b[49m\u001b[43moverwrite\u001b[49m\u001b[38;5;241;43m=\u001b[39;49m\u001b[38;5;28;43;01mTrue\u001b[39;49;00m\u001b[43m,\u001b[49m\n\u001b[1;32m     14\u001b[0m \u001b[43m    \u001b[49m\u001b[43mpalette\u001b[49m\u001b[38;5;241;43m=\u001b[39;49m\u001b[38;5;124;43m\"\u001b[39;49m\u001b[38;5;124;43mturbo\u001b[39;49m\u001b[38;5;124;43m\"\u001b[39;49m\u001b[43m,\u001b[49m\n\u001b[1;32m     15\u001b[0m \u001b[43m    \u001b[49m\u001b[43mstart_frame\u001b[49m\u001b[38;5;241;43m=\u001b[39;49m\u001b[38;5;241;43m0\u001b[39;49m\u001b[43m,\u001b[49m\n\u001b[1;32m     16\u001b[0m \u001b[43m    \u001b[49m\u001b[43mend_frame\u001b[49m\u001b[38;5;241;43m=\u001b[39;49m\u001b[38;5;28;43;01mNone\u001b[39;49;00m\u001b[43m,\u001b[49m\n\u001b[1;32m     17\u001b[0m \u001b[43m    \u001b[49m\u001b[43msync_color_scale\u001b[49m\u001b[38;5;241;43m=\u001b[39;49m\u001b[38;5;28;43;01mTrue\u001b[39;49;00m\u001b[43m   \u001b[49m\u001b[38;5;66;43;03m# Synchronize color bar across chains\u001b[39;49;00m\n\u001b[1;32m     18\u001b[0m \u001b[43m)\u001b[49m\n",
      "File \u001b[0;32m~/Documents/GitHub/rmsx_paper_files/rmsx/rmsx/rmsx.py:957\u001b[0m, in \u001b[0;36mall_chain_rmsx\u001b[0;34m(topology_file, trajectory_file, output_dir, num_slices, slice_size, rscript_executable, verbose, interpolate, triple, overwrite, palette, start_frame, end_frame, sync_color_scale, analysis_type, manual_length_ns, summary_n, log_transform, custom_fill_label)\u001b[0m\n\u001b[1;32m    955\u001b[0m         \u001b[38;5;28mprint\u001b[39m(\u001b[38;5;124mf\u001b[39m\u001b[38;5;124m\"\u001b[39m\u001b[38;5;124mCreated main output directory: \u001b[39m\u001b[38;5;132;01m{\u001b[39;00moutput_dir\u001b[38;5;132;01m}\u001b[39;00m\u001b[38;5;124m\"\u001b[39m)\n\u001b[0;32m--> 957\u001b[0m u_top \u001b[38;5;241m=\u001b[39m \u001b[43mmda\u001b[49m\u001b[38;5;241;43m.\u001b[39;49m\u001b[43mUniverse\u001b[49m\u001b[43m(\u001b[49m\u001b[43mtopology_file\u001b[49m\u001b[43m)\u001b[49m\n\u001b[1;32m    958\u001b[0m chain_ids \u001b[38;5;241m=\u001b[39m np\u001b[38;5;241m.\u001b[39munique(u_top\u001b[38;5;241m.\u001b[39matoms\u001b[38;5;241m.\u001b[39msegids)\n",
      "File \u001b[0;32m~/Library/r-miniconda-arm64/lib/python3.10/site-packages/MDAnalysis/core/universe.py:356\u001b[0m, in \u001b[0;36mUniverse.__init__\u001b[0;34m(self, topology, all_coordinates, format, topology_format, transformations, guess_bonds, vdwradii, fudge_factor, lower_bound, in_memory, in_memory_step, *coordinates, **kwargs)\u001b[0m\n\u001b[1;32m    355\u001b[0m     \u001b[38;5;28mself\u001b[39m\u001b[38;5;241m.\u001b[39mfilename \u001b[38;5;241m=\u001b[39m _check_file_like(topology)\n\u001b[0;32m--> 356\u001b[0m     topology \u001b[38;5;241m=\u001b[39m \u001b[43m_topology_from_file_like\u001b[49m\u001b[43m(\u001b[49m\u001b[38;5;28;43mself\u001b[39;49m\u001b[38;5;241;43m.\u001b[39;49m\u001b[43mfilename\u001b[49m\u001b[43m,\u001b[49m\n\u001b[1;32m    357\u001b[0m \u001b[43m                                        \u001b[49m\u001b[43mtopology_format\u001b[49m\u001b[38;5;241;43m=\u001b[39;49m\u001b[43mtopology_format\u001b[49m\u001b[43m,\u001b[49m\n\u001b[1;32m    358\u001b[0m \u001b[43m                                        \u001b[49m\u001b[38;5;241;43m*\u001b[39;49m\u001b[38;5;241;43m*\u001b[39;49m\u001b[43mkwargs\u001b[49m\u001b[43m)\u001b[49m\n\u001b[1;32m    360\u001b[0m \u001b[38;5;28;01mif\u001b[39;00m topology \u001b[38;5;129;01mis\u001b[39;00m \u001b[38;5;129;01mnot\u001b[39;00m \u001b[38;5;28;01mNone\u001b[39;00m:\n",
      "File \u001b[0;32m~/Library/r-miniconda-arm64/lib/python3.10/site-packages/MDAnalysis/core/universe.py:118\u001b[0m, in \u001b[0;36m_topology_from_file_like\u001b[0;34m(topology_file, topology_format, **kwargs)\u001b[0m\n\u001b[1;32m    115\u001b[0m \u001b[38;5;28;01mif\u001b[39;00m (err\u001b[38;5;241m.\u001b[39merrno \u001b[38;5;129;01mis\u001b[39;00m \u001b[38;5;129;01mnot\u001b[39;00m \u001b[38;5;28;01mNone\u001b[39;00m \u001b[38;5;129;01mand\u001b[39;00m\n\u001b[1;32m    116\u001b[0m     errno\u001b[38;5;241m.\u001b[39merrorcode[err\u001b[38;5;241m.\u001b[39merrno] \u001b[38;5;129;01min\u001b[39;00m [\u001b[38;5;124m'\u001b[39m\u001b[38;5;124mENOENT\u001b[39m\u001b[38;5;124m'\u001b[39m, \u001b[38;5;124m'\u001b[39m\u001b[38;5;124mEACCES\u001b[39m\u001b[38;5;124m'\u001b[39m]):\n\u001b[1;32m    117\u001b[0m     \u001b[38;5;66;03m# Runs if the error is propagated due to no permission / file not found\u001b[39;00m\n\u001b[0;32m--> 118\u001b[0m     \u001b[38;5;28;01mraise\u001b[39;00m sys\u001b[38;5;241m.\u001b[39mexc_info()[\u001b[38;5;241m1\u001b[39m] \u001b[38;5;28;01mfrom\u001b[39;00m \u001b[38;5;21;01merr\u001b[39;00m\n\u001b[1;32m    119\u001b[0m \u001b[38;5;28;01melse\u001b[39;00m:\n\u001b[1;32m    120\u001b[0m     \u001b[38;5;66;03m# Runs when the parser fails\u001b[39;00m\n",
      "File \u001b[0;32m~/Library/r-miniconda-arm64/lib/python3.10/site-packages/MDAnalysis/core/universe.py:110\u001b[0m, in \u001b[0;36m_topology_from_file_like\u001b[0;34m(topology_file, topology_format, **kwargs)\u001b[0m\n\u001b[1;32m    109\u001b[0m     \u001b[38;5;28;01mwith\u001b[39;00m parser(topology_file) \u001b[38;5;28;01mas\u001b[39;00m p:\n\u001b[0;32m--> 110\u001b[0m         topology \u001b[38;5;241m=\u001b[39m \u001b[43mp\u001b[49m\u001b[38;5;241;43m.\u001b[39;49m\u001b[43mparse\u001b[49m\u001b[43m(\u001b[49m\u001b[38;5;241;43m*\u001b[39;49m\u001b[38;5;241;43m*\u001b[39;49m\u001b[43mkwargs\u001b[49m\u001b[43m)\u001b[49m\n\u001b[1;32m    111\u001b[0m \u001b[38;5;28;01mexcept\u001b[39;00m (\u001b[38;5;167;01mIOError\u001b[39;00m, \u001b[38;5;167;01mOSError\u001b[39;00m) \u001b[38;5;28;01mas\u001b[39;00m err:\n\u001b[1;32m    112\u001b[0m     \u001b[38;5;66;03m# There are 2 kinds of errors that might be raised here:\u001b[39;00m\n\u001b[1;32m    113\u001b[0m     \u001b[38;5;66;03m# one because the file isn't present\u001b[39;00m\n\u001b[1;32m    114\u001b[0m     \u001b[38;5;66;03m# or the permissions are bad, second when the parser fails\u001b[39;00m\n",
      "File \u001b[0;32m~/Library/r-miniconda-arm64/lib/python3.10/site-packages/MDAnalysis/topology/PDBParser.py:210\u001b[0m, in \u001b[0;36mPDBParser.parse\u001b[0;34m(self, **kwargs)\u001b[0m\n\u001b[1;32m    204\u001b[0m \u001b[38;5;250m\u001b[39m\u001b[38;5;124;03m\"\"\"Parse atom information from PDB file\u001b[39;00m\n\u001b[1;32m    205\u001b[0m \n\u001b[1;32m    206\u001b[0m \u001b[38;5;124;03mReturns\u001b[39;00m\n\u001b[1;32m    207\u001b[0m \u001b[38;5;124;03m-------\u001b[39;00m\n\u001b[1;32m    208\u001b[0m \u001b[38;5;124;03mMDAnalysis Topology object\u001b[39;00m\n\u001b[1;32m    209\u001b[0m \u001b[38;5;124;03m\"\"\"\u001b[39;00m\n\u001b[0;32m--> 210\u001b[0m top \u001b[38;5;241m=\u001b[39m \u001b[38;5;28;43mself\u001b[39;49m\u001b[38;5;241;43m.\u001b[39;49m\u001b[43m_parseatoms\u001b[49m\u001b[43m(\u001b[49m\u001b[43m)\u001b[49m\n\u001b[1;32m    212\u001b[0m \u001b[38;5;28;01mtry\u001b[39;00m:\n",
      "File \u001b[0;32m~/Library/r-miniconda-arm64/lib/python3.10/site-packages/MDAnalysis/topology/PDBParser.py:247\u001b[0m, in \u001b[0;36mPDBParser._parseatoms\u001b[0;34m(self)\u001b[0m\n\u001b[1;32m    246\u001b[0m last_wrapped_serial \u001b[38;5;241m=\u001b[39m \u001b[38;5;241m100000\u001b[39m  \u001b[38;5;66;03m# if serials wrap, start from here\u001b[39;00m\n\u001b[0;32m--> 247\u001b[0m \u001b[38;5;28;01mwith\u001b[39;00m util\u001b[38;5;241m.\u001b[39mopenany(\u001b[38;5;28mself\u001b[39m\u001b[38;5;241m.\u001b[39mfilename) \u001b[38;5;28;01mas\u001b[39;00m f:\n\u001b[1;32m    248\u001b[0m     \u001b[38;5;28;01mfor\u001b[39;00m line \u001b[38;5;129;01min\u001b[39;00m f:\n",
      "File \u001b[0;32m~/Library/r-miniconda-arm64/lib/python3.10/contextlib.py:135\u001b[0m, in \u001b[0;36m_GeneratorContextManager.__enter__\u001b[0;34m(self)\u001b[0m\n\u001b[1;32m    134\u001b[0m \u001b[38;5;28;01mtry\u001b[39;00m:\n\u001b[0;32m--> 135\u001b[0m     \u001b[38;5;28;01mreturn\u001b[39;00m \u001b[38;5;28;43mnext\u001b[39;49m\u001b[43m(\u001b[49m\u001b[38;5;28;43mself\u001b[39;49m\u001b[38;5;241;43m.\u001b[39;49m\u001b[43mgen\u001b[49m\u001b[43m)\u001b[49m\n\u001b[1;32m    136\u001b[0m \u001b[38;5;28;01mexcept\u001b[39;00m \u001b[38;5;167;01mStopIteration\u001b[39;00m:\n",
      "File \u001b[0;32m~/Library/r-miniconda-arm64/lib/python3.10/site-packages/MDAnalysis/lib/util.py:318\u001b[0m, in \u001b[0;36mopenany\u001b[0;34m(datasource, mode, reset)\u001b[0m\n\u001b[1;32m    276\u001b[0m \u001b[38;5;250m\u001b[39m\u001b[38;5;124;03m\"\"\"Context manager for :func:`anyopen`.\u001b[39;00m\n\u001b[1;32m    277\u001b[0m \n\u001b[1;32m    278\u001b[0m \u001b[38;5;124;03mOpen the `datasource` and close it when the context of the :keyword:`with`\u001b[39;00m\n\u001b[0;32m   (...)\u001b[0m\n\u001b[1;32m    316\u001b[0m \u001b[38;5;124;03m:func:`anyopen`\u001b[39;00m\n\u001b[1;32m    317\u001b[0m \u001b[38;5;124;03m\"\"\"\u001b[39;00m\n\u001b[0;32m--> 318\u001b[0m stream \u001b[38;5;241m=\u001b[39m \u001b[43manyopen\u001b[49m\u001b[43m(\u001b[49m\u001b[43mdatasource\u001b[49m\u001b[43m,\u001b[49m\u001b[43m \u001b[49m\u001b[43mmode\u001b[49m\u001b[38;5;241;43m=\u001b[39;49m\u001b[43mmode\u001b[49m\u001b[43m,\u001b[49m\u001b[43m \u001b[49m\u001b[43mreset\u001b[49m\u001b[38;5;241;43m=\u001b[39;49m\u001b[43mreset\u001b[49m\u001b[43m)\u001b[49m\n\u001b[1;32m    319\u001b[0m \u001b[38;5;28;01mtry\u001b[39;00m:\n",
      "File \u001b[0;32m~/Library/r-miniconda-arm64/lib/python3.10/site-packages/MDAnalysis/lib/util.py:398\u001b[0m, in \u001b[0;36manyopen\u001b[0;34m(datasource, mode, reset)\u001b[0m\n\u001b[1;32m    397\u001b[0m openfunc \u001b[38;5;241m=\u001b[39m read_handlers[ext]\n\u001b[0;32m--> 398\u001b[0m stream \u001b[38;5;241m=\u001b[39m \u001b[43m_get_stream\u001b[49m\u001b[43m(\u001b[49m\u001b[43mdatasource\u001b[49m\u001b[43m,\u001b[49m\u001b[43m \u001b[49m\u001b[43mopenfunc\u001b[49m\u001b[43m,\u001b[49m\u001b[43m \u001b[49m\u001b[43mmode\u001b[49m\u001b[38;5;241;43m=\u001b[39;49m\u001b[43mmode\u001b[49m\u001b[43m)\u001b[49m\n\u001b[1;32m    399\u001b[0m \u001b[38;5;28;01mif\u001b[39;00m stream \u001b[38;5;129;01mis\u001b[39;00m \u001b[38;5;129;01mnot\u001b[39;00m \u001b[38;5;28;01mNone\u001b[39;00m:\n",
      "File \u001b[0;32m~/Library/r-miniconda-arm64/lib/python3.10/site-packages/MDAnalysis/lib/util.py:440\u001b[0m, in \u001b[0;36m_get_stream\u001b[0;34m(filename, openfunction, mode)\u001b[0m\n\u001b[1;32m    439\u001b[0m \u001b[38;5;28;01mif\u001b[39;00m errno\u001b[38;5;241m.\u001b[39merrorcode[err\u001b[38;5;241m.\u001b[39merrno] \u001b[38;5;129;01min\u001b[39;00m [\u001b[38;5;124m'\u001b[39m\u001b[38;5;124mENOENT\u001b[39m\u001b[38;5;124m'\u001b[39m, \u001b[38;5;124m'\u001b[39m\u001b[38;5;124mEACCES\u001b[39m\u001b[38;5;124m'\u001b[39m]:\n\u001b[0;32m--> 440\u001b[0m     \u001b[38;5;28;01mraise\u001b[39;00m sys\u001b[38;5;241m.\u001b[39mexc_info()[\u001b[38;5;241m1\u001b[39m] \u001b[38;5;28;01mfrom\u001b[39;00m \u001b[38;5;21;01merr\u001b[39;00m\n\u001b[1;32m    441\u001b[0m \u001b[38;5;28;01mreturn\u001b[39;00m \u001b[38;5;28;01mNone\u001b[39;00m\n",
      "File \u001b[0;32m~/Library/r-miniconda-arm64/lib/python3.10/site-packages/MDAnalysis/lib/util.py:434\u001b[0m, in \u001b[0;36m_get_stream\u001b[0;34m(filename, openfunction, mode)\u001b[0m\n\u001b[1;32m    433\u001b[0m \u001b[38;5;28;01mtry\u001b[39;00m:\n\u001b[0;32m--> 434\u001b[0m     stream \u001b[38;5;241m=\u001b[39m \u001b[43mopenfunction\u001b[49m\u001b[43m(\u001b[49m\u001b[43mfilename\u001b[49m\u001b[43m,\u001b[49m\u001b[43m \u001b[49m\u001b[43mmode\u001b[49m\u001b[38;5;241;43m=\u001b[39;49m\u001b[43mmode\u001b[49m\u001b[43m)\u001b[49m\n\u001b[1;32m    435\u001b[0m \u001b[38;5;28;01mexcept\u001b[39;00m (\u001b[38;5;167;01mIOError\u001b[39;00m, \u001b[38;5;167;01mOSError\u001b[39;00m) \u001b[38;5;28;01mas\u001b[39;00m err:\n\u001b[1;32m    436\u001b[0m     \u001b[38;5;66;03m# An exception might be raised due to two reasons, first the openfunction is unable to open the file, in this\u001b[39;00m\n\u001b[1;32m    437\u001b[0m     \u001b[38;5;66;03m# case we have to ignore the error and return None. Second is when openfunction can't open the file because\u001b[39;00m\n\u001b[1;32m    438\u001b[0m     \u001b[38;5;66;03m# either the file isn't there or the permissions don't allow access.\u001b[39;00m\n",
      "File \u001b[0;32m~/Library/r-miniconda-arm64/lib/python3.10/site-packages/MDAnalysis/lib/picklable_file_io.py:502\u001b[0m, in \u001b[0;36mbz2_pickle_open\u001b[0;34m(name, mode)\u001b[0m\n\u001b[1;32m    501\u001b[0m bz_mode \u001b[38;5;241m=\u001b[39m mode\u001b[38;5;241m.\u001b[39mreplace(\u001b[38;5;124m\"\u001b[39m\u001b[38;5;124mt\u001b[39m\u001b[38;5;124m\"\u001b[39m, \u001b[38;5;124m\"\u001b[39m\u001b[38;5;124m\"\u001b[39m)\n\u001b[0;32m--> 502\u001b[0m binary_file \u001b[38;5;241m=\u001b[39m \u001b[43mBZ2Picklable\u001b[49m\u001b[43m(\u001b[49m\u001b[43mname\u001b[49m\u001b[43m,\u001b[49m\u001b[43m \u001b[49m\u001b[43mbz_mode\u001b[49m\u001b[43m)\u001b[49m\n\u001b[1;32m    503\u001b[0m \u001b[38;5;28;01mif\u001b[39;00m \u001b[38;5;124m\"\u001b[39m\u001b[38;5;124mt\u001b[39m\u001b[38;5;124m\"\u001b[39m \u001b[38;5;129;01min\u001b[39;00m mode:\n",
      "File \u001b[0;32m~/Library/r-miniconda-arm64/lib/python3.10/site-packages/MDAnalysis/lib/picklable_file_io.py:283\u001b[0m, in \u001b[0;36mBZ2Picklable.__init__\u001b[0;34m(self, name, mode)\u001b[0m\n\u001b[1;32m    282\u001b[0m \u001b[38;5;28mself\u001b[39m\u001b[38;5;241m.\u001b[39m_bz_mode \u001b[38;5;241m=\u001b[39m mode\n\u001b[0;32m--> 283\u001b[0m \u001b[38;5;28;43msuper\u001b[39;49m\u001b[43m(\u001b[49m\u001b[43m)\u001b[49m\u001b[38;5;241;43m.\u001b[39;49m\u001b[38;5;21;43m__init__\u001b[39;49m\u001b[43m(\u001b[49m\u001b[43mname\u001b[49m\u001b[43m,\u001b[49m\u001b[43m \u001b[49m\u001b[43mmode\u001b[49m\u001b[43m)\u001b[49m\n",
      "File \u001b[0;32m~/Library/r-miniconda-arm64/lib/python3.10/bz2.py:81\u001b[0m, in \u001b[0;36mBZ2File.__init__\u001b[0;34m(self, filename, mode, compresslevel)\u001b[0m\n\u001b[1;32m     80\u001b[0m \u001b[38;5;28;01mif\u001b[39;00m \u001b[38;5;28misinstance\u001b[39m(filename, (\u001b[38;5;28mstr\u001b[39m, \u001b[38;5;28mbytes\u001b[39m, os\u001b[38;5;241m.\u001b[39mPathLike)):\n\u001b[0;32m---> 81\u001b[0m     \u001b[38;5;28mself\u001b[39m\u001b[38;5;241m.\u001b[39m_fp \u001b[38;5;241m=\u001b[39m \u001b[43m_builtin_open\u001b[49m\u001b[43m(\u001b[49m\u001b[43mfilename\u001b[49m\u001b[43m,\u001b[49m\u001b[43m \u001b[49m\u001b[43mmode\u001b[49m\u001b[43m)\u001b[49m\n\u001b[1;32m     82\u001b[0m     \u001b[38;5;28mself\u001b[39m\u001b[38;5;241m.\u001b[39m_closefp \u001b[38;5;241m=\u001b[39m \u001b[38;5;28;01mTrue\u001b[39;00m\n",
      "\u001b[0;31mFileNotFoundError\u001b[0m: [Errno 2] No such file or directory: '/Users/finn/Documents/GitHub/rmsx_paper_files/rmsx/rmsx/test_files/1UBQ.pdb'",
      "\nThe above exception was the direct cause of the following exception:\n",
      "\u001b[0;31mFileNotFoundError\u001b[0m                         Traceback (most recent call last)",
      "    \u001b[0;31m[... skipping hidden 1 frame]\u001b[0m\n",
      "Cell \u001b[0;32mIn[9], line 3\u001b[0m\n\u001b[1;32m      1\u001b[0m \u001b[38;5;28;01mfrom\u001b[39;00m \u001b[38;5;21;01mrmsx\u001b[39;00m \u001b[38;5;28;01mimport\u001b[39;00m all_chain_rmsx\n\u001b[0;32m----> 3\u001b[0m \u001b[43mall_chain_rmsx\u001b[49m\u001b[43m(\u001b[49m\n\u001b[1;32m      4\u001b[0m \u001b[43m    \u001b[49m\u001b[43mtopology_file\u001b[49m\u001b[38;5;241;43m=\u001b[39;49m\u001b[43mpdb_file\u001b[49m\u001b[43m,\u001b[49m\n\u001b[1;32m      5\u001b[0m \u001b[43m    \u001b[49m\u001b[43mtrajectory_file\u001b[49m\u001b[38;5;241;43m=\u001b[39;49m\u001b[43mdcd_file\u001b[49m\u001b[43m,\u001b[49m\n\u001b[1;32m      6\u001b[0m \u001b[43m    \u001b[49m\u001b[43moutput_dir\u001b[49m\u001b[38;5;241;43m=\u001b[39;49m\u001b[43moutput_dir\u001b[49m\u001b[43m,\u001b[49m\n\u001b[1;32m      7\u001b[0m \u001b[43m    \u001b[49m\u001b[43mnum_slices\u001b[49m\u001b[38;5;241;43m=\u001b[39;49m\u001b[38;5;241;43m12\u001b[39;49m\u001b[43m,\u001b[49m\n\u001b[1;32m      8\u001b[0m \u001b[43m    \u001b[49m\u001b[43mslice_size\u001b[49m\u001b[38;5;241;43m=\u001b[39;49m\u001b[38;5;28;43;01mNone\u001b[39;49;00m\u001b[43m,\u001b[49m\n\u001b[1;32m      9\u001b[0m \u001b[43m    \u001b[49m\u001b[43mrscript_executable\u001b[49m\u001b[38;5;241;43m=\u001b[39;49m\u001b[38;5;124;43m'\u001b[39;49m\u001b[38;5;124;43mRscript\u001b[39;49m\u001b[38;5;124;43m'\u001b[39;49m\u001b[43m,\u001b[49m\n\u001b[1;32m     10\u001b[0m \u001b[43m    \u001b[49m\u001b[43mverbose\u001b[49m\u001b[38;5;241;43m=\u001b[39;49m\u001b[38;5;28;43;01mFalse\u001b[39;49;00m\u001b[43m,\u001b[49m\n\u001b[1;32m     11\u001b[0m \u001b[43m    \u001b[49m\u001b[43minterpolate\u001b[49m\u001b[38;5;241;43m=\u001b[39;49m\u001b[38;5;28;43;01mFalse\u001b[39;49;00m\u001b[43m,\u001b[49m\n\u001b[1;32m     12\u001b[0m \u001b[43m    \u001b[49m\u001b[43mtriple\u001b[49m\u001b[38;5;241;43m=\u001b[39;49m\u001b[38;5;28;43;01mTrue\u001b[39;49;00m\u001b[43m,\u001b[49m\n\u001b[1;32m     13\u001b[0m \u001b[43m    \u001b[49m\u001b[43moverwrite\u001b[49m\u001b[38;5;241;43m=\u001b[39;49m\u001b[38;5;28;43;01mTrue\u001b[39;49;00m\u001b[43m,\u001b[49m\n\u001b[1;32m     14\u001b[0m \u001b[43m    \u001b[49m\u001b[43mpalette\u001b[49m\u001b[38;5;241;43m=\u001b[39;49m\u001b[38;5;124;43m\"\u001b[39;49m\u001b[38;5;124;43mturbo\u001b[39;49m\u001b[38;5;124;43m\"\u001b[39;49m\u001b[43m,\u001b[49m\n\u001b[1;32m     15\u001b[0m \u001b[43m    \u001b[49m\u001b[43mstart_frame\u001b[49m\u001b[38;5;241;43m=\u001b[39;49m\u001b[38;5;241;43m0\u001b[39;49m\u001b[43m,\u001b[49m\n\u001b[1;32m     16\u001b[0m \u001b[43m    \u001b[49m\u001b[43mend_frame\u001b[49m\u001b[38;5;241;43m=\u001b[39;49m\u001b[38;5;28;43;01mNone\u001b[39;49;00m\u001b[43m,\u001b[49m\n\u001b[1;32m     17\u001b[0m \u001b[43m    \u001b[49m\u001b[43msync_color_scale\u001b[49m\u001b[38;5;241;43m=\u001b[39;49m\u001b[38;5;28;43;01mTrue\u001b[39;49;00m\u001b[43m   \u001b[49m\u001b[38;5;66;43;03m# Synchronize color bar across chains\u001b[39;49;00m\n\u001b[1;32m     18\u001b[0m \u001b[43m)\u001b[49m\n",
      "File \u001b[0;32m~/Documents/GitHub/rmsx_paper_files/rmsx/rmsx/rmsx.py:957\u001b[0m, in \u001b[0;36mall_chain_rmsx\u001b[0;34m(topology_file, trajectory_file, output_dir, num_slices, slice_size, rscript_executable, verbose, interpolate, triple, overwrite, palette, start_frame, end_frame, sync_color_scale, analysis_type, manual_length_ns, summary_n, log_transform, custom_fill_label)\u001b[0m\n\u001b[1;32m    955\u001b[0m         \u001b[38;5;28mprint\u001b[39m(\u001b[38;5;124mf\u001b[39m\u001b[38;5;124m\"\u001b[39m\u001b[38;5;124mCreated main output directory: \u001b[39m\u001b[38;5;132;01m{\u001b[39;00moutput_dir\u001b[38;5;132;01m}\u001b[39;00m\u001b[38;5;124m\"\u001b[39m)\n\u001b[0;32m--> 957\u001b[0m u_top \u001b[38;5;241m=\u001b[39m \u001b[43mmda\u001b[49m\u001b[38;5;241;43m.\u001b[39;49m\u001b[43mUniverse\u001b[49m\u001b[43m(\u001b[49m\u001b[43mtopology_file\u001b[49m\u001b[43m)\u001b[49m\n\u001b[1;32m    958\u001b[0m chain_ids \u001b[38;5;241m=\u001b[39m np\u001b[38;5;241m.\u001b[39munique(u_top\u001b[38;5;241m.\u001b[39matoms\u001b[38;5;241m.\u001b[39msegids)\n",
      "File \u001b[0;32m~/Library/r-miniconda-arm64/lib/python3.10/site-packages/MDAnalysis/core/universe.py:356\u001b[0m, in \u001b[0;36mUniverse.__init__\u001b[0;34m(self, topology, all_coordinates, format, topology_format, transformations, guess_bonds, vdwradii, fudge_factor, lower_bound, in_memory, in_memory_step, *coordinates, **kwargs)\u001b[0m\n\u001b[1;32m    355\u001b[0m     \u001b[38;5;28mself\u001b[39m\u001b[38;5;241m.\u001b[39mfilename \u001b[38;5;241m=\u001b[39m _check_file_like(topology)\n\u001b[0;32m--> 356\u001b[0m     topology \u001b[38;5;241m=\u001b[39m \u001b[43m_topology_from_file_like\u001b[49m\u001b[43m(\u001b[49m\u001b[38;5;28;43mself\u001b[39;49m\u001b[38;5;241;43m.\u001b[39;49m\u001b[43mfilename\u001b[49m\u001b[43m,\u001b[49m\n\u001b[1;32m    357\u001b[0m \u001b[43m                                        \u001b[49m\u001b[43mtopology_format\u001b[49m\u001b[38;5;241;43m=\u001b[39;49m\u001b[43mtopology_format\u001b[49m\u001b[43m,\u001b[49m\n\u001b[1;32m    358\u001b[0m \u001b[43m                                        \u001b[49m\u001b[38;5;241;43m*\u001b[39;49m\u001b[38;5;241;43m*\u001b[39;49m\u001b[43mkwargs\u001b[49m\u001b[43m)\u001b[49m\n\u001b[1;32m    360\u001b[0m \u001b[38;5;28;01mif\u001b[39;00m topology \u001b[38;5;129;01mis\u001b[39;00m \u001b[38;5;129;01mnot\u001b[39;00m \u001b[38;5;28;01mNone\u001b[39;00m:\n",
      "File \u001b[0;32m~/Library/r-miniconda-arm64/lib/python3.10/site-packages/MDAnalysis/core/universe.py:118\u001b[0m, in \u001b[0;36m_topology_from_file_like\u001b[0;34m(topology_file, topology_format, **kwargs)\u001b[0m\n\u001b[1;32m    115\u001b[0m \u001b[38;5;28;01mif\u001b[39;00m (err\u001b[38;5;241m.\u001b[39merrno \u001b[38;5;129;01mis\u001b[39;00m \u001b[38;5;129;01mnot\u001b[39;00m \u001b[38;5;28;01mNone\u001b[39;00m \u001b[38;5;129;01mand\u001b[39;00m\n\u001b[1;32m    116\u001b[0m     errno\u001b[38;5;241m.\u001b[39merrorcode[err\u001b[38;5;241m.\u001b[39merrno] \u001b[38;5;129;01min\u001b[39;00m [\u001b[38;5;124m'\u001b[39m\u001b[38;5;124mENOENT\u001b[39m\u001b[38;5;124m'\u001b[39m, \u001b[38;5;124m'\u001b[39m\u001b[38;5;124mEACCES\u001b[39m\u001b[38;5;124m'\u001b[39m]):\n\u001b[1;32m    117\u001b[0m     \u001b[38;5;66;03m# Runs if the error is propagated due to no permission / file not found\u001b[39;00m\n\u001b[0;32m--> 118\u001b[0m     \u001b[38;5;28;01mraise\u001b[39;00m sys\u001b[38;5;241m.\u001b[39mexc_info()[\u001b[38;5;241m1\u001b[39m] \u001b[38;5;28;01mfrom\u001b[39;00m \u001b[38;5;21;01merr\u001b[39;00m\n\u001b[1;32m    119\u001b[0m \u001b[38;5;28;01melse\u001b[39;00m:\n\u001b[1;32m    120\u001b[0m     \u001b[38;5;66;03m# Runs when the parser fails\u001b[39;00m\n",
      "File \u001b[0;32m~/Library/r-miniconda-arm64/lib/python3.10/site-packages/MDAnalysis/core/universe.py:110\u001b[0m, in \u001b[0;36m_topology_from_file_like\u001b[0;34m(topology_file, topology_format, **kwargs)\u001b[0m\n\u001b[1;32m    109\u001b[0m     \u001b[38;5;28;01mwith\u001b[39;00m parser(topology_file) \u001b[38;5;28;01mas\u001b[39;00m p:\n\u001b[0;32m--> 110\u001b[0m         topology \u001b[38;5;241m=\u001b[39m \u001b[43mp\u001b[49m\u001b[38;5;241;43m.\u001b[39;49m\u001b[43mparse\u001b[49m\u001b[43m(\u001b[49m\u001b[38;5;241;43m*\u001b[39;49m\u001b[38;5;241;43m*\u001b[39;49m\u001b[43mkwargs\u001b[49m\u001b[43m)\u001b[49m\n\u001b[1;32m    111\u001b[0m \u001b[38;5;28;01mexcept\u001b[39;00m (\u001b[38;5;167;01mIOError\u001b[39;00m, \u001b[38;5;167;01mOSError\u001b[39;00m) \u001b[38;5;28;01mas\u001b[39;00m err:\n\u001b[1;32m    112\u001b[0m     \u001b[38;5;66;03m# There are 2 kinds of errors that might be raised here:\u001b[39;00m\n\u001b[1;32m    113\u001b[0m     \u001b[38;5;66;03m# one because the file isn't present\u001b[39;00m\n\u001b[1;32m    114\u001b[0m     \u001b[38;5;66;03m# or the permissions are bad, second when the parser fails\u001b[39;00m\n",
      "File \u001b[0;32m~/Library/r-miniconda-arm64/lib/python3.10/site-packages/MDAnalysis/topology/PDBParser.py:210\u001b[0m, in \u001b[0;36mPDBParser.parse\u001b[0;34m(self, **kwargs)\u001b[0m\n\u001b[1;32m    204\u001b[0m \u001b[38;5;250m\u001b[39m\u001b[38;5;124;03m\"\"\"Parse atom information from PDB file\u001b[39;00m\n\u001b[1;32m    205\u001b[0m \n\u001b[1;32m    206\u001b[0m \u001b[38;5;124;03mReturns\u001b[39;00m\n\u001b[1;32m    207\u001b[0m \u001b[38;5;124;03m-------\u001b[39;00m\n\u001b[1;32m    208\u001b[0m \u001b[38;5;124;03mMDAnalysis Topology object\u001b[39;00m\n\u001b[1;32m    209\u001b[0m \u001b[38;5;124;03m\"\"\"\u001b[39;00m\n\u001b[0;32m--> 210\u001b[0m top \u001b[38;5;241m=\u001b[39m \u001b[38;5;28;43mself\u001b[39;49m\u001b[38;5;241;43m.\u001b[39;49m\u001b[43m_parseatoms\u001b[49m\u001b[43m(\u001b[49m\u001b[43m)\u001b[49m\n\u001b[1;32m    212\u001b[0m \u001b[38;5;28;01mtry\u001b[39;00m:\n",
      "File \u001b[0;32m~/Library/r-miniconda-arm64/lib/python3.10/site-packages/MDAnalysis/topology/PDBParser.py:247\u001b[0m, in \u001b[0;36mPDBParser._parseatoms\u001b[0;34m(self)\u001b[0m\n\u001b[1;32m    246\u001b[0m last_wrapped_serial \u001b[38;5;241m=\u001b[39m \u001b[38;5;241m100000\u001b[39m  \u001b[38;5;66;03m# if serials wrap, start from here\u001b[39;00m\n\u001b[0;32m--> 247\u001b[0m \u001b[38;5;28;01mwith\u001b[39;00m util\u001b[38;5;241m.\u001b[39mopenany(\u001b[38;5;28mself\u001b[39m\u001b[38;5;241m.\u001b[39mfilename) \u001b[38;5;28;01mas\u001b[39;00m f:\n\u001b[1;32m    248\u001b[0m     \u001b[38;5;28;01mfor\u001b[39;00m line \u001b[38;5;129;01min\u001b[39;00m f:\n",
      "File \u001b[0;32m~/Library/r-miniconda-arm64/lib/python3.10/contextlib.py:135\u001b[0m, in \u001b[0;36m_GeneratorContextManager.__enter__\u001b[0;34m(self)\u001b[0m\n\u001b[1;32m    134\u001b[0m \u001b[38;5;28;01mtry\u001b[39;00m:\n\u001b[0;32m--> 135\u001b[0m     \u001b[38;5;28;01mreturn\u001b[39;00m \u001b[38;5;28;43mnext\u001b[39;49m\u001b[43m(\u001b[49m\u001b[38;5;28;43mself\u001b[39;49m\u001b[38;5;241;43m.\u001b[39;49m\u001b[43mgen\u001b[49m\u001b[43m)\u001b[49m\n\u001b[1;32m    136\u001b[0m \u001b[38;5;28;01mexcept\u001b[39;00m \u001b[38;5;167;01mStopIteration\u001b[39;00m:\n",
      "File \u001b[0;32m~/Library/r-miniconda-arm64/lib/python3.10/site-packages/MDAnalysis/lib/util.py:318\u001b[0m, in \u001b[0;36mopenany\u001b[0;34m(datasource, mode, reset)\u001b[0m\n\u001b[1;32m    276\u001b[0m \u001b[38;5;250m\u001b[39m\u001b[38;5;124;03m\"\"\"Context manager for :func:`anyopen`.\u001b[39;00m\n\u001b[1;32m    277\u001b[0m \n\u001b[1;32m    278\u001b[0m \u001b[38;5;124;03mOpen the `datasource` and close it when the context of the :keyword:`with`\u001b[39;00m\n\u001b[0;32m   (...)\u001b[0m\n\u001b[1;32m    316\u001b[0m \u001b[38;5;124;03m:func:`anyopen`\u001b[39;00m\n\u001b[1;32m    317\u001b[0m \u001b[38;5;124;03m\"\"\"\u001b[39;00m\n\u001b[0;32m--> 318\u001b[0m stream \u001b[38;5;241m=\u001b[39m \u001b[43manyopen\u001b[49m\u001b[43m(\u001b[49m\u001b[43mdatasource\u001b[49m\u001b[43m,\u001b[49m\u001b[43m \u001b[49m\u001b[43mmode\u001b[49m\u001b[38;5;241;43m=\u001b[39;49m\u001b[43mmode\u001b[49m\u001b[43m,\u001b[49m\u001b[43m \u001b[49m\u001b[43mreset\u001b[49m\u001b[38;5;241;43m=\u001b[39;49m\u001b[43mreset\u001b[49m\u001b[43m)\u001b[49m\n\u001b[1;32m    319\u001b[0m \u001b[38;5;28;01mtry\u001b[39;00m:\n",
      "File \u001b[0;32m~/Library/r-miniconda-arm64/lib/python3.10/site-packages/MDAnalysis/lib/util.py:398\u001b[0m, in \u001b[0;36manyopen\u001b[0;34m(datasource, mode, reset)\u001b[0m\n\u001b[1;32m    397\u001b[0m openfunc \u001b[38;5;241m=\u001b[39m read_handlers[ext]\n\u001b[0;32m--> 398\u001b[0m stream \u001b[38;5;241m=\u001b[39m \u001b[43m_get_stream\u001b[49m\u001b[43m(\u001b[49m\u001b[43mdatasource\u001b[49m\u001b[43m,\u001b[49m\u001b[43m \u001b[49m\u001b[43mopenfunc\u001b[49m\u001b[43m,\u001b[49m\u001b[43m \u001b[49m\u001b[43mmode\u001b[49m\u001b[38;5;241;43m=\u001b[39;49m\u001b[43mmode\u001b[49m\u001b[43m)\u001b[49m\n\u001b[1;32m    399\u001b[0m \u001b[38;5;28;01mif\u001b[39;00m stream \u001b[38;5;129;01mis\u001b[39;00m \u001b[38;5;129;01mnot\u001b[39;00m \u001b[38;5;28;01mNone\u001b[39;00m:\n",
      "File \u001b[0;32m~/Library/r-miniconda-arm64/lib/python3.10/site-packages/MDAnalysis/lib/util.py:440\u001b[0m, in \u001b[0;36m_get_stream\u001b[0;34m(filename, openfunction, mode)\u001b[0m\n\u001b[1;32m    439\u001b[0m \u001b[38;5;28;01mif\u001b[39;00m errno\u001b[38;5;241m.\u001b[39merrorcode[err\u001b[38;5;241m.\u001b[39merrno] \u001b[38;5;129;01min\u001b[39;00m [\u001b[38;5;124m'\u001b[39m\u001b[38;5;124mENOENT\u001b[39m\u001b[38;5;124m'\u001b[39m, \u001b[38;5;124m'\u001b[39m\u001b[38;5;124mEACCES\u001b[39m\u001b[38;5;124m'\u001b[39m]:\n\u001b[0;32m--> 440\u001b[0m     \u001b[38;5;28;01mraise\u001b[39;00m sys\u001b[38;5;241m.\u001b[39mexc_info()[\u001b[38;5;241m1\u001b[39m] \u001b[38;5;28;01mfrom\u001b[39;00m \u001b[38;5;21;01merr\u001b[39;00m\n\u001b[1;32m    441\u001b[0m \u001b[38;5;28;01mreturn\u001b[39;00m \u001b[38;5;28;01mNone\u001b[39;00m\n",
      "File \u001b[0;32m~/Library/r-miniconda-arm64/lib/python3.10/site-packages/MDAnalysis/lib/util.py:434\u001b[0m, in \u001b[0;36m_get_stream\u001b[0;34m(filename, openfunction, mode)\u001b[0m\n\u001b[1;32m    433\u001b[0m \u001b[38;5;28;01mtry\u001b[39;00m:\n\u001b[0;32m--> 434\u001b[0m     stream \u001b[38;5;241m=\u001b[39m \u001b[43mopenfunction\u001b[49m\u001b[43m(\u001b[49m\u001b[43mfilename\u001b[49m\u001b[43m,\u001b[49m\u001b[43m \u001b[49m\u001b[43mmode\u001b[49m\u001b[38;5;241;43m=\u001b[39;49m\u001b[43mmode\u001b[49m\u001b[43m)\u001b[49m\n\u001b[1;32m    435\u001b[0m \u001b[38;5;28;01mexcept\u001b[39;00m (\u001b[38;5;167;01mIOError\u001b[39;00m, \u001b[38;5;167;01mOSError\u001b[39;00m) \u001b[38;5;28;01mas\u001b[39;00m err:\n\u001b[1;32m    436\u001b[0m     \u001b[38;5;66;03m# An exception might be raised due to two reasons, first the openfunction is unable to open the file, in this\u001b[39;00m\n\u001b[1;32m    437\u001b[0m     \u001b[38;5;66;03m# case we have to ignore the error and return None. Second is when openfunction can't open the file because\u001b[39;00m\n\u001b[1;32m    438\u001b[0m     \u001b[38;5;66;03m# either the file isn't there or the permissions don't allow access.\u001b[39;00m\n",
      "File \u001b[0;32m~/Library/r-miniconda-arm64/lib/python3.10/site-packages/MDAnalysis/lib/picklable_file_io.py:502\u001b[0m, in \u001b[0;36mbz2_pickle_open\u001b[0;34m(name, mode)\u001b[0m\n\u001b[1;32m    501\u001b[0m bz_mode \u001b[38;5;241m=\u001b[39m mode\u001b[38;5;241m.\u001b[39mreplace(\u001b[38;5;124m\"\u001b[39m\u001b[38;5;124mt\u001b[39m\u001b[38;5;124m\"\u001b[39m, \u001b[38;5;124m\"\u001b[39m\u001b[38;5;124m\"\u001b[39m)\n\u001b[0;32m--> 502\u001b[0m binary_file \u001b[38;5;241m=\u001b[39m \u001b[43mBZ2Picklable\u001b[49m\u001b[43m(\u001b[49m\u001b[43mname\u001b[49m\u001b[43m,\u001b[49m\u001b[43m \u001b[49m\u001b[43mbz_mode\u001b[49m\u001b[43m)\u001b[49m\n\u001b[1;32m    503\u001b[0m \u001b[38;5;28;01mif\u001b[39;00m \u001b[38;5;124m\"\u001b[39m\u001b[38;5;124mt\u001b[39m\u001b[38;5;124m\"\u001b[39m \u001b[38;5;129;01min\u001b[39;00m mode:\n",
      "File \u001b[0;32m~/Library/r-miniconda-arm64/lib/python3.10/site-packages/MDAnalysis/lib/picklable_file_io.py:283\u001b[0m, in \u001b[0;36mBZ2Picklable.__init__\u001b[0;34m(self, name, mode)\u001b[0m\n\u001b[1;32m    282\u001b[0m \u001b[38;5;28mself\u001b[39m\u001b[38;5;241m.\u001b[39m_bz_mode \u001b[38;5;241m=\u001b[39m mode\n\u001b[0;32m--> 283\u001b[0m \u001b[38;5;28;43msuper\u001b[39;49m\u001b[43m(\u001b[49m\u001b[43m)\u001b[49m\u001b[38;5;241;43m.\u001b[39;49m\u001b[38;5;21;43m__init__\u001b[39;49m\u001b[43m(\u001b[49m\u001b[43mname\u001b[49m\u001b[43m,\u001b[49m\u001b[43m \u001b[49m\u001b[43mmode\u001b[49m\u001b[43m)\u001b[49m\n",
      "File \u001b[0;32m~/Library/r-miniconda-arm64/lib/python3.10/bz2.py:81\u001b[0m, in \u001b[0;36mBZ2File.__init__\u001b[0;34m(self, filename, mode, compresslevel)\u001b[0m\n\u001b[1;32m     80\u001b[0m \u001b[38;5;28;01mif\u001b[39;00m \u001b[38;5;28misinstance\u001b[39m(filename, (\u001b[38;5;28mstr\u001b[39m, \u001b[38;5;28mbytes\u001b[39m, os\u001b[38;5;241m.\u001b[39mPathLike)):\n\u001b[0;32m---> 81\u001b[0m     \u001b[38;5;28mself\u001b[39m\u001b[38;5;241m.\u001b[39m_fp \u001b[38;5;241m=\u001b[39m \u001b[43m_builtin_open\u001b[49m\u001b[43m(\u001b[49m\u001b[43mfilename\u001b[49m\u001b[43m,\u001b[49m\u001b[43m \u001b[49m\u001b[43mmode\u001b[49m\u001b[43m)\u001b[49m\n\u001b[1;32m     82\u001b[0m     \u001b[38;5;28mself\u001b[39m\u001b[38;5;241m.\u001b[39m_closefp \u001b[38;5;241m=\u001b[39m \u001b[38;5;28;01mTrue\u001b[39;00m\n",
      "\u001b[0;31mFileNotFoundError\u001b[0m: [Errno 2] No such file or directory: '/Users/finn/Documents/GitHub/rmsx_paper_files/rmsx/rmsx/test_files/1UBQ.pdb'",
      "\nThe above exception was the direct cause of the following exception:\n",
      "\u001b[0;31mFileNotFoundError\u001b[0m                         Traceback (most recent call last)",
      "Cell \u001b[0;32mIn[9], line 3\u001b[0m\n\u001b[1;32m      1\u001b[0m \u001b[38;5;28;01mfrom\u001b[39;00m \u001b[38;5;21;01mrmsx\u001b[39;00m \u001b[38;5;28;01mimport\u001b[39;00m all_chain_rmsx\n\u001b[0;32m----> 3\u001b[0m \u001b[43mall_chain_rmsx\u001b[49m\u001b[43m(\u001b[49m\n\u001b[1;32m      4\u001b[0m \u001b[43m    \u001b[49m\u001b[43mtopology_file\u001b[49m\u001b[38;5;241;43m=\u001b[39;49m\u001b[43mpdb_file\u001b[49m\u001b[43m,\u001b[49m\n\u001b[1;32m      5\u001b[0m \u001b[43m    \u001b[49m\u001b[43mtrajectory_file\u001b[49m\u001b[38;5;241;43m=\u001b[39;49m\u001b[43mdcd_file\u001b[49m\u001b[43m,\u001b[49m\n\u001b[1;32m      6\u001b[0m \u001b[43m    \u001b[49m\u001b[43moutput_dir\u001b[49m\u001b[38;5;241;43m=\u001b[39;49m\u001b[43moutput_dir\u001b[49m\u001b[43m,\u001b[49m\n\u001b[1;32m      7\u001b[0m \u001b[43m    \u001b[49m\u001b[43mnum_slices\u001b[49m\u001b[38;5;241;43m=\u001b[39;49m\u001b[38;5;241;43m12\u001b[39;49m\u001b[43m,\u001b[49m\n\u001b[1;32m      8\u001b[0m \u001b[43m    \u001b[49m\u001b[43mslice_size\u001b[49m\u001b[38;5;241;43m=\u001b[39;49m\u001b[38;5;28;43;01mNone\u001b[39;49;00m\u001b[43m,\u001b[49m\n\u001b[1;32m      9\u001b[0m \u001b[43m    \u001b[49m\u001b[43mrscript_executable\u001b[49m\u001b[38;5;241;43m=\u001b[39;49m\u001b[38;5;124;43m'\u001b[39;49m\u001b[38;5;124;43mRscript\u001b[39;49m\u001b[38;5;124;43m'\u001b[39;49m\u001b[43m,\u001b[49m\n\u001b[1;32m     10\u001b[0m \u001b[43m    \u001b[49m\u001b[43mverbose\u001b[49m\u001b[38;5;241;43m=\u001b[39;49m\u001b[38;5;28;43;01mFalse\u001b[39;49;00m\u001b[43m,\u001b[49m\n\u001b[1;32m     11\u001b[0m \u001b[43m    \u001b[49m\u001b[43minterpolate\u001b[49m\u001b[38;5;241;43m=\u001b[39;49m\u001b[38;5;28;43;01mFalse\u001b[39;49;00m\u001b[43m,\u001b[49m\n\u001b[1;32m     12\u001b[0m \u001b[43m    \u001b[49m\u001b[43mtriple\u001b[49m\u001b[38;5;241;43m=\u001b[39;49m\u001b[38;5;28;43;01mTrue\u001b[39;49;00m\u001b[43m,\u001b[49m\n\u001b[1;32m     13\u001b[0m \u001b[43m    \u001b[49m\u001b[43moverwrite\u001b[49m\u001b[38;5;241;43m=\u001b[39;49m\u001b[38;5;28;43;01mTrue\u001b[39;49;00m\u001b[43m,\u001b[49m\n\u001b[1;32m     14\u001b[0m \u001b[43m    \u001b[49m\u001b[43mpalette\u001b[49m\u001b[38;5;241;43m=\u001b[39;49m\u001b[38;5;124;43m\"\u001b[39;49m\u001b[38;5;124;43mturbo\u001b[39;49m\u001b[38;5;124;43m\"\u001b[39;49m\u001b[43m,\u001b[49m\n\u001b[1;32m     15\u001b[0m \u001b[43m    \u001b[49m\u001b[43mstart_frame\u001b[49m\u001b[38;5;241;43m=\u001b[39;49m\u001b[38;5;241;43m0\u001b[39;49m\u001b[43m,\u001b[49m\n\u001b[1;32m     16\u001b[0m \u001b[43m    \u001b[49m\u001b[43mend_frame\u001b[49m\u001b[38;5;241;43m=\u001b[39;49m\u001b[38;5;28;43;01mNone\u001b[39;49;00m\u001b[43m,\u001b[49m\n\u001b[1;32m     17\u001b[0m \u001b[43m    \u001b[49m\u001b[43msync_color_scale\u001b[49m\u001b[38;5;241;43m=\u001b[39;49m\u001b[38;5;28;43;01mTrue\u001b[39;49;00m\u001b[43m   \u001b[49m\u001b[38;5;66;43;03m# Synchronize color bar across chains\u001b[39;49;00m\n\u001b[1;32m     18\u001b[0m \u001b[43m)\u001b[49m\n",
      "File \u001b[0;32m~/Documents/GitHub/rmsx_paper_files/rmsx/rmsx/rmsx.py:957\u001b[0m, in \u001b[0;36mall_chain_rmsx\u001b[0;34m(topology_file, trajectory_file, output_dir, num_slices, slice_size, rscript_executable, verbose, interpolate, triple, overwrite, palette, start_frame, end_frame, sync_color_scale, analysis_type, manual_length_ns, summary_n, log_transform, custom_fill_label)\u001b[0m\n\u001b[1;32m    954\u001b[0m     \u001b[38;5;28;01mif\u001b[39;00m verbose:\n\u001b[1;32m    955\u001b[0m         \u001b[38;5;28mprint\u001b[39m(\u001b[38;5;124mf\u001b[39m\u001b[38;5;124m\"\u001b[39m\u001b[38;5;124mCreated main output directory: \u001b[39m\u001b[38;5;132;01m{\u001b[39;00moutput_dir\u001b[38;5;132;01m}\u001b[39;00m\u001b[38;5;124m\"\u001b[39m)\n\u001b[0;32m--> 957\u001b[0m u_top \u001b[38;5;241m=\u001b[39m \u001b[43mmda\u001b[49m\u001b[38;5;241;43m.\u001b[39;49m\u001b[43mUniverse\u001b[49m\u001b[43m(\u001b[49m\u001b[43mtopology_file\u001b[49m\u001b[43m)\u001b[49m\n\u001b[1;32m    958\u001b[0m chain_ids \u001b[38;5;241m=\u001b[39m np\u001b[38;5;241m.\u001b[39munique(u_top\u001b[38;5;241m.\u001b[39matoms\u001b[38;5;241m.\u001b[39msegids)\n\u001b[1;32m    960\u001b[0m combined_output_dirs \u001b[38;5;241m=\u001b[39m []\n",
      "File \u001b[0;32m~/Library/r-miniconda-arm64/lib/python3.10/site-packages/MDAnalysis/core/universe.py:356\u001b[0m, in \u001b[0;36mUniverse.__init__\u001b[0;34m(self, topology, all_coordinates, format, topology_format, transformations, guess_bonds, vdwradii, fudge_factor, lower_bound, in_memory, in_memory_step, *coordinates, **kwargs)\u001b[0m\n\u001b[1;32m    354\u001b[0m \u001b[38;5;28;01mif\u001b[39;00m \u001b[38;5;129;01mnot\u001b[39;00m \u001b[38;5;28misinstance\u001b[39m(topology, Topology) \u001b[38;5;129;01mand\u001b[39;00m \u001b[38;5;129;01mnot\u001b[39;00m topology \u001b[38;5;129;01mis\u001b[39;00m \u001b[38;5;28;01mNone\u001b[39;00m:\n\u001b[1;32m    355\u001b[0m     \u001b[38;5;28mself\u001b[39m\u001b[38;5;241m.\u001b[39mfilename \u001b[38;5;241m=\u001b[39m _check_file_like(topology)\n\u001b[0;32m--> 356\u001b[0m     topology \u001b[38;5;241m=\u001b[39m \u001b[43m_topology_from_file_like\u001b[49m\u001b[43m(\u001b[49m\u001b[38;5;28;43mself\u001b[39;49m\u001b[38;5;241;43m.\u001b[39;49m\u001b[43mfilename\u001b[49m\u001b[43m,\u001b[49m\n\u001b[1;32m    357\u001b[0m \u001b[43m                                        \u001b[49m\u001b[43mtopology_format\u001b[49m\u001b[38;5;241;43m=\u001b[39;49m\u001b[43mtopology_format\u001b[49m\u001b[43m,\u001b[49m\n\u001b[1;32m    358\u001b[0m \u001b[43m                                        \u001b[49m\u001b[38;5;241;43m*\u001b[39;49m\u001b[38;5;241;43m*\u001b[39;49m\u001b[43mkwargs\u001b[49m\u001b[43m)\u001b[49m\n\u001b[1;32m    360\u001b[0m \u001b[38;5;28;01mif\u001b[39;00m topology \u001b[38;5;129;01mis\u001b[39;00m \u001b[38;5;129;01mnot\u001b[39;00m \u001b[38;5;28;01mNone\u001b[39;00m:\n\u001b[1;32m    361\u001b[0m     \u001b[38;5;28mself\u001b[39m\u001b[38;5;241m.\u001b[39m_topology \u001b[38;5;241m=\u001b[39m topology\n",
      "File \u001b[0;32m~/Library/r-miniconda-arm64/lib/python3.10/site-packages/MDAnalysis/core/universe.py:118\u001b[0m, in \u001b[0;36m_topology_from_file_like\u001b[0;34m(topology_file, topology_format, **kwargs)\u001b[0m\n\u001b[1;32m    111\u001b[0m \u001b[38;5;28;01mexcept\u001b[39;00m (\u001b[38;5;167;01mIOError\u001b[39;00m, \u001b[38;5;167;01mOSError\u001b[39;00m) \u001b[38;5;28;01mas\u001b[39;00m err:\n\u001b[1;32m    112\u001b[0m     \u001b[38;5;66;03m# There are 2 kinds of errors that might be raised here:\u001b[39;00m\n\u001b[1;32m    113\u001b[0m     \u001b[38;5;66;03m# one because the file isn't present\u001b[39;00m\n\u001b[1;32m    114\u001b[0m     \u001b[38;5;66;03m# or the permissions are bad, second when the parser fails\u001b[39;00m\n\u001b[1;32m    115\u001b[0m     \u001b[38;5;28;01mif\u001b[39;00m (err\u001b[38;5;241m.\u001b[39merrno \u001b[38;5;129;01mis\u001b[39;00m \u001b[38;5;129;01mnot\u001b[39;00m \u001b[38;5;28;01mNone\u001b[39;00m \u001b[38;5;129;01mand\u001b[39;00m\n\u001b[1;32m    116\u001b[0m         errno\u001b[38;5;241m.\u001b[39merrorcode[err\u001b[38;5;241m.\u001b[39merrno] \u001b[38;5;129;01min\u001b[39;00m [\u001b[38;5;124m'\u001b[39m\u001b[38;5;124mENOENT\u001b[39m\u001b[38;5;124m'\u001b[39m, \u001b[38;5;124m'\u001b[39m\u001b[38;5;124mEACCES\u001b[39m\u001b[38;5;124m'\u001b[39m]):\n\u001b[1;32m    117\u001b[0m         \u001b[38;5;66;03m# Runs if the error is propagated due to no permission / file not found\u001b[39;00m\n\u001b[0;32m--> 118\u001b[0m         \u001b[38;5;28;01mraise\u001b[39;00m sys\u001b[38;5;241m.\u001b[39mexc_info()[\u001b[38;5;241m1\u001b[39m] \u001b[38;5;28;01mfrom\u001b[39;00m \u001b[38;5;21;01merr\u001b[39;00m\n\u001b[1;32m    119\u001b[0m     \u001b[38;5;28;01melse\u001b[39;00m:\n\u001b[1;32m    120\u001b[0m         \u001b[38;5;66;03m# Runs when the parser fails\u001b[39;00m\n\u001b[1;32m    121\u001b[0m         \u001b[38;5;28;01mraise\u001b[39;00m \u001b[38;5;167;01mIOError\u001b[39;00m(\u001b[38;5;124m\"\u001b[39m\u001b[38;5;124mFailed to load from the topology file \u001b[39m\u001b[38;5;132;01m{0}\u001b[39;00m\u001b[38;5;124m\"\u001b[39m\n\u001b[1;32m    122\u001b[0m                         \u001b[38;5;124m\"\u001b[39m\u001b[38;5;124m with parser \u001b[39m\u001b[38;5;132;01m{1}\u001b[39;00m\u001b[38;5;124m.\u001b[39m\u001b[38;5;130;01m\\n\u001b[39;00m\u001b[38;5;124m\"\u001b[39m\n\u001b[1;32m    123\u001b[0m                         \u001b[38;5;124m\"\u001b[39m\u001b[38;5;124mError: \u001b[39m\u001b[38;5;132;01m{2}\u001b[39;00m\u001b[38;5;124m\"\u001b[39m\u001b[38;5;241m.\u001b[39mformat(topology_file, parser, err))\n",
      "File \u001b[0;32m~/Library/r-miniconda-arm64/lib/python3.10/site-packages/MDAnalysis/core/universe.py:110\u001b[0m, in \u001b[0;36m_topology_from_file_like\u001b[0;34m(topology_file, topology_format, **kwargs)\u001b[0m\n\u001b[1;32m    108\u001b[0m \u001b[38;5;28;01mtry\u001b[39;00m:\n\u001b[1;32m    109\u001b[0m     \u001b[38;5;28;01mwith\u001b[39;00m parser(topology_file) \u001b[38;5;28;01mas\u001b[39;00m p:\n\u001b[0;32m--> 110\u001b[0m         topology \u001b[38;5;241m=\u001b[39m \u001b[43mp\u001b[49m\u001b[38;5;241;43m.\u001b[39;49m\u001b[43mparse\u001b[49m\u001b[43m(\u001b[49m\u001b[38;5;241;43m*\u001b[39;49m\u001b[38;5;241;43m*\u001b[39;49m\u001b[43mkwargs\u001b[49m\u001b[43m)\u001b[49m\n\u001b[1;32m    111\u001b[0m \u001b[38;5;28;01mexcept\u001b[39;00m (\u001b[38;5;167;01mIOError\u001b[39;00m, \u001b[38;5;167;01mOSError\u001b[39;00m) \u001b[38;5;28;01mas\u001b[39;00m err:\n\u001b[1;32m    112\u001b[0m     \u001b[38;5;66;03m# There are 2 kinds of errors that might be raised here:\u001b[39;00m\n\u001b[1;32m    113\u001b[0m     \u001b[38;5;66;03m# one because the file isn't present\u001b[39;00m\n\u001b[1;32m    114\u001b[0m     \u001b[38;5;66;03m# or the permissions are bad, second when the parser fails\u001b[39;00m\n\u001b[1;32m    115\u001b[0m     \u001b[38;5;28;01mif\u001b[39;00m (err\u001b[38;5;241m.\u001b[39merrno \u001b[38;5;129;01mis\u001b[39;00m \u001b[38;5;129;01mnot\u001b[39;00m \u001b[38;5;28;01mNone\u001b[39;00m \u001b[38;5;129;01mand\u001b[39;00m\n\u001b[1;32m    116\u001b[0m         errno\u001b[38;5;241m.\u001b[39merrorcode[err\u001b[38;5;241m.\u001b[39merrno] \u001b[38;5;129;01min\u001b[39;00m [\u001b[38;5;124m'\u001b[39m\u001b[38;5;124mENOENT\u001b[39m\u001b[38;5;124m'\u001b[39m, \u001b[38;5;124m'\u001b[39m\u001b[38;5;124mEACCES\u001b[39m\u001b[38;5;124m'\u001b[39m]):\n\u001b[1;32m    117\u001b[0m         \u001b[38;5;66;03m# Runs if the error is propagated due to no permission / file not found\u001b[39;00m\n",
      "File \u001b[0;32m~/Library/r-miniconda-arm64/lib/python3.10/site-packages/MDAnalysis/topology/PDBParser.py:210\u001b[0m, in \u001b[0;36mPDBParser.parse\u001b[0;34m(self, **kwargs)\u001b[0m\n\u001b[1;32m    203\u001b[0m \u001b[38;5;28;01mdef\u001b[39;00m \u001b[38;5;21mparse\u001b[39m(\u001b[38;5;28mself\u001b[39m, \u001b[38;5;241m*\u001b[39m\u001b[38;5;241m*\u001b[39mkwargs):\n\u001b[1;32m    204\u001b[0m \u001b[38;5;250m    \u001b[39m\u001b[38;5;124;03m\"\"\"Parse atom information from PDB file\u001b[39;00m\n\u001b[1;32m    205\u001b[0m \n\u001b[1;32m    206\u001b[0m \u001b[38;5;124;03m    Returns\u001b[39;00m\n\u001b[1;32m    207\u001b[0m \u001b[38;5;124;03m    -------\u001b[39;00m\n\u001b[1;32m    208\u001b[0m \u001b[38;5;124;03m    MDAnalysis Topology object\u001b[39;00m\n\u001b[1;32m    209\u001b[0m \u001b[38;5;124;03m    \"\"\"\u001b[39;00m\n\u001b[0;32m--> 210\u001b[0m     top \u001b[38;5;241m=\u001b[39m \u001b[38;5;28;43mself\u001b[39;49m\u001b[38;5;241;43m.\u001b[39;49m\u001b[43m_parseatoms\u001b[49m\u001b[43m(\u001b[49m\u001b[43m)\u001b[49m\n\u001b[1;32m    212\u001b[0m     \u001b[38;5;28;01mtry\u001b[39;00m:\n\u001b[1;32m    213\u001b[0m         bonds \u001b[38;5;241m=\u001b[39m \u001b[38;5;28mself\u001b[39m\u001b[38;5;241m.\u001b[39m_parsebonds(top\u001b[38;5;241m.\u001b[39mids\u001b[38;5;241m.\u001b[39mvalues)\n",
      "File \u001b[0;32m~/Library/r-miniconda-arm64/lib/python3.10/site-packages/MDAnalysis/topology/PDBParser.py:247\u001b[0m, in \u001b[0;36mPDBParser._parseatoms\u001b[0;34m(self)\u001b[0m\n\u001b[1;32m    245\u001b[0m \u001b[38;5;28mself\u001b[39m\u001b[38;5;241m.\u001b[39m_wrapped_serials \u001b[38;5;241m=\u001b[39m \u001b[38;5;28;01mFalse\u001b[39;00m  \u001b[38;5;66;03m# did serials go over 100k?\u001b[39;00m\n\u001b[1;32m    246\u001b[0m last_wrapped_serial \u001b[38;5;241m=\u001b[39m \u001b[38;5;241m100000\u001b[39m  \u001b[38;5;66;03m# if serials wrap, start from here\u001b[39;00m\n\u001b[0;32m--> 247\u001b[0m \u001b[38;5;28;01mwith\u001b[39;00m util\u001b[38;5;241m.\u001b[39mopenany(\u001b[38;5;28mself\u001b[39m\u001b[38;5;241m.\u001b[39mfilename) \u001b[38;5;28;01mas\u001b[39;00m f:\n\u001b[1;32m    248\u001b[0m     \u001b[38;5;28;01mfor\u001b[39;00m line \u001b[38;5;129;01min\u001b[39;00m f:\n\u001b[1;32m    249\u001b[0m         line \u001b[38;5;241m=\u001b[39m line\u001b[38;5;241m.\u001b[39mstrip()  \u001b[38;5;66;03m# Remove extra spaces\u001b[39;00m\n",
      "File \u001b[0;32m~/Library/r-miniconda-arm64/lib/python3.10/contextlib.py:135\u001b[0m, in \u001b[0;36m_GeneratorContextManager.__enter__\u001b[0;34m(self)\u001b[0m\n\u001b[1;32m    133\u001b[0m \u001b[38;5;28;01mdel\u001b[39;00m \u001b[38;5;28mself\u001b[39m\u001b[38;5;241m.\u001b[39margs, \u001b[38;5;28mself\u001b[39m\u001b[38;5;241m.\u001b[39mkwds, \u001b[38;5;28mself\u001b[39m\u001b[38;5;241m.\u001b[39mfunc\n\u001b[1;32m    134\u001b[0m \u001b[38;5;28;01mtry\u001b[39;00m:\n\u001b[0;32m--> 135\u001b[0m     \u001b[38;5;28;01mreturn\u001b[39;00m \u001b[38;5;28;43mnext\u001b[39;49m\u001b[43m(\u001b[49m\u001b[38;5;28;43mself\u001b[39;49m\u001b[38;5;241;43m.\u001b[39;49m\u001b[43mgen\u001b[49m\u001b[43m)\u001b[49m\n\u001b[1;32m    136\u001b[0m \u001b[38;5;28;01mexcept\u001b[39;00m \u001b[38;5;167;01mStopIteration\u001b[39;00m:\n\u001b[1;32m    137\u001b[0m     \u001b[38;5;28;01mraise\u001b[39;00m \u001b[38;5;167;01mRuntimeError\u001b[39;00m(\u001b[38;5;124m\"\u001b[39m\u001b[38;5;124mgenerator didn\u001b[39m\u001b[38;5;124m'\u001b[39m\u001b[38;5;124mt yield\u001b[39m\u001b[38;5;124m\"\u001b[39m) \u001b[38;5;28;01mfrom\u001b[39;00m \u001b[38;5;28;01mNone\u001b[39;00m\n",
      "File \u001b[0;32m~/Library/r-miniconda-arm64/lib/python3.10/site-packages/MDAnalysis/lib/util.py:318\u001b[0m, in \u001b[0;36mopenany\u001b[0;34m(datasource, mode, reset)\u001b[0m\n\u001b[1;32m    274\u001b[0m \u001b[38;5;129m@contextmanager\u001b[39m\n\u001b[1;32m    275\u001b[0m \u001b[38;5;28;01mdef\u001b[39;00m \u001b[38;5;21mopenany\u001b[39m(datasource, mode\u001b[38;5;241m=\u001b[39m\u001b[38;5;124m'\u001b[39m\u001b[38;5;124mrt\u001b[39m\u001b[38;5;124m'\u001b[39m, reset\u001b[38;5;241m=\u001b[39m\u001b[38;5;28;01mTrue\u001b[39;00m):\n\u001b[1;32m    276\u001b[0m \u001b[38;5;250m    \u001b[39m\u001b[38;5;124;03m\"\"\"Context manager for :func:`anyopen`.\u001b[39;00m\n\u001b[1;32m    277\u001b[0m \n\u001b[1;32m    278\u001b[0m \u001b[38;5;124;03m    Open the `datasource` and close it when the context of the :keyword:`with`\u001b[39;00m\n\u001b[0;32m   (...)\u001b[0m\n\u001b[1;32m    316\u001b[0m \u001b[38;5;124;03m    :func:`anyopen`\u001b[39;00m\n\u001b[1;32m    317\u001b[0m \u001b[38;5;124;03m    \"\"\"\u001b[39;00m\n\u001b[0;32m--> 318\u001b[0m     stream \u001b[38;5;241m=\u001b[39m \u001b[43manyopen\u001b[49m\u001b[43m(\u001b[49m\u001b[43mdatasource\u001b[49m\u001b[43m,\u001b[49m\u001b[43m \u001b[49m\u001b[43mmode\u001b[49m\u001b[38;5;241;43m=\u001b[39;49m\u001b[43mmode\u001b[49m\u001b[43m,\u001b[49m\u001b[43m \u001b[49m\u001b[43mreset\u001b[49m\u001b[38;5;241;43m=\u001b[39;49m\u001b[43mreset\u001b[49m\u001b[43m)\u001b[49m\n\u001b[1;32m    319\u001b[0m     \u001b[38;5;28;01mtry\u001b[39;00m:\n\u001b[1;32m    320\u001b[0m         \u001b[38;5;28;01myield\u001b[39;00m stream\n",
      "File \u001b[0;32m~/Library/r-miniconda-arm64/lib/python3.10/site-packages/MDAnalysis/lib/util.py:398\u001b[0m, in \u001b[0;36manyopen\u001b[0;34m(datasource, mode, reset)\u001b[0m\n\u001b[1;32m    396\u001b[0m \u001b[38;5;28;01mfor\u001b[39;00m ext \u001b[38;5;129;01min\u001b[39;00m (\u001b[38;5;124m'\u001b[39m\u001b[38;5;124mbz2\u001b[39m\u001b[38;5;124m'\u001b[39m, \u001b[38;5;124m'\u001b[39m\u001b[38;5;124mgz\u001b[39m\u001b[38;5;124m'\u001b[39m, \u001b[38;5;124m'\u001b[39m\u001b[38;5;124m'\u001b[39m):  \u001b[38;5;66;03m# file == '' should be last\u001b[39;00m\n\u001b[1;32m    397\u001b[0m     openfunc \u001b[38;5;241m=\u001b[39m read_handlers[ext]\n\u001b[0;32m--> 398\u001b[0m     stream \u001b[38;5;241m=\u001b[39m \u001b[43m_get_stream\u001b[49m\u001b[43m(\u001b[49m\u001b[43mdatasource\u001b[49m\u001b[43m,\u001b[49m\u001b[43m \u001b[49m\u001b[43mopenfunc\u001b[49m\u001b[43m,\u001b[49m\u001b[43m \u001b[49m\u001b[43mmode\u001b[49m\u001b[38;5;241;43m=\u001b[39;49m\u001b[43mmode\u001b[49m\u001b[43m)\u001b[49m\n\u001b[1;32m    399\u001b[0m     \u001b[38;5;28;01mif\u001b[39;00m stream \u001b[38;5;129;01mis\u001b[39;00m \u001b[38;5;129;01mnot\u001b[39;00m \u001b[38;5;28;01mNone\u001b[39;00m:\n\u001b[1;32m    400\u001b[0m         \u001b[38;5;28;01mbreak\u001b[39;00m\n",
      "File \u001b[0;32m~/Library/r-miniconda-arm64/lib/python3.10/site-packages/MDAnalysis/lib/util.py:440\u001b[0m, in \u001b[0;36m_get_stream\u001b[0;34m(filename, openfunction, mode)\u001b[0m\n\u001b[1;32m    435\u001b[0m \u001b[38;5;28;01mexcept\u001b[39;00m (\u001b[38;5;167;01mIOError\u001b[39;00m, \u001b[38;5;167;01mOSError\u001b[39;00m) \u001b[38;5;28;01mas\u001b[39;00m err:\n\u001b[1;32m    436\u001b[0m     \u001b[38;5;66;03m# An exception might be raised due to two reasons, first the openfunction is unable to open the file, in this\u001b[39;00m\n\u001b[1;32m    437\u001b[0m     \u001b[38;5;66;03m# case we have to ignore the error and return None. Second is when openfunction can't open the file because\u001b[39;00m\n\u001b[1;32m    438\u001b[0m     \u001b[38;5;66;03m# either the file isn't there or the permissions don't allow access.\u001b[39;00m\n\u001b[1;32m    439\u001b[0m     \u001b[38;5;28;01mif\u001b[39;00m errno\u001b[38;5;241m.\u001b[39merrorcode[err\u001b[38;5;241m.\u001b[39merrno] \u001b[38;5;129;01min\u001b[39;00m [\u001b[38;5;124m'\u001b[39m\u001b[38;5;124mENOENT\u001b[39m\u001b[38;5;124m'\u001b[39m, \u001b[38;5;124m'\u001b[39m\u001b[38;5;124mEACCES\u001b[39m\u001b[38;5;124m'\u001b[39m]:\n\u001b[0;32m--> 440\u001b[0m         \u001b[38;5;28;01mraise\u001b[39;00m sys\u001b[38;5;241m.\u001b[39mexc_info()[\u001b[38;5;241m1\u001b[39m] \u001b[38;5;28;01mfrom\u001b[39;00m \u001b[38;5;21;01merr\u001b[39;00m\n\u001b[1;32m    441\u001b[0m     \u001b[38;5;28;01mreturn\u001b[39;00m \u001b[38;5;28;01mNone\u001b[39;00m\n\u001b[1;32m    442\u001b[0m \u001b[38;5;28;01mif\u001b[39;00m mode\u001b[38;5;241m.\u001b[39mstartswith(\u001b[38;5;124m'\u001b[39m\u001b[38;5;124mr\u001b[39m\u001b[38;5;124m'\u001b[39m):\n\u001b[1;32m    443\u001b[0m     \u001b[38;5;66;03m# additional check for reading (eg can we uncompress) --- is this needed?\u001b[39;00m\n",
      "File \u001b[0;32m~/Library/r-miniconda-arm64/lib/python3.10/site-packages/MDAnalysis/lib/util.py:434\u001b[0m, in \u001b[0;36m_get_stream\u001b[0;34m(filename, openfunction, mode)\u001b[0m\n\u001b[1;32m    432\u001b[0m \u001b[38;5;250m\u001b[39m\u001b[38;5;124;03m\"\"\"Return open stream if *filename* can be opened with *openfunction* or else ``None``.\"\"\"\u001b[39;00m\n\u001b[1;32m    433\u001b[0m \u001b[38;5;28;01mtry\u001b[39;00m:\n\u001b[0;32m--> 434\u001b[0m     stream \u001b[38;5;241m=\u001b[39m \u001b[43mopenfunction\u001b[49m\u001b[43m(\u001b[49m\u001b[43mfilename\u001b[49m\u001b[43m,\u001b[49m\u001b[43m \u001b[49m\u001b[43mmode\u001b[49m\u001b[38;5;241;43m=\u001b[39;49m\u001b[43mmode\u001b[49m\u001b[43m)\u001b[49m\n\u001b[1;32m    435\u001b[0m \u001b[38;5;28;01mexcept\u001b[39;00m (\u001b[38;5;167;01mIOError\u001b[39;00m, \u001b[38;5;167;01mOSError\u001b[39;00m) \u001b[38;5;28;01mas\u001b[39;00m err:\n\u001b[1;32m    436\u001b[0m     \u001b[38;5;66;03m# An exception might be raised due to two reasons, first the openfunction is unable to open the file, in this\u001b[39;00m\n\u001b[1;32m    437\u001b[0m     \u001b[38;5;66;03m# case we have to ignore the error and return None. Second is when openfunction can't open the file because\u001b[39;00m\n\u001b[1;32m    438\u001b[0m     \u001b[38;5;66;03m# either the file isn't there or the permissions don't allow access.\u001b[39;00m\n\u001b[1;32m    439\u001b[0m     \u001b[38;5;28;01mif\u001b[39;00m errno\u001b[38;5;241m.\u001b[39merrorcode[err\u001b[38;5;241m.\u001b[39merrno] \u001b[38;5;129;01min\u001b[39;00m [\u001b[38;5;124m'\u001b[39m\u001b[38;5;124mENOENT\u001b[39m\u001b[38;5;124m'\u001b[39m, \u001b[38;5;124m'\u001b[39m\u001b[38;5;124mEACCES\u001b[39m\u001b[38;5;124m'\u001b[39m]:\n",
      "File \u001b[0;32m~/Library/r-miniconda-arm64/lib/python3.10/site-packages/MDAnalysis/lib/picklable_file_io.py:502\u001b[0m, in \u001b[0;36mbz2_pickle_open\u001b[0;34m(name, mode)\u001b[0m\n\u001b[1;32m    499\u001b[0m     \u001b[38;5;28;01mraise\u001b[39;00m \u001b[38;5;167;01mValueError\u001b[39;00m(\u001b[38;5;124m\"\u001b[39m\u001b[38;5;124mOnly read mode (\u001b[39m\u001b[38;5;124m'\u001b[39m\u001b[38;5;124mr\u001b[39m\u001b[38;5;124m'\u001b[39m\u001b[38;5;124m, \u001b[39m\u001b[38;5;124m'\u001b[39m\u001b[38;5;124mrt\u001b[39m\u001b[38;5;124m'\u001b[39m\u001b[38;5;124m, \u001b[39m\u001b[38;5;124m'\u001b[39m\u001b[38;5;124mrb\u001b[39m\u001b[38;5;124m'\u001b[39m\u001b[38;5;124m) \u001b[39m\u001b[38;5;124m\"\u001b[39m\n\u001b[1;32m    500\u001b[0m                      \u001b[38;5;124m\"\u001b[39m\u001b[38;5;124mfiles can be pickled.\u001b[39m\u001b[38;5;124m\"\u001b[39m)\n\u001b[1;32m    501\u001b[0m bz_mode \u001b[38;5;241m=\u001b[39m mode\u001b[38;5;241m.\u001b[39mreplace(\u001b[38;5;124m\"\u001b[39m\u001b[38;5;124mt\u001b[39m\u001b[38;5;124m\"\u001b[39m, \u001b[38;5;124m\"\u001b[39m\u001b[38;5;124m\"\u001b[39m)\n\u001b[0;32m--> 502\u001b[0m binary_file \u001b[38;5;241m=\u001b[39m \u001b[43mBZ2Picklable\u001b[49m\u001b[43m(\u001b[49m\u001b[43mname\u001b[49m\u001b[43m,\u001b[49m\u001b[43m \u001b[49m\u001b[43mbz_mode\u001b[49m\u001b[43m)\u001b[49m\n\u001b[1;32m    503\u001b[0m \u001b[38;5;28;01mif\u001b[39;00m \u001b[38;5;124m\"\u001b[39m\u001b[38;5;124mt\u001b[39m\u001b[38;5;124m\"\u001b[39m \u001b[38;5;129;01min\u001b[39;00m mode:\n\u001b[1;32m    504\u001b[0m     \u001b[38;5;28;01mreturn\u001b[39;00m TextIOPicklable(binary_file)\n",
      "File \u001b[0;32m~/Library/r-miniconda-arm64/lib/python3.10/site-packages/MDAnalysis/lib/picklable_file_io.py:283\u001b[0m, in \u001b[0;36mBZ2Picklable.__init__\u001b[0;34m(self, name, mode)\u001b[0m\n\u001b[1;32m    281\u001b[0m \u001b[38;5;28;01mdef\u001b[39;00m \u001b[38;5;21m__init__\u001b[39m(\u001b[38;5;28mself\u001b[39m, name, mode\u001b[38;5;241m=\u001b[39m\u001b[38;5;124m'\u001b[39m\u001b[38;5;124mrb\u001b[39m\u001b[38;5;124m'\u001b[39m):\n\u001b[1;32m    282\u001b[0m     \u001b[38;5;28mself\u001b[39m\u001b[38;5;241m.\u001b[39m_bz_mode \u001b[38;5;241m=\u001b[39m mode\n\u001b[0;32m--> 283\u001b[0m     \u001b[38;5;28;43msuper\u001b[39;49m\u001b[43m(\u001b[49m\u001b[43m)\u001b[49m\u001b[38;5;241;43m.\u001b[39;49m\u001b[38;5;21;43m__init__\u001b[39;49m\u001b[43m(\u001b[49m\u001b[43mname\u001b[49m\u001b[43m,\u001b[49m\u001b[43m \u001b[49m\u001b[43mmode\u001b[49m\u001b[43m)\u001b[49m\n",
      "File \u001b[0;32m~/Library/r-miniconda-arm64/lib/python3.10/bz2.py:81\u001b[0m, in \u001b[0;36mBZ2File.__init__\u001b[0;34m(self, filename, mode, compresslevel)\u001b[0m\n\u001b[1;32m     78\u001b[0m     \u001b[38;5;28;01mraise\u001b[39;00m \u001b[38;5;167;01mValueError\u001b[39;00m(\u001b[38;5;124m\"\u001b[39m\u001b[38;5;124mInvalid mode: \u001b[39m\u001b[38;5;132;01m%r\u001b[39;00m\u001b[38;5;124m\"\u001b[39m \u001b[38;5;241m%\u001b[39m (mode,))\n\u001b[1;32m     80\u001b[0m \u001b[38;5;28;01mif\u001b[39;00m \u001b[38;5;28misinstance\u001b[39m(filename, (\u001b[38;5;28mstr\u001b[39m, \u001b[38;5;28mbytes\u001b[39m, os\u001b[38;5;241m.\u001b[39mPathLike)):\n\u001b[0;32m---> 81\u001b[0m     \u001b[38;5;28mself\u001b[39m\u001b[38;5;241m.\u001b[39m_fp \u001b[38;5;241m=\u001b[39m \u001b[43m_builtin_open\u001b[49m\u001b[43m(\u001b[49m\u001b[43mfilename\u001b[49m\u001b[43m,\u001b[49m\u001b[43m \u001b[49m\u001b[43mmode\u001b[49m\u001b[43m)\u001b[49m\n\u001b[1;32m     82\u001b[0m     \u001b[38;5;28mself\u001b[39m\u001b[38;5;241m.\u001b[39m_closefp \u001b[38;5;241m=\u001b[39m \u001b[38;5;28;01mTrue\u001b[39;00m\n\u001b[1;32m     83\u001b[0m     \u001b[38;5;28mself\u001b[39m\u001b[38;5;241m.\u001b[39m_mode \u001b[38;5;241m=\u001b[39m mode_code\n",
      "\u001b[0;31mFileNotFoundError\u001b[0m: [Errno 2] No such file or directory: '/Users/finn/Documents/GitHub/rmsx_paper_files/rmsx/rmsx/test_files/1UBQ.pdb'"
     ]
    }
   ],
   "source": [
    "from rmsx import all_chain_rmsx\n",
    "\n",
    "all_chain_rmsx(\n",
    "    topology_file=pdb_file,\n",
    "    trajectory_file=dcd_file,\n",
    "    output_dir=output_dir,\n",
    "    num_slices=12,\n",
    "    slice_size=None,\n",
    "    rscript_executable='Rscript',\n",
    "    verbose=False,\n",
    "    interpolate=False,\n",
    "    triple=True,\n",
    "    overwrite=True,\n",
    "    palette=\"turbo\",\n",
    "    start_frame=0,\n",
    "    end_frame=None,\n",
    "    sync_color_scale=True   # Synchronize color bar across chains\n",
    ")"
   ]
  },
  {
   "cell_type": "markdown",
   "id": "62fb4430",
   "metadata": {},
   "source": [
    "After completion, each chain will have its own RMSX CSV and plots in subfolders of\n",
    "`output_dir_multi_chain`. An additional “combined” folder usually appears, containing\n",
    "snapshots that unify all chains into a single PDB per time slice."
   ]
  },
  {
   "cell_type": "markdown",
   "id": "340852ca",
   "metadata": {},
   "source": [
    "## 5. Generating a FlipBook\n",
    "\n",
    "**FlipBook** maps the RMSX values (stored in the B-factor column) back onto 3D structures and\n",
    "arranges snapshots side-by-side. This lets you visually inspect how each region expands,\n",
    "contracts, or shifts over time—much like flipping through an animation.\n",
    "\n",
    "You can generate a FlipBook either by:\n",
    "\n",
    "* Directly calling `run_rmsx_flipbook` (which performs RMSX **and** flipbook generation in one step), or\n",
    "* Running `run_rmsx` first, then using `run_flipbook` to create the images from existing RMSX data."
   ]
  },
  {
   "cell_type": "code",
   "execution_count": null,
   "id": "f2931690",
   "metadata": {},
   "outputs": [],
   "source": [
    "\n",
    "run_rmsx_flipbook(\n",
    "    topology_file=pdb_file,\n",
    "    trajectory_file=dcd_file,\n",
    "    output_dir=output_dir,\n",
    "    num_slices=9,\n",
    "    slice_size=None,\n",
    "    rscript_executable='Rscript',\n",
    "    verbose=False,\n",
    "    interpolate=False,\n",
    "    triple=True,\n",
    "    overwrite=True,\n",
    "    palette=\"mako\",\n",
    "    spacingFactor=\"0.8\",   # Adjust space between models in the flipbook\n",
    "    start_frame=0,\n",
    "    end_frame=None\n",
    ")"
   ]
  },
  {
   "cell_type": "markdown",
   "id": "93b0bf2d",
   "metadata": {},
   "source": [
    "When the command completes, the script automatically launches ChimeraX in the background (if\n",
    "installed) to generate high-resolution PNG snapshots. You can open ChimeraX manually if you\n",
    "want to reposition the molecule or adjust rendering."
   ]
  },
  {
   "cell_type": "markdown",
   "id": "236ab5fd",
   "metadata": {},
   "source": [
    "### 5.1 Displaying the FlipBook Image\n",
    "\n",
    "Below is an example of how to display the resulting PNG in this notebook, though the exact\n",
    "file path depends on your setup."
   ]
  },
  {
   "cell_type": "code",
   "execution_count": null,
   "id": "76145776",
   "metadata": {},
   "outputs": [],
   "source": [
    "flipbook_image = os.path.join(out, \"chain_P1_rmsx\", \"rmsx_mako.png\")\n",
    "if os.path.isfile(flipbook_image):\n",
    "    display(Image(flipbook_image))\n",
    "else:\n",
    "    print(f\"No flipbook image found at {flipbook_image}\")"
   ]
  },
  {
   "cell_type": "markdown",
   "id": "f13fbb3a",
   "metadata": {},
   "source": [
    "## 6. Visualizing Results and Interpretation\n",
    "\n",
    "RMSX outputs three main plots by default (if `triple=True`):\n",
    "\n",
    "- **RMSX Heatmap**: Residue index vs. time slice, colored by RMSF magnitude.\n",
    "- **RMSD Plot**: Overall deviation over time.\n",
    "- **RMSF Plot**: Average fluctuations per residue over the entire trajectory.\n",
    "\n",
    "Additionally, FlipBook produces side-by-side snapshots of the protein colored by RMSX values\n",
    "at each time window.\n",
    "\n",
    "**Key questions to ask** while interpreting RMSX:\n",
    "1. Which regions (residues) show the highest flexibility overall?\n",
    "2. When do these flexibility spikes occur (early, mid, or late in the simulation)?\n",
    "3. Does RMSX reveal multiple distinct intervals of high fluctuation?\n",
    "4. How do these fluctuations align with known functional domains or events (e.g., ligand binding,\n",
    "   domain motions)?"
   ]
  },
  {
   "cell_type": "markdown",
   "id": "9e801e2e",
   "metadata": {},
   "source": [
    "## 7. (Optional) Advanced Discussion\n",
    "\n",
    "RMSX can be used alongside other analysis methods like:\n",
    "\n",
    "- **Dynamic Cross-Correlation Maps (DCCM)** to see if flexible regions move in a correlated way.\n",
    "- **Principal Component Analysis (PCA)** to reduce dimensionality and identify principal motions.\n",
    "\n",
    "For scripts demonstrating DCCM or PCA, see the `dccm_example.py` or `pca_script.py` in this repository.\n",
    "\n",
    "**Potential Future Directions** include integrating RMSX results with principal component trajectories,\n",
    "or analyzing multiple replicate simulations to see if high-flexibility intervals are reproducible."
   ]
  },
  {
   "cell_type": "markdown",
   "id": "ceb54d98",
   "metadata": {},
   "source": [
    "---\n",
    "### **Conclusions**\n",
    "\n",
    "In this notebook, we showed how to:\n",
    "1. Install and configure **RMSX**  \n",
    "2. Run RMSX on single- and multi-chain proteins  \n",
    "3. Generate FlipBook snapshots to visualize fluctuations over time  \n",
    "4. Interpret the RMSX plots to discover **when** and **where** the largest changes happen  \n",
    "\n",
    "We hope this helps you get started with RMSX for your own MD simulations. For additional details,\n",
    "please check out our [GitHub documentation](https://github.com/AntunesLab/rmsx) or raise an issue\n",
    "if you have questions."
   ]
  },
  {
   "cell_type": "code",
   "execution_count": null,
   "id": "3d29a4c2",
   "metadata": {
    "ExecuteTime": {
     "end_time": "2025-02-13T20:43:38.883105Z",
     "start_time": "2025-02-13T20:38:51.893304Z"
    },
    "collapsed": false,
    "jupyter": {
     "outputs_hidden": false
    }
   },
   "outputs": [],
   "source": [
    "# ptase_wt_pdb = \"/Users/finn/Downloads/1OHR-apo-OK.pdb\"\n",
    "# ptase_wt_pdb = \"/Users/finn/Downloads/1OHR-apo-OK.pdb\"\n",
    "# ptase_wt_pdb = \"/Users/finn/Downloads/ptase-V32E.pdb\"\n",
    "\n",
    "ptase_wt_pdb = \"/Users/finn/Downloads/REFProtein_WT.gro\"\n",
    "\n",
    "ptase_wt_traj = \"/Users/finn/Downloads/trjCONV_ptase-wt-1_EQ1-90ns_pbc-fit-WithOUTWater.xtc\"\n",
    "output_dir_ptase = \"/Users/finn/Desktop/RMSX_Demo_files_mac/more_protease_examples\"\n",
    "\n",
    "\n",
    "\n",
    "run_rmsx_flipbook(\n",
    "    topology_file=ptase_wt_pdb,\n",
    "    trajectory_file=ptase_wt_traj,\n",
    "    output_dir=output_dir_ptase,\n",
    "    num_slices=12,\n",
    "    slice_size=None,\n",
    "    rscript_executable='Rscript',\n",
    "    verbose=True,\n",
    "    interpolate=False,\n",
    "    triple=True,\n",
    "    overwrite=True,\n",
    "    palette=\"turbo\",\n",
    "    spacingFactor=\"0.8\",   # Adjust space between models in the flipbook\n",
    "    start_frame=0,\n",
    "    end_frame=None\n",
    ")"
   ]
  },
  {
   "cell_type": "code",
   "execution_count": null,
   "id": "4ed8e1cb",
   "metadata": {
    "ExecuteTime": {
     "end_time": "2025-05-10T21:02:32.868642Z",
     "start_time": "2025-05-10T21:02:32.646202Z"
    },
    "collapsed": false,
    "jupyter": {
     "outputs_hidden": false
    }
   },
   "outputs": [],
   "source": [
    "# ptase_wt_pdb = \"/Users/finn/Downloads/1OHR-apo-OK.pdb\"\n",
    "# ptase_wt_pdb = \"/Users/finn/Downloads/1OHR-apo-OK.pdb\"\n",
    "ptase_mut_pdb = \"/Users/finn/Downloads/ptase-V32E.pdb\"\n",
    "\n",
    "ptase_mut_traj = \"/Users/finn/Downloads/trjCONV_ptase-mt-1_EQ1-100ns_pbc-fit-WithOUTWater.xtc\"\n",
    "output_dir_ptase_mut = \"/Users/finn/Desktop/RMSX_Demo_files_mac/more_protease_examples/mut_test\"\n",
    "\n",
    "\n",
    "\n",
    "run_rmsx_flipbook(\n",
    "    topology_file=ptase_mut_pdb,\n",
    "    trajectory_file=ptase_mut_traj,\n",
    "    output_dir=output_dir_ptase_mut,\n",
    "    num_slices=12,\n",
    "    slice_size=None,\n",
    "    rscript_executable='Rscript',\n",
    "    verbose=True,\n",
    "    interpolate=False,\n",
    "    triple=True,\n",
    "    overwrite=True,\n",
    "    palette=\"turbo\",\n",
    "    spacingFactor=\"0.8\",   # Adjust space between models in the flipbook\n",
    "    start_frame=0,\n",
    "    end_frame=None\n",
    ")\n",
    "\n"
   ]
  },
  {
   "cell_type": "code",
   "execution_count": null,
   "id": "f39ecc53",
   "metadata": {
    "ExecuteTime": {
     "end_time": "2025-02-13T21:14:46.560672Z",
     "start_time": "2025-02-13T20:43:57.919607Z"
    },
    "collapsed": false,
    "jupyter": {
     "outputs_hidden": false
    }
   },
   "outputs": [],
   "source": [
    "run_rmsx_flipbook(\n",
    "    topology_file=ptase_mut_pdb,\n",
    "    trajectory_file=ptase_mut_traj,\n",
    "    output_dir=output_dir_ptase_mut,\n",
    "    num_slices=12,\n",
    "    slice_size=None,\n",
    "    rscript_executable='Rscript',\n",
    "    verbose=True,\n",
    "    interpolate=False,\n",
    "    triple=True,\n",
    "    overwrite=True,\n",
    "    palette=\"turbo\",\n",
    "    spacingFactor=\"0.8\",   # Adjust space between models in the flipbook\n",
    "    start_frame=50000,\n",
    "    end_frame=100000\n",
    ")\n"
   ]
  },
  {
   "cell_type": "code",
   "execution_count": null,
   "id": "c6c494a8",
   "metadata": {
    "collapsed": false,
    "jupyter": {
     "outputs_hidden": false
    }
   },
   "outputs": [],
   "source": []
  }
 ],
 "metadata": {
  "kernelspec": {
   "display_name": "Python 3 (ipykernel)",
   "language": "python",
   "name": "python3"
  },
  "language_info": {
   "codemirror_mode": {
    "name": "ipython",
    "version": 3
   },
   "file_extension": ".py",
   "mimetype": "text/x-python",
   "name": "python",
   "nbconvert_exporter": "python",
   "pygments_lexer": "ipython3",
   "version": "3.10.9"
  }
 },
 "nbformat": 4,
 "nbformat_minor": 5
}
