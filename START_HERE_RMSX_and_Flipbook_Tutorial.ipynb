{
 "cells": [
  {
   "cell_type": "markdown",
   "id": "d6de7586",
   "metadata": {},
   "source": [
    "# RMSX Demonstration\n",
    "\n",
    "This notebook provides an end-to-end example of how to use **RMSX** for analyzing\n",
    "molecular dynamics (MD) simulations. We'll show how to:\n",
    "\n",
    "1. Set up the environment and install dependencies\n",
    "2. Prepare input files (structure and trajectory)\n",
    "3. Run RMSX on a single chain\n",
    "4. Run RMSX on multiple chains simultaneously\n",
    "5. Generate FlipBook snapshots to visualize your protein movements\n",
    "6. Display and interpret the results\n",
    "\n",
    "> **Note:** Adjust file paths to match your local environment."
   ]
  },
  {
   "cell_type": "markdown",
   "id": "9b3fe5f3",
   "metadata": {},
   "source": [
    "## 1. Environment Setup\n",
    "\n",
    "**Please ensure you have downloaded R and ChimeraX before proceeding**\n",
    "\n",
    "M1 macs can run intel versions of R but that won't suffice here. If the following does not compile make sure you are using the correct version of R for your machine. We'll use it for plotting the heatmaps and flanking RMSD and RMSF plots\n",
    "\n",
    "Once you have those installed you can just run each of the following cells in order to generate RMSX and the associated plots.\n"
   ]
  },
  {
   "cell_type": "markdown",
   "source": [
    "Quick Start:"
   ],
   "metadata": {
    "collapsed": false
   }
  },
  {
   "cell_type": "code",
   "execution_count": 21,
   "outputs": [
    {
     "name": "stdout",
     "output_type": "stream",
     "text": [
      "python: /Users/finn/Documents/rmsx_in_md_analysis/env/bin/python\n",
      "rmsx module: None\n",
      "has run_rmsx? True\n"
     ]
    }
   ],
   "source": [
    "import sys, pathlib\n",
    "import rmsx, rmsx.rmsx as core\n",
    "\n",
    "print(\"python:\", sys.executable)\n",
    "print(\"rmsx module:\", rmsx.__file__)\n",
    "print(\"has run_rmsx?\", hasattr(core, \"run_rmsx\"))"
   ],
   "metadata": {
    "collapsed": false,
    "ExecuteTime": {
     "end_time": "2025-08-08T19:14:51.639525Z",
     "start_time": "2025-08-08T19:14:51.603094Z"
    }
   }
  },
  {
   "cell_type": "code",
   "execution_count": 22,
   "outputs": [
    {
     "name": "stdout",
     "output_type": "stream",
     "text": [
      "Obtaining file:///Users/finn/Documents/GitHub/rmsx_paper_files/rmsx/rmsx\n",
      "  Installing build dependencies: started\n",
      "  Installing build dependencies: finished with status 'done'\n",
      "  Checking if build backend supports build_editable: started\n",
      "  Checking if build backend supports build_editable: finished with status 'done'\n",
      "  Getting requirements to build editable: started\n",
      "  Getting requirements to build editable: finished with status 'done'\n",
      "  Preparing editable metadata (pyproject.toml): started\n",
      "  Preparing editable metadata (pyproject.toml): finished with status 'done'\n",
      "Requirement already satisfied: MDAnalysis>=2.0.0 in /Users/finn/Documents/rmsx_in_md_analysis/env/lib/python3.9/site-packages (from rmsx-timeseries-rmsf==0.1.0) (2.7.0)\n",
      "Requirement already satisfied: pandas>=1.1.0 in /Users/finn/Documents/rmsx_in_md_analysis/env/lib/python3.9/site-packages (from rmsx-timeseries-rmsf==0.1.0) (2.0.3)\n",
      "Requirement already satisfied: plotly>=4.14.3 in /Users/finn/Documents/rmsx_in_md_analysis/env/lib/python3.9/site-packages (from rmsx-timeseries-rmsf==0.1.0) (5.24.1)\n",
      "Requirement already satisfied: numpy<2.0,>=1.22.3 in /Users/finn/Documents/rmsx_in_md_analysis/env/lib/python3.9/site-packages (from MDAnalysis>=2.0.0->rmsx-timeseries-rmsf==0.1.0) (1.25.1)\n",
      "Requirement already satisfied: GridDataFormats>=0.4.0 in /Users/finn/Documents/rmsx_in_md_analysis/env/lib/python3.9/site-packages (from MDAnalysis>=2.0.0->rmsx-timeseries-rmsf==0.1.0) (1.0.1)\n",
      "Requirement already satisfied: mmtf-python>=1.0.0 in /Users/finn/Documents/rmsx_in_md_analysis/env/lib/python3.9/site-packages (from MDAnalysis>=2.0.0->rmsx-timeseries-rmsf==0.1.0) (1.1.3)\n",
      "Requirement already satisfied: joblib>=0.12 in /Users/finn/Documents/rmsx_in_md_analysis/env/lib/python3.9/site-packages (from MDAnalysis>=2.0.0->rmsx-timeseries-rmsf==0.1.0) (1.3.1)\n",
      "Requirement already satisfied: scipy>=1.5.0 in /Users/finn/Documents/rmsx_in_md_analysis/env/lib/python3.9/site-packages (from MDAnalysis>=2.0.0->rmsx-timeseries-rmsf==0.1.0) (1.11.1)\n",
      "Requirement already satisfied: matplotlib>=1.5.1 in /Users/finn/Documents/rmsx_in_md_analysis/env/lib/python3.9/site-packages (from MDAnalysis>=2.0.0->rmsx-timeseries-rmsf==0.1.0) (3.7.2)\n",
      "Requirement already satisfied: tqdm>=4.43.0 in /Users/finn/Documents/rmsx_in_md_analysis/env/lib/python3.9/site-packages (from MDAnalysis>=2.0.0->rmsx-timeseries-rmsf==0.1.0) (4.65.0)\n",
      "Requirement already satisfied: threadpoolctl in /Users/finn/Documents/rmsx_in_md_analysis/env/lib/python3.9/site-packages (from MDAnalysis>=2.0.0->rmsx-timeseries-rmsf==0.1.0) (3.2.0)\n",
      "Requirement already satisfied: packaging in /Users/finn/Documents/rmsx_in_md_analysis/env/lib/python3.9/site-packages (from MDAnalysis>=2.0.0->rmsx-timeseries-rmsf==0.1.0) (23.1)\n",
      "Requirement already satisfied: fasteners in /Users/finn/Documents/rmsx_in_md_analysis/env/lib/python3.9/site-packages (from MDAnalysis>=2.0.0->rmsx-timeseries-rmsf==0.1.0) (0.18)\n",
      "Requirement already satisfied: mda-xdrlib in /Users/finn/Documents/rmsx_in_md_analysis/env/lib/python3.9/site-packages (from MDAnalysis>=2.0.0->rmsx-timeseries-rmsf==0.1.0) (0.2.0)\n",
      "Requirement already satisfied: mrcfile in /Users/finn/Documents/rmsx_in_md_analysis/env/lib/python3.9/site-packages (from GridDataFormats>=0.4.0->MDAnalysis>=2.0.0->rmsx-timeseries-rmsf==0.1.0) (1.4.3)\n",
      "Requirement already satisfied: contourpy>=1.0.1 in /Users/finn/Documents/rmsx_in_md_analysis/env/lib/python3.9/site-packages (from matplotlib>=1.5.1->MDAnalysis>=2.0.0->rmsx-timeseries-rmsf==0.1.0) (1.1.0)\n",
      "Requirement already satisfied: cycler>=0.10 in /Users/finn/Documents/rmsx_in_md_analysis/env/lib/python3.9/site-packages (from matplotlib>=1.5.1->MDAnalysis>=2.0.0->rmsx-timeseries-rmsf==0.1.0) (0.11.0)\n",
      "Requirement already satisfied: fonttools>=4.22.0 in /Users/finn/Documents/rmsx_in_md_analysis/env/lib/python3.9/site-packages (from matplotlib>=1.5.1->MDAnalysis>=2.0.0->rmsx-timeseries-rmsf==0.1.0) (4.41.1)\n",
      "Requirement already satisfied: kiwisolver>=1.0.1 in /Users/finn/Documents/rmsx_in_md_analysis/env/lib/python3.9/site-packages (from matplotlib>=1.5.1->MDAnalysis>=2.0.0->rmsx-timeseries-rmsf==0.1.0) (1.4.4)\n",
      "Requirement already satisfied: pillow>=6.2.0 in /Users/finn/Documents/rmsx_in_md_analysis/env/lib/python3.9/site-packages (from matplotlib>=1.5.1->MDAnalysis>=2.0.0->rmsx-timeseries-rmsf==0.1.0) (10.0.0)\n",
      "Requirement already satisfied: pyparsing<3.1,>=2.3.1 in /Users/finn/Documents/rmsx_in_md_analysis/env/lib/python3.9/site-packages (from matplotlib>=1.5.1->MDAnalysis>=2.0.0->rmsx-timeseries-rmsf==0.1.0) (3.0.9)\n",
      "Requirement already satisfied: python-dateutil>=2.7 in /Users/finn/Documents/rmsx_in_md_analysis/env/lib/python3.9/site-packages (from matplotlib>=1.5.1->MDAnalysis>=2.0.0->rmsx-timeseries-rmsf==0.1.0) (2.8.2)\n",
      "Requirement already satisfied: importlib-resources>=3.2.0 in /Users/finn/Documents/rmsx_in_md_analysis/env/lib/python3.9/site-packages (from matplotlib>=1.5.1->MDAnalysis>=2.0.0->rmsx-timeseries-rmsf==0.1.0) (6.0.0)\n",
      "Requirement already satisfied: zipp>=3.1.0 in /Users/finn/Documents/rmsx_in_md_analysis/env/lib/python3.9/site-packages (from importlib-resources>=3.2.0->matplotlib>=1.5.1->MDAnalysis>=2.0.0->rmsx-timeseries-rmsf==0.1.0) (3.16.2)\n",
      "Requirement already satisfied: msgpack>=1.0.0 in /Users/finn/Documents/rmsx_in_md_analysis/env/lib/python3.9/site-packages (from mmtf-python>=1.0.0->MDAnalysis>=2.0.0->rmsx-timeseries-rmsf==0.1.0) (1.0.5)\n",
      "Requirement already satisfied: pytz>=2020.1 in /Users/finn/Documents/rmsx_in_md_analysis/env/lib/python3.9/site-packages (from pandas>=1.1.0->rmsx-timeseries-rmsf==0.1.0) (2023.3)\n",
      "Requirement already satisfied: tzdata>=2022.1 in /Users/finn/Documents/rmsx_in_md_analysis/env/lib/python3.9/site-packages (from pandas>=1.1.0->rmsx-timeseries-rmsf==0.1.0) (2023.3)\n",
      "Requirement already satisfied: tenacity>=6.2.0 in /Users/finn/Documents/rmsx_in_md_analysis/env/lib/python3.9/site-packages (from plotly>=4.14.3->rmsx-timeseries-rmsf==0.1.0) (9.0.0)\n",
      "Requirement already satisfied: six>=1.5 in /Users/finn/Documents/rmsx_in_md_analysis/env/lib/python3.9/site-packages (from python-dateutil>=2.7->matplotlib>=1.5.1->MDAnalysis>=2.0.0->rmsx-timeseries-rmsf==0.1.0) (1.16.0)\n",
      "Building wheels for collected packages: rmsx-timeseries-rmsf\n",
      "  Building editable for rmsx-timeseries-rmsf (pyproject.toml): started\n",
      "  Building editable for rmsx-timeseries-rmsf (pyproject.toml): finished with status 'done'\n",
      "  Created wheel for rmsx-timeseries-rmsf: filename=rmsx_timeseries_rmsf-0.1.0-0.editable-py3-none-any.whl size=7244 sha256=4624ebc63ec6efe5f5c8ca57f757faa89949a0da304dec13c3fc35377dd41d43\n",
      "  Stored in directory: /private/var/folders/y6/30y4_6m171g7b2mczs5c9h140000gn/T/pip-ephem-wheel-cache-a7z0qh53/wheels/31/e8/fd/f00952f96dfe5188a177ef8b7ae23eeb14d54b85273431fd25\n",
      "Successfully built rmsx-timeseries-rmsf\n",
      "Installing collected packages: rmsx-timeseries-rmsf\n",
      "Successfully installed rmsx-timeseries-rmsf-0.1.0\n",
      "R version 4.4.0 (2024-04-24)\n"
     ]
    }
   ],
   "source": [
    "# One-click setup\n",
    "import sys, subprocess, pathlib, os\n",
    "\n",
    "REPO_URL = \"https://github.com/AntunesLab/rmsx.git\"\n",
    "REPO_DIR = pathlib.Path.cwd() / \"rmsx\"       # clone next to the notebook\n",
    "PKG_DIR  = REPO_DIR / \"rmsx\"                 # the Python package folder (has __init__.py)\n",
    "\n",
    "# 1) Clone if missing\n",
    "if not REPO_DIR.exists():\n",
    "    print(\"Cloning RMSX…\")\n",
    "    subprocess.check_call([\"git\", \"clone\", REPO_URL, str(REPO_DIR)])\n",
    "\n",
    "# 2) Install into this notebook’s environment (editable so changes show up)\n",
    "subprocess.check_call([sys.executable, \"-m\", \"pip\", \"install\", \"-e\", str(REPO_DIR)])\n",
    "\n",
    "# 3) Optional: check Rscript (Windows users: set the full path below if needed)\n",
    "RSCRIPT = os.environ.get(\"RSCRIPT\", \"Rscript\")\n",
    "try:\n",
    "    out = subprocess.run([RSCRIPT, \"-e\", \"cat(R.version.string)\"], capture_output=True, text=True, check=False)\n",
    "    print(out.stdout or out.stderr or \"Rscript OK\")\n",
    "except FileNotFoundError:\n",
    "    print(\"⚠️ Rscript not found. Plots will be skipped until R is installed or RSCRIPT is set.\")\n"
   ],
   "metadata": {
    "collapsed": false,
    "ExecuteTime": {
     "end_time": "2025-08-08T19:14:55.710608Z",
     "start_time": "2025-08-08T19:14:52.246647Z"
    }
   }
  },
  {
   "cell_type": "markdown",
   "source": [
    "*Windows users: if R isn’t on PATH, set RSCRIPT before running:*"
   ],
   "metadata": {
    "collapsed": false
   }
  },
  {
   "cell_type": "code",
   "execution_count": 23,
   "outputs": [],
   "source": [
    "import os\n",
    "#os.environ[\"RSCRIPT\"] = r\"C:\\Program Files\\R\\R-4.4.1\\bin\\Rscript.exe\""
   ],
   "metadata": {
    "collapsed": false,
    "ExecuteTime": {
     "end_time": "2025-08-08T19:15:00.588391Z",
     "start_time": "2025-08-08T19:15:00.578407Z"
    }
   }
  },
  {
   "cell_type": "markdown",
   "source": [],
   "metadata": {
    "collapsed": false
   }
  },
  {
   "cell_type": "code",
   "execution_count": 23,
   "outputs": [],
   "source": [],
   "metadata": {
    "collapsed": false,
    "ExecuteTime": {
     "end_time": "2025-08-08T19:15:01.443300Z",
     "start_time": "2025-08-08T19:15:01.405029Z"
    }
   }
  },
  {
   "cell_type": "markdown",
   "source": [
    "Loading Test Files - Please *Don't* add your files here, see the next section."
   ],
   "metadata": {
    "collapsed": false
   }
  },
  {
   "cell_type": "code",
   "execution_count": 24,
   "outputs": [],
   "source": [
    "from pathlib import Path\n",
    "import os\n",
    "import rmsx.rmsx as core\n",
    "from rmsx.rmsx import run_rmsx, run_rmsx_flipbook, all_chain_rmsx, run_shift_flipbook\n",
    "\n",
    "pkg_dir = Path(core.__file__).resolve().parent\n",
    "# Look for test_files in common spots\n",
    "candidates = [\n",
    "    pkg_dir.parent / \"test_files\",\n",
    "    pkg_dir.parent.parent / \"test_files\",\n",
    "    Path.cwd() / \"test_files\",\n",
    "    Path.cwd() / \"rmsx\" / \"test_files\",\n",
    "]\n",
    "test_dir = next((p for p in candidates if p.exists()), None)\n",
    "if not test_dir:\n",
    "    raise FileNotFoundError(\"Couldn't find test_files. Make sure you cloned the repo.\")\n",
    "\n",
    "pdb_file   = (test_dir / \"1UBQ.pdb\").as_posix()\n",
    "dcd_file   = (test_dir / \"mon_sys.dcd\").as_posix()\n",
    "output_dir = (test_dir / \"example_uqb\").as_posix()\n",
    "\n",
    "\n",
    "pdb_file_multi   = (test_dir / \"Protease/protease_backbone.pdb\").as_posix()\n",
    "traj_file_multi   = (test_dir / \"Protease/short_protease_backbone.dcd\").as_posix()\n",
    "output_dir_multi = (test_dir / \"multi_protease\").as_posix()\n",
    "\n",
    "\n"
   ],
   "metadata": {
    "collapsed": false,
    "ExecuteTime": {
     "end_time": "2025-08-08T19:15:08.821288Z",
     "start_time": "2025-08-08T19:15:08.811478Z"
    }
   }
  },
  {
   "cell_type": "markdown",
   "source": [
    "## 3. Single-Chain RMSX Analysis\n",
    "\n",
    "The `run_rmsx` function computes RMSX for a specified chain (e.g., chain A or a single-chain\n",
    "protein) and automatically generates:\n",
    "\n",
    "* A **heatmap** of RMSX values vs. residue and time slice\n",
    "* An **RMSD** plot for overall structural changes\n",
    "* An **RMSF** plot over the entire simulation\n",
    "\n",
    "We'll also set `palette=\"mako\"` or any color scheme supported by R's `viridis` package."
   ],
   "metadata": {
    "collapsed": false
   }
  },
  {
   "cell_type": "markdown",
   "source": [
    "If the analysis ran successfully, RMSX will produce plots in the specified output directory.\n",
    "Typically, you'll see a **CSV** with the RMSX values per residue/time-slice, plus **PNG** plots of:\n",
    "\n",
    "1. RMSX heatmap\n",
    "2. RMSD time series\n",
    "3. RMSF bar chart"
   ],
   "metadata": {
    "collapsed": false
   }
  },
  {
   "cell_type": "markdown",
   "source": [],
   "metadata": {
    "collapsed": false
   }
  },
  {
   "cell_type": "code",
   "execution_count": null,
   "outputs": [],
   "source": [
    "# Feel free to explore your own files here, or use the test files provided in the repo.\n",
    "\n",
    "# pdb_file, = \"example/path/to/your.pdb\",\n",
    "# dcd_file = \"example/path/to/your.dcd\" #or any other trajectory format\n",
    "# output_dir = \"example/path/to/your/output_dir\"  # where to save results\n",
    "\n",
    "# make sure you update chain_sele below as well or leave it as None to see your options\"\n",
    "\n",
    "run_rmsx(\n",
    "    topology_file=pdb_file,        # PDB or topology file\n",
    "    trajectory_file=dcd_file,      # Trajectory file\n",
    "    output_dir=output_dir,         # Location for RMSX outputs\n",
    "    num_slices=9,                  # Divide trajectory into 9 slices\n",
    "    slice_size=None,               # (Alternately specify slice_size in frames)\n",
    "    rscript_executable='Rscript',  # Path to Rscript\n",
    "    verbose=False,                  # Print detailed logs\n",
    "    interpolate=False,             # Disable heatmap interpolation\n",
    "    triple=True,                   # Generate RMSX, RMSD, and RMSF plots\n",
    "    overwrite=True,                # Overwrite existing folder\n",
    "    palette=\"mako\",                # Color palette\n",
    "    chain_sele=\"7\",                # Target chain ID\n",
    "    start_frame=0,                 # First frame to analyze\n",
    "    end_frame=None                 # Last frame (None = all frames)\n",
    ")\n",
    "print(\"Done. Outputs in:\", output_dir)\n"
   ],
   "metadata": {
    "collapsed": false
   }
  },
  {
   "cell_type": "markdown",
   "id": "a9e99914",
   "metadata": {},
   "source": []
  },
  {
   "cell_type": "markdown",
   "id": "a51f910b",
   "metadata": {},
   "source": []
  },
  {
   "cell_type": "markdown",
   "id": "35e64b20",
   "metadata": {},
   "source": [
    "## 4. Multi-Chain RMSX Analysis\n",
    "\n",
    "For a protein with multiple chains (e.g., an HIV protease dimer), you can use\n",
    "`all_chain_rmsx` or `run_rmsx_flipbook` to compute RMSX for each chain separately.\n",
    "The function can also map the RMSX values back onto a *combined* PDB file for a\n",
    "multi-chain FlipBook.\n",
    "\n",
    "If you only want an RMSX plot for one of your chains use `run_rmsx()`\n",
    "\n",
    "`all_chain_rmsx()` will work regardless of the number of chains\n"
   ]
  },
  {
   "cell_type": "code",
   "execution_count": null,
   "id": "bbc235c5",
   "metadata": {},
   "outputs": [],
   "source": [
    "\n",
    "all_chain_rmsx(\n",
    "    topology_file=pdb_file,\n",
    "    trajectory_file=dcd_file,\n",
    "    output_dir=output_dir,\n",
    "    num_slices=12,\n",
    "    slice_size=None,\n",
    "    rscript_executable='Rscript',\n",
    "    verbose=False,\n",
    "    interpolate=False,\n",
    "    triple=True,\n",
    "    overwrite=True,\n",
    "    palette=\"turbo\",\n",
    "    start_frame=0,\n",
    "    end_frame=None,\n",
    "    sync_color_scale=True   # Synchronize color bar across chains\n",
    ")"
   ]
  },
  {
   "cell_type": "markdown",
   "id": "62fb4430",
   "metadata": {},
   "source": [
    "After completion, each chain will have its own RMSX CSV and plots in subfolders of\n",
    "`output_dir_multi_chain`. An additional “combined” folder usually appears, containing\n",
    "snapshots that unify all chains into a single PDB per time slice."
   ]
  },
  {
   "cell_type": "markdown",
   "id": "340852ca",
   "metadata": {},
   "source": [
    "## 5. Generating a FlipBook\n",
    "\n",
    "**FlipBook** maps the RMSX values (stored in the B-factor column) back onto 3D structures and\n",
    "arranges snapshots side-by-side. This lets you visually inspect how each region expands,\n",
    "contracts, or shifts over time—much like flipping through an animation.\n",
    "\n",
    "You can generate a FlipBook either by:\n",
    "\n",
    "* Directly calling `run_rmsx_flipbook` (which performs RMSX **and** flipbook generation in one step), or\n",
    "* Running `run_rmsx` first, then using `run_flipbook` to create the images from existing RMSX data."
   ]
  },
  {
   "cell_type": "code",
   "execution_count": null,
   "outputs": [],
   "source": [
    "pdb_file_multi\n"
   ],
   "metadata": {
    "collapsed": false
   }
  },
  {
   "cell_type": "code",
   "execution_count": null,
   "outputs": [],
   "source": [
    "# you can define you own files here:\n",
    "# pdb_file_multi = path/to/your/multi_chain.pdb\n",
    "# traj_file_multi = path/to/your/multi_chain_trajectory.dcd\n",
    "# output_dir_multi =output_dir/to/your/output_dir\n",
    "\n",
    "run_rmsx_flipbook(\n",
    "    topology_file=pdb_file_multi,\n",
    "    trajectory_file=traj_file_multi,\n",
    "    output_dir=output_dir_multi,\n",
    "    num_slices=9,\n",
    "    slice_size=None,\n",
    "    rscript_executable='Rscript',\n",
    "    verbose=False,\n",
    "    interpolate=False,\n",
    "    triple=True,\n",
    "    overwrite=True,\n",
    "    palette=\"turbo\",\n",
    "    spacingFactor=\"0.8\",   # Adjust space between models in the flipbook\n",
    "    start_frame=0,\n",
    "    end_frame=None\n",
    ")"
   ],
   "metadata": {
    "collapsed": false
   }
  },
  {
   "cell_type": "markdown",
   "source": [
    "Here you can try out a trajectory map implementation here - please credit the original method creators:\n",
    "\n",
    "Matej Kožić, Branimir Bertoša, Trajectory maps: molecular dynamics visualization and analysis, NAR Genomics and Bioinformatics, Volume 6, Issue 1, March 2024, lqad114, https://doi.org/10.1093/nargab/lqad114"
   ],
   "metadata": {
    "collapsed": false
   }
  },
  {
   "cell_type": "code",
   "execution_count": null,
   "outputs": [],
   "source": [
    "!open '/Users/finn/Documents/GitHub/rmsx_paper_files/rmsx/rmsx/test_files/multi_protease'"
   ],
   "metadata": {
    "collapsed": false
   }
  },
  {
   "cell_type": "code",
   "execution_count": null,
   "id": "f2931690",
   "metadata": {},
   "outputs": [],
   "source": [
    "# you can define you own files here:\n",
    "# pdb_file_multi = path/to/your/multi_chain.pdb\n",
    "# traj_file_multi = path/to/your/multi_chain_trajectory.dcd\n",
    "# output_dir_multi =output_dir/to/your/output_dir\n",
    "\n",
    "run_shift_flipbook(\n",
    "    topology_file=pdb_file_multi,\n",
    "    trajectory_file=traj_file_multi,\n",
    "    output_dir=output_dir_multi,\n",
    "    num_slices=9,\n",
    "    slice_size=None,\n",
    "    rscript_executable='Rscript',\n",
    "    verbose=False,\n",
    "    interpolate=False,\n",
    "    triple=True,\n",
    "    overwrite=True,\n",
    "    palette=\"viridis\",\n",
    "    spacingFactor=\"0.9\",   # Adjust space between models in the flipbook\n",
    "    start_frame=0,\n",
    "    end_frame=None\n",
    ")"
   ]
  },
  {
   "cell_type": "markdown",
   "id": "93b0bf2d",
   "metadata": {},
   "source": [
    "When the command completes, the script automatically launches ChimeraX in the background (if\n",
    "installed) to generate high-resolution PNG snapshots. You can in ChimeraX you can reposition the structure or adjust rendering and rerun using the save png command (check the log in ChimerX)."
   ]
  },
  {
   "cell_type": "markdown",
   "id": "236ab5fd",
   "metadata": {},
   "source": [
    "### 5.1 Displaying the FlipBook Image\n",
    "\n",
    "Below is an example of how to display the resulting PNG in this notebook, though the exact\n",
    "file path depends on your setup."
   ]
  },
  {
   "cell_type": "code",
   "execution_count": null,
   "id": "76145776",
   "metadata": {},
   "outputs": [],
   "source": [
    "import glob\n",
    "from IPython.display import Image, display\n",
    "imgs = sorted(glob.glob(os.path.join(output_dir_multi, \"combined\", \"*.png\")))\n",
    "if imgs: display(Image(filename=imgs[-1]))\n",
    "else:    print(\"No flipbook images found in\", output_dir_multi)"
   ]
  },
  {
   "cell_type": "markdown",
   "id": "f13fbb3a",
   "metadata": {},
   "source": [
    "## 6. Visualizing Results and Interpretation\n",
    "\n",
    "RMSX outputs three main plots by default (if `triple=True`):\n",
    "\n",
    "- **RMSX Heatmap**: Residue index vs. time slice, colored by RMSF magnitude.\n",
    "- **RMSD Plot**: Overall deviation over time.\n",
    "- **RMSF Plot**: Average fluctuations per residue over the entire trajectory.\n",
    "\n",
    "Additionally, FlipBook produces side-by-side snapshots of the protein colored by RMSX values\n",
    "at each time window.\n",
    "\n",
    "**Key questions to ask** while interpreting RMSX:\n",
    "1. Which regions (residues) show the highest flexibility overall?\n",
    "2. When do these flexibility spikes occur (early, mid, or late in the simulation)?\n",
    "3. Does RMSX reveal multiple distinct intervals of high fluctuation?\n",
    "4. How do these fluctuations align with known functional domains or events (e.g., ligand binding,\n",
    "   domain motions)?"
   ]
  },
  {
   "cell_type": "markdown",
   "id": "9e801e2e",
   "metadata": {},
   "source": [
    "## 7. (Optional) Advanced Discussion\n",
    "\n",
    "RMSX can be used alongside other analysis methods like:\n",
    "\n",
    "- **Dynamic Cross-Correlation Maps (DCCM)** to see if flexible regions move in a correlated way.\n",
    "- **Principal Component Analysis (PCA)** to reduce dimensionality and identify principal motions.\n",
    "\n",
    "For scripts demonstrating DCCM or PCA, see the `dccm_example.py` or `pca_script.py` in this repository.\n",
    "\n",
    "**Potential Future Directions** include integrating RMSX results with principal component trajectories,\n",
    "or analyzing multiple replicate simulations to see if high-flexibility intervals are reproducible."
   ]
  },
  {
   "cell_type": "markdown",
   "id": "ceb54d98",
   "metadata": {},
   "source": [
    "---\n",
    "### **Conclusions**\n",
    "\n",
    "In this notebook, we showed how to:\n",
    "1. Install and configure **RMSX**  \n",
    "2. Run RMSX on single- and multi-chain proteins  \n",
    "3. Generate FlipBook snapshots to visualize fluctuations over time  \n",
    "4. Interpret the RMSX plots to discover **when** and **where** the largest changes happen  \n",
    "\n",
    "We hope this helps you get started with RMSX for your own MD simulations. For additional details,\n",
    "please check out our [GitHub documentation](https://github.com/AntunesLab/rmsx) or raise an issue\n",
    "if you have questions."
   ]
  },
  {
   "cell_type": "markdown",
   "source": [
    "### **Acknowledgements**\n",
    "We would like thank the following researchers for their helpful comments and suggestions in making this tutorial:\n",
    "- Jaila Lewis - University of Houston\n",
    "- Mason Kretiv - Texas A&M University\n",
    "- Daniel Giraldo -"
   ],
   "metadata": {
    "collapsed": false
   }
  },
  {
   "cell_type": "markdown",
   "source": [],
   "metadata": {
    "collapsed": false
   }
  },
  {
   "cell_type": "code",
   "execution_count": null,
   "outputs": [],
   "source": [],
   "metadata": {
    "collapsed": false
   }
  }
 ],
 "metadata": {
  "kernelspec": {
   "display_name": "Python 3 (ipykernel)",
   "language": "python",
   "name": "python3"
  },
  "language_info": {
   "codemirror_mode": {
    "name": "ipython",
    "version": 3
   },
   "file_extension": ".py",
   "mimetype": "text/x-python",
   "name": "python",
   "nbconvert_exporter": "python",
   "pygments_lexer": "ipython3",
   "version": "3.10.9"
  }
 },
 "nbformat": 4,
 "nbformat_minor": 5
}
