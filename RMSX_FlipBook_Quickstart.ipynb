{
 "cells": [
  {
   "cell_type": "markdown",
   "id": "intro",
   "metadata": {},
   "source": [
    "# RMSX Demonstration\n",
    "\n",
    "This notebook includes everything you need to run **RMSX** and **Flipbook**. Just run each cell. You are encouraged to try different parameters and use your own trajectories directly within this notebook or by making a copy of it.\n",
    "\n",
    "\n",
    "We'll cover:\n",
    "\n",
    "1. Environment setup\n",
    "2. Loading demo input files\n",
    "3. Single-chain RMSX\n",
    "4. Multi-chain RMSX\n",
    "5. FlipBook snapshots (optional)\n",
    "6. Interpreting results\n",
    "\n",
    "> **Note:** Adjust file paths as needed for your machine. We reccomend not editing the first two cells, though."
   ]
  },
  {
   "cell_type": "markdown",
   "id": "env-setup",
   "metadata": {},
   "source": [
    "## 1) Environment Setup\n",
    "\n",
    "- **R** — used for heatmaps and RMSD/RMSF plots via `Rscript`.\n",
    "- **ChimeraX** (optional) — used for FlipBook image generation.\n"
   ]
  },
  {
   "cell_type": "markdown",
   "id": "quick-start",
   "metadata": {},
   "source": [
    "### Quick Start"
   ]
  },
  {
   "cell_type": "code",
   "execution_count": null,
   "id": "setup-cell",
   "metadata": {},
   "outputs": [],
   "source": [
    "# One-click install for this kernel (no sudo; no Plotly required)\n",
    "import sys, os, site, tempfile, urllib.request, subprocess, shutil\n",
    "\n",
    "def _ensure_pip_in_kernel():\n",
    "    try:\n",
    "        import pip  # noqa: F401\n",
    "        return\n",
    "    except Exception:\n",
    "        pass\n",
    "    # Bootstrap pip into THIS kernel if it's missing\n",
    "    print(\"Bootstrapping pip into this Jupyter kernel…\")\n",
    "    with tempfile.TemporaryDirectory() as td:\n",
    "        gp = os.path.join(td, \"get-pip.py\")\n",
    "        urllib.request.urlretrieve(\"https://bootstrap.pypa.io/get-pip.py\", gp)\n",
    "        subprocess.check_call([sys.executable, gp, \"--user\"])\n",
    "    # Make sure user-site is importable in this process\n",
    "    us = site.getusersitepackages()\n",
    "    if us not in sys.path:\n",
    "        sys.path.append(us)\n",
    "\n",
    "_ensure_pip_in_kernel()\n",
    "\n",
    "# Use Jupyter's %pip so installs target THIS kernel\n",
    "\n",
    "%pip install -U pip wheel setuptools\n",
    "%pip install -U \"numpy>=1.26,<2.0\" \"pandas>=2.2,<2.3\" \"MDAnalysis>=2.6,<3\" \"scipy>=1.10\" \"plotly>=5\"\n",
    "%pip install -U \"git+https://github.com/AntunesLab/rmsx.git@main\" plotly>=5\n",
    "\n",
    "# Optional: show Rscript (for plots) if available\n",
    "import subprocess\n",
    "RSCRIPT = os.environ.get(\"RSCRIPT\", \"Rscript\")\n",
    "try:\n",
    "    out = subprocess.run([RSCRIPT, \"-e\", \"cat(R.version.string)\"], capture_output=True, text=True)\n",
    "    print(out.stdout or out.stderr or \"Rscript OK\")\n",
    "except FileNotFoundError:\n",
    "    print(\"⚠️ Rscript not found. Heatmap/RMSD/RMSF plots will be skipped until R is installed or RSCRIPT is set.\")\n",
    "\n",
    "\n"
   ]
  },
  {
   "cell_type": "markdown",
   "id": "win-rscript-note",
   "metadata": {},
   "source": [
    "*Windows users: if R isn’t on PATH, set `RSCRIPT` before running:*"
   ]
  },
  {
   "cell_type": "code",
   "execution_count": null,
   "id": "win-rscript",
   "metadata": {},
   "outputs": [],
   "source": [
    "import os\n",
    "# os.environ[\"RSCRIPT\"] = r\"C:\\\\Program Files\\\\R\\\\R-4.4.1\\\\bin\\\\Rscript.exe\"  # <- edit if needed\n",
    "!pwd"
   ]
  },
  {
   "cell_type": "markdown",
   "id": "load-files",
   "metadata": {},
   "source": [
    "## 2) Load Demo Input Files\n",
    "\n",
    "These come with the package as `test_files`. Rather than editing these we recocomend adding your paths in later cells. "
   ]
  },
  {
   "cell_type": "code",
   "execution_count": null,
   "id": "imports-and-paths",
   "metadata": {},
   "outputs": [],
   "source": [
    "# Imports & locate sample data\n",
    "from pathlib import Path\n",
    "import os, subprocess\n",
    "\n",
    "from rmsx import run_rmsx, run_rmsx_flipbook, all_chain_rmsx, run_shift_flipbook\n",
    "import rmsx\n",
    "\n",
    "pkg_dir = Path(rmsx.__file__).resolve().parent\n",
    "\n",
    "# Optional: set this to use your own dataset folder\n",
    "# os.environ[\"RMSX_TEST_DIR\"] = \"/path/to/test_files\"\n",
    "env_override = os.environ.get(\"RMSX_TEST_DIR\")\n",
    "\n",
    "candidates = []\n",
    "if env_override:\n",
    "    candidates.append(Path(env_override))\n",
    "\n",
    "candidates += [\n",
    "    Path.cwd() / \"test_files\",              # next to this notebook\n",
    "    Path.cwd() / \"rmsx\" / \"test_files\",     # if you cloned into ./rmsx\n",
    "    pkg_dir / \"test_files\",                 # packaged tests (if included)\n",
    "    pkg_dir.parent / \"test_files\",          # repo layout when running from source\n",
    "]\n",
    "\n",
    "test_dir = next((p for p in candidates if p.exists()), None)\n",
    "\n",
    "# Last resort: clone repo to fetch sample data (does not affect installed package)\n",
    "if not test_dir:\n",
    "    REPO_URL = \"https://github.com/AntunesLab/rmsx.git\"\n",
    "    REPO_DIR = Path.cwd() / \"rmsx\"\n",
    "    if not REPO_DIR.exists():\n",
    "        print(\"Cloning RMSX repo to retrieve sample data…\")\n",
    "        subprocess.check_call([\"git\", \"clone\", REPO_URL, str(REPO_DIR)])\n",
    "    test_dir = REPO_DIR / \"test_files\"\n",
    "    if not test_dir.exists():\n",
    "        raise FileNotFoundError(\"Couldn't locate test_files after cloning. Please report this issue.\")\n",
    "\n",
    "# Single-chain demo (Ubiquitin)\n",
    "pdb_file   = (test_dir / \"1UBQ.pdb\").as_posix()\n",
    "dcd_file   = (test_dir / \"mon_sys.dcd\").as_posix()\n",
    "output_dir = (test_dir / \"example_uqb\").as_posix()\n",
    "\n",
    "# Multi-chain demo (protease) — files live directly under test_files/\n",
    "pdb_file_multi   = (test_dir / \"protease_backbone.pdb\").as_posix()\n",
    "traj_file_multi  = (test_dir / \"short_protease_backbone.dcd\").as_posix()\n",
    "output_dir_multi = (test_dir / \"protease\").as_posix()\n",
    "\n",
    "print(\"Single-chain inputs:\")\n",
    "print(\"  PDB:\", pdb_file)\n",
    "print(\"  DCD:\", dcd_file)\n",
    "print(\"  out:\", output_dir)\n",
    "\n",
    "print(\"\\nMulti-chain inputs:\")\n",
    "print(\"  PDB:\", pdb_file_multi)\n",
    "print(\"  DCD:\", traj_file_multi)\n",
    "print(\"  out:\", output_dir_multi)"
   ]
  },
  {
   "cell_type": "markdown",
   "id": "single-chain",
   "metadata": {},
   "source": [
    "## 3) Single-Chain RMSX\n",
    "\n",
    "`run_rmsx` computes per-slice RMSX and generates:\n",
    "- RMSX heatmap\n",
    "- RMSD time series\n",
    "- RMSF per-residue\n",
    "\n",
    "Edit `palette` and `chain_sele` as needed. (For the included Ubiquitin demo, the chain is `\"7\"`.)"
   ]
  },
  {
   "cell_type": "code",
   "execution_count": null,
   "id": "run-single",
   "metadata": {},
   "outputs": [],
   "source": [
    "from rmsx import *\n",
    "\n",
    "run_rmsx(\n",
    "    topology_file=pdb_file,        # PDB or topology file\n",
    "    trajectory_file=dcd_file,      # Trajectory file\n",
    "    output_dir=output_dir,         # Where to save results\n",
    "    num_slices=9,                  # Select number of slices and it will autogenerate slice size \n",
    "    slice_size=None,               # OR: select slice size and it will choose number of slices \n",
    "    rscript_executable=os.environ.get('RSCRIPT', 'Rscript'),\n",
    "    verbose=False,                 \n",
    "    interpolate=False,             # Interpolate between heatmap cells (use with caution)\n",
    "    triple=True,                   # Generate RMSX, RMSD, and RMSF plots\n",
    "    overwrite=True,                # Automatically overwrite old directory\n",
    "    palette=\"mako\",                # Try other colors: viridis, turbo, magma or plasma etc.\n",
    "    chain_sele=\"7\",                # Set to your chain ID or None to be prompted with available chain \n",
    "    start_frame=0,                 # Default to the first frame of the simulation\n",
    "    end_frame=None                 # Default to None (last frame of simulation)\n",
    ")\n",
    "print(\"Done. Outputs in:\", output_dir)"
   ]
  },
  {
   "cell_type": "markdown",
   "id": "multi-chain",
   "metadata": {},
   "source": [
    "## 4) Multi-Chain RMSX\n",
    "\n",
    "`all_chain_rmsx` runs RMSX for **every** chain in the topology. If you set `sync_color_scale=True`,\n",
    "all plots share a consistent colorbar range."
   ]
  },
  {
   "cell_type": "code",
   "execution_count": null,
   "id": "run-multi",
   "metadata": {},
   "outputs": [],
   "source": [
    "\n",
    "all_chain_rmsx(\n",
    "    topology_file=pdb_file,\n",
    "    trajectory_file=dcd_file,\n",
    "    output_dir=output_dir,\n",
    "    num_slices=12,\n",
    "    slice_size=None,\n",
    "    rscript_executable=os.environ.get('RSCRIPT', 'Rscript'),\n",
    "    verbose=False,\n",
    "    interpolate=False,\n",
    "    triple=True,\n",
    "    overwrite=True,\n",
    "    palette=\"turbo\",\n",
    "    start_frame=0,\n",
    "    end_frame=None,\n",
    "    sync_color_scale=True           # Useful when chains have very different RMSX values, True will force the same color key/scale to be used\n",
    ")"
   ]
  },
  {
   "cell_type": "markdown",
   "id": "flipbook",
   "metadata": {},
   "source": [
    "## 5) FlipBook (optional)\n",
    "\n",
    "FlipBook maps RMSX values (stored in the PDB B-factor column) onto 3D structures and lays out snapshots side-by-side."
   ]
  },
  {
   "cell_type": "code",
   "execution_count": null,
   "id": "run-flipbook",
   "metadata": {},
   "outputs": [],
   "source": [
    "run_rmsx_flipbook(\n",
    "    topology_file=pdb_file_multi,\n",
    "    trajectory_file=traj_file_multi,\n",
    "    output_dir=output_dir_multi,\n",
    "    num_slices=9,\n",
    "    slice_size=None,\n",
    "    rscript_executable=os.environ.get('RSCRIPT', 'Rscript'),\n",
    "    verbose=False,\n",
    "    interpolate=False,\n",
    "    triple=True,\n",
    "    overwrite=True,\n",
    "    palette=\"turbo\",         # automatically matches color palette for heatmap and chimeraX structures \n",
    "    spacingFactor=\"0.9\",     # how much space between the snapshots; 1 is default\n",
    "    start_frame=0,\n",
    "    end_frame=None\n",
    ")"
   ]
  },
  {
   "cell_type": "markdown",
   "id": "flipbook-display",
   "metadata": {},
   "source": [
    "### 5.1 Display the latest FlipBook image (if generated)\n",
    "If you don't like the orientation, try adjusting it in ChimeraX and rerunning the save command (see the ChimeraX log for details)"
   ]
  },
  {
   "cell_type": "code",
   "execution_count": null,
   "id": "display-flipbook-img",
   "metadata": {},
   "outputs": [],
   "source": [
    "import glob\n",
    "from IPython.display import Image, display\n",
    "imgs = sorted(glob.glob(os.path.join(output_dir_multi, \"combined\", \"*.png\")))\n",
    "if imgs:\n",
    "    display(Image(filename=imgs[-1]))\n",
    "else:\n",
    "    print(\"No flipbook images found in:\", os.path.join(output_dir_multi, \"combined\"))"
   ]
  },
  {
   "cell_type": "markdown",
   "id": "interpretation",
   "metadata": {},
   "source": [
    "## 6) Interpreting Results\n",
    "\n",
    "If you want the flanking plots, `triple=True`, RMSX produces:\n",
    "- **RMSX heatmap** (residue × time slice)\n",
    "- **RMSD** over time \n",
    "- **RMSF** per residue\n",
    "\n",
    "**Questions to ask:**\n",
    "1. Which residues/regions show the most flexibility?\n",
    "2. When do flexibility spikes occur (early/mid/late)?\n",
    "3. Do multiple intervals of high fluctuation appear?\n",
    "4. How do these align with functional domains or events (e.g., binding, domain motion)?"
   ]
  },
  {
   "cell_type": "markdown",
   "id": "conclusions",
   "metadata": {},
   "source": [
    "---\n",
    "### Conclusions\n",
    "\n",
    "You’ve seen how to:\n",
    "1. Install and configure **RMSX** and **Flipbook**\n",
    "2. Run single- and multi-chain analyses\n",
    "3. Generate FlipBook snapshots (optional)\n",
    "4. Interpret RMSX plots (when/where the biggest changes happen)\n",
    "\n",
    "For more details, visit the GitHub repo or open an issue with questions.\n",
    "\n",
    "Feel free to email the primary developer Finn Beruldsen at fpberuld@cougarnet.uh.edu if you need anything else.\n"
   ]
  },
  {
   "cell_type": "markdown",
   "id": "acks",
   "metadata": {},
   "source": [
    "### Acknowledgements\n",
    "We thank the following beta tests for their valuable feedback on this tutorial:\n",
    "- Mason Kretiv — Texas A&M University\n",
    "- Helen Ashdown — NIH Biowulf\n",
    "- John Miles — University of Missouri"
   ]
  }
 ],
 "metadata": {
  "kernelspec": {
   "display_name": "Python 3 (ipykernel)",
   "language": "python",
   "name": "python3"
  },
  "language_info": {
   "codemirror_mode": {
    "name": "ipython",
    "version": 3
   },
   "file_extension": ".py",
   "mimetype": "text/x-python",
   "name": "python",
   "nbconvert_exporter": "python",
   "pygments_lexer": "ipython3",
   "version": "3.10.9"
  }
 },
 "nbformat": 4,
 "nbformat_minor": 5
}
